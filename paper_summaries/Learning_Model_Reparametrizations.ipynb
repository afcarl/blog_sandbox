{
 "cells": [
  {
   "cell_type": "code",
   "execution_count": 1,
   "metadata": {
    "collapsed": false
   },
   "outputs": [],
   "source": [
    "import cPickle as cp\n",
    "\n",
    "from IPython.display import Image\n",
    "import matplotlib\n",
    "import matplotlib.pyplot as plt\n",
    "import matplotlib.mlab as mlab\n",
    "from matplotlib.mlab import bivariate_normal\n",
    "\n",
    "import autograd.numpy as np\n",
    "from autograd import grad\n",
    "%matplotlib inline"
   ]
  },
  {
   "cell_type": "code",
   "execution_count": 2,
   "metadata": {
    "collapsed": false
   },
   "outputs": [],
   "source": [
    "dim = 2\n",
    "plot_x_lim = [-6, 6]\n",
    "plot_y_lim = [-30, 10]\n",
    "x = np.arange(plot_x_lim[0], plot_x_lim[1], 0.5)\n",
    "y = np.arange(plot_y_lim[0], plot_y_lim[1], 0.5)\n",
    "X, Y = np.meshgrid(x, y)"
   ]
  },
  {
   "cell_type": "markdown",
   "metadata": {
    "collapsed": false
   },
   "source": [
    "Let's define a function to perform AdaM updates..."
   ]
  },
  {
   "cell_type": "code",
   "execution_count": 3,
   "metadata": {
    "collapsed": false
   },
   "outputs": [],
   "source": [
    "# AdaM: Adaptive Moments Optimizer\n",
    "## Params\n",
    "### alpha0: base learning rate\n",
    "### grad: current gradient\n",
    "### adam_values: dictionary containing moment estimates\n",
    "\n",
    "def get_AdaM_update(alpha_0, grad, adam_values, b1=.95, b2=.999, e=1e-8):\n",
    "    adam_values['t'] += 1\n",
    "\n",
    "    # update mean                                                                                                                                                                                                     \n",
    "    adam_values['mean'] = b1 * adam_values['mean'] + (1-b1) * grad\n",
    "    m_hat = adam_values['mean'] / (1-b1**adam_values['t'])\n",
    "\n",
    "    # update variance                                                                                                                                                                                                 \n",
    "    adam_values['var'] = b2 * adam_values['var'] + (1-b2) * grad**2\n",
    "    v_hat = adam_values['var'] / (1-b2**adam_values['t'])\n",
    "\n",
    "    return alpha_0 * m_hat/(np.sqrt(v_hat) + e)"
   ]
  },
  {
   "cell_type": "markdown",
   "metadata": {},
   "source": [
    "### [Learning Model Reparametrizations](https://arxiv.org/abs/1708.01529)\n",
    "#### By Michalis K. Titsias\n",
    "\n",
    "The idea behind *Learning Model Reparametrizations* is to parametrize the variable of interest as a transformation of the form: $$ \\boldsymbol{\\theta} = g(\\boldsymbol{\\xi}; \\boldsymbol{\\phi}), \\ \\boldsymbol{\\xi} \\sim p_{0} $$ where $\\boldsymbol{\\theta}$ is the model variable, $\\boldsymbol{\\phi}$ are the transformation parameters, and $p_{0}$ is a fixed distribution.  MCMC is performed to collect $\\boldsymbol{\\xi}$ samples, which, ostensibly, is easier than collecting samples of $\\boldsymbol{\\theta}$ directly as we are aided by the transformation.  In order to compute the joint likelihood, the transformation must be invertible: $$ p(\\mathbf{x}, \\boldsymbol{\\xi}; \\boldsymbol{\\theta}) = p(\\mathbf{x}, g(\\boldsymbol{\\xi})) \\ \\mid \\text{det} \\ \\nabla_{\\boldsymbol{\\xi}} \\  g(\\boldsymbol{\\xi}; \\boldsymbol{\\phi}) \\mid $$"
   ]
  },
  {
   "cell_type": "markdown",
   "metadata": {},
   "source": [
    "### Experiment: Collecting samples from the banana distribution\n",
    "Let's draw data from the classic MCMC test case: the banana distribution..."
   ]
  },
  {
   "cell_type": "code",
   "execution_count": 4,
   "metadata": {
    "collapsed": false
   },
   "outputs": [
    {
     "data": {
      "image/png": "[encoded data removed]",
      "text/plain": [
       "<matplotlib.figure.Figure at 0x10b176110>"
      ]
     },
     "metadata": {},
     "output_type": "display_data"
    }
   ],
   "source": [
    "### Make Dataset\n",
    "N = 1000\n",
    "data = np.random.normal(size=(N, dim))\n",
    "z1 = 1.25*data[:,0]\n",
    "z2 = data[:,1]/1.25 - 1.5*(z1**2 + 1.25)\n",
    "data = np.hstack([z1[np.newaxis].T, z2[np.newaxis].T])\n",
    "np.random.shuffle(data)\n",
    "\n",
    "plt.scatter(data[:,0], data[:,1], marker='x', s=25, c='k', alpha=.7)\n",
    "\n",
    "plt.xlim([plot_x_lim[0], plot_x_lim[1]])\n",
    "plt.ylim([plot_y_lim[0], plot_y_lim[1]])\n",
    "plt.show()"
   ]
  },
  {
   "cell_type": "markdown",
   "metadata": {},
   "source": [
    "### Method\n",
    "\n",
    "Let's define the necessary primatives..."
   ]
  },
  {
   "cell_type": "code",
   "execution_count": 12,
   "metadata": {
    "collapsed": false
   },
   "outputs": [],
   "source": [
    "# Gaussian\n",
    "def logGaussPdf(x, params):\n",
    "    # params: {'mu': mean, 'sigma': standard dev.}\n",
    "    return  -.5/params['sigma']**2 * (x-params['mu'])**2 + -.5 * np.log(2*np.pi*params['sigma']**2)\n",
    "\n",
    "# Gaussian model\n",
    "def logModel(data, theta, logSigma):\n",
    "    return np.sum(logGaussPdf(data, {'mu':theta, 'sigma': np.exp(logSigma)}))\n",
    "\n",
    "# Gaussian model with lower triangular inv transform\n",
    "def logModel_w_transform(data, mu, logL, e, logSigma):\n",
    "    L = np.exp(logL)\n",
    "    theta = mu + np.dot(e, L)\n",
    "    return logModel(data, theta, logSigma) - np.sum(np.log(np.diag(L)))"
   ]
  },
  {
   "cell_type": "code",
   "execution_count": 13,
   "metadata": {
    "collapsed": false
   },
   "outputs": [],
   "source": [
    "dLogModelWithTransform_dMu = grad(lambda mu, data, logL, e, logSigma: logModel_w_transform(data, mu, logL, e, logSigma))\n",
    "\n",
    "dLogModelWithTransform_dLogL = grad(lambda logL, data, mu, e, logSigma: logModel_w_transform(data, mu, logL, e, logSigma))\n",
    "\n",
    "dLogModel_dLogSigma = grad(lambda logSigma, data, theta: logModel(data, theta, logSigma))"
   ]
  },
  {
   "cell_type": "code",
   "execution_count": 28,
   "metadata": {
    "collapsed": false
   },
   "outputs": [],
   "source": [
    "def run_MH(data, logModel_w_transform, model_params, reparam_params, e0, n_MCMC_its):\n",
    "    samples = []\n",
    "    \n",
    "    for idx in range(n_MCMC_its):\n",
    "        proposal = np.random.normal(loc=e0, scale=1, size=(1,2))\n",
    "        \n",
    "        log_ratio = logModel_w_transform(data, reparam_params['mu'], reparam_params['logL'], proposal, model_params['logSigma']) \\\n",
    "                - logModel_w_transform(data, reparam_params['mu'], reparam_params['logL'], e0, model_params['logSigma'])\n",
    "        log_correction = np.sum(logGaussPdf(e0, {'mu':proposal, 'sigma':1.})) + np.sum(logGaussPdf(proposal, {'mu':e0, 'sigma':1.}))\n",
    "        \n",
    "        accept_prob = np.minimum(1., np.exp(log_ratio + log_correction))\n",
    "        uni_prob = np.random.uniform(low=0., high=1.)\n",
    "        \n",
    "        if uni_prob <= accept_prob:\n",
    "            samples.append(proposal)\n",
    "            e0 = proposal\n",
    "            \n",
    "    return samples"
   ]
  },
  {
   "cell_type": "code",
   "execution_count": 29,
   "metadata": {
    "collapsed": false
   },
   "outputs": [],
   "source": [
    "def run_implicitMCMC_VI(data, model_params, reparam_params, lr=.001, n_epochs=100, nChains=20, n_MCMC_its=100):\n",
    "    \n",
    "    adam_values = {'mu':{'mean': 0., 'var': 0., 't': 0}, \n",
    "                    'logL':{'mean': 0., 'var': 0., 't': 0},\n",
    "                    'logSigma':{'mean': 0., 'var': 0., 't': 0},\n",
    "                   }\n",
    "    \n",
    "    for it_idx in range(n_epochs):\n",
    "        \n",
    "        # update the reparametrization parameters\n",
    "        e_samples = []\n",
    "        for s in range(nChains):\n",
    "            e0 = np.array([[np.random.normal(scale=np.sqrt(2)), np.random.normal(loc=-25, scale=np.sqrt(3))]])\n",
    "            e_samples.append(run_MH(data, logModel_w_transform, model_params, reparam_params, e0, n_MCMC_its)[-1])\n",
    "        \n",
    "        grad_mu = 0.\n",
    "        grad_logL = 0.\n",
    "        for e in e_samples:\n",
    "            grad_mu += dLogModelWithTransform_dMu(reparam_params['mu'], data, reparam_params['logL'], e, model_params['logSigma']) / nChains\n",
    "            grad_logL += dLogModelWithTransform_dLogL(reparam_params['logL'], data, reparam_params['mu'], e, model_params['logSigma']) / nChains\n",
    "        \n",
    "        reparam_params['mu'] += get_AdaM_update(lr, grad_mu/len(e_samples), adam_values['mu']) \n",
    "        reparam_params['logL'] += np.tril( get_AdaM_update(lr, grad_logL, adam_values['logL']) )\n",
    "        \n",
    "        # update model params\n",
    "        thetas = []\n",
    "        for s in range(nChains):\n",
    "            e0 = np.array([[np.random.normal(scale=np.sqrt(2)), np.random.normal(loc=-25, scale=np.sqrt(3))]])\n",
    "            e_samples = run_MH(data, logModel_w_transform, model_params, reparam_params, e0, n_MCMC_its)\n",
    "            thetas.append( reparam_params['mu'] + np.dot(e_samples[-1], np.exp(reparam_params['logL'])) )\n",
    "        \n",
    "        grad_logSig = 0.\n",
    "        for theta in thetas:\n",
    "            grad_logSig += dLogModel_dLogSigma(model_params['logSigma'], data, theta) / nChains\n",
    "        \n",
    "        model_params['logSigma'] += get_AdaM_update(lr, grad_logSig, adam_values['logSigma'])\n",
    "        \n",
    "        # check data likelihood\n",
    "        print \"Epoch #%d, LL: %.4f\" %(it_idx+1, np.mean([logModel(data, theta, model_params['logSigma']) for theta in thetas]))\n",
    "\n",
    "    # get one more round of samples\n",
    "    final_e_samples = []\n",
    "    for s in range(500):\n",
    "        e0 = np.array([[np.random.normal(scale=2), np.random.normal(loc=-20, scale=3)]])\n",
    "        final_e_samples.append(run_MH(data, logModel_w_transform, model_params, reparam_params, e0, n_MCMC_its)[-1])\n",
    "    \n",
    "    return model_params, reparam_params, final_e_samples"
   ]
  },
  {
   "cell_type": "code",
   "execution_count": 30,
   "metadata": {
    "collapsed": false
   },
   "outputs": [
    {
     "name": "stdout",
     "output_type": "stream",
     "text": [
      "Epoch #1, LL: -13587.5895\n",
      "Epoch #2, LL: -9800.0471\n",
      "Epoch #3, LL: -8390.0623\n",
      "Epoch #4, LL: -10312.8637\n",
      "Epoch #5, LL: -10717.8768\n",
      "Epoch #6, LL: -8931.2642\n",
      "Epoch #7, LL: -8225.5981\n",
      "Epoch #8, LL: -9644.7737\n",
      "Epoch #9, LL: -7193.0159\n",
      "Epoch #10, LL: -7988.6527\n",
      "Epoch #11, LL: -6964.5131\n",
      "Epoch #12, LL: -6499.4415\n",
      "Epoch #13, LL: -6418.3584\n",
      "Epoch #14, LL: -6280.8692\n",
      "Epoch #15, LL: -5935.0759\n",
      "Epoch #16, LL: -5754.1342\n",
      "Epoch #17, LL: -5326.3577\n",
      "Epoch #18, LL: -5521.6235\n",
      "Epoch #19, LL: -5200.8563\n",
      "Epoch #20, LL: -5217.9006\n",
      "Epoch #21, LL: -4986.2370\n",
      "Epoch #22, LL: -5234.7636\n",
      "Epoch #23, LL: -4925.9150\n",
      "Epoch #24, LL: -4939.0298\n",
      "Epoch #25, LL: -5165.5477\n",
      "Epoch #26, LL: -4868.5404\n",
      "Epoch #27, LL: -4959.8451\n",
      "Epoch #28, LL: -5026.7668\n",
      "Epoch #29, LL: -5000.2023\n",
      "Epoch #30, LL: -4879.1470\n",
      "Epoch #31, LL: -4753.2071\n",
      "Epoch #32, LL: -4985.7861\n",
      "Epoch #33, LL: -4710.0620\n",
      "Epoch #34, LL: -4635.4906\n",
      "Epoch #35, LL: -4649.9998\n",
      "Epoch #36, LL: -4606.4005\n",
      "Epoch #37, LL: -4563.1901\n",
      "Epoch #38, LL: -4549.2831\n",
      "Epoch #39, LL: -4505.2579\n",
      "Epoch #40, LL: -4527.0912\n",
      "Epoch #41, LL: -4486.9204\n",
      "Epoch #42, LL: -4457.8228\n",
      "Epoch #43, LL: -4485.9971\n",
      "Epoch #44, LL: -4445.1031\n",
      "Epoch #45, LL: -4442.2254\n",
      "Epoch #46, LL: -4462.1769\n",
      "Epoch #47, LL: -4430.0179\n",
      "Epoch #48, LL: -4433.1979\n",
      "Epoch #49, LL: -4421.4471\n",
      "Epoch #50, LL: -4446.8939\n",
      "Epoch #51, LL: -4432.2058\n",
      "Epoch #52, LL: -4435.5635\n",
      "Epoch #53, LL: -4416.6006\n",
      "Epoch #54, LL: -4401.2141\n",
      "Epoch #55, LL: -4410.8814\n",
      "Epoch #56, LL: -4639.2228\n",
      "Epoch #57, LL: -4403.4625\n",
      "Epoch #58, LL: -4412.0636\n",
      "Epoch #59, LL: -4402.1710\n",
      "Epoch #60, LL: -4382.4275\n",
      "Epoch #61, LL: -4372.8486\n",
      "Epoch #62, LL: -4382.8048\n",
      "Epoch #63, LL: -4380.4493\n",
      "Epoch #64, LL: -4378.8673\n",
      "Epoch #65, LL: -4369.3962\n",
      "Epoch #66, LL: -4363.5199\n",
      "Epoch #67, LL: -4361.7806\n",
      "Epoch #68, LL: -4347.8337\n",
      "Epoch #69, LL: -4431.9117\n",
      "Epoch #70, LL: -4370.3414\n",
      "Epoch #71, LL: -4336.6358\n",
      "Epoch #72, LL: -4658.1587\n",
      "Epoch #73, LL: -4333.3211\n",
      "Epoch #74, LL: -4329.8589\n",
      "Epoch #75, LL: -4336.6724\n",
      "Epoch #76, LL: -4326.1137\n",
      "Epoch #77, LL: -4320.9097\n",
      "Epoch #78, LL: -4343.8600\n",
      "Epoch #79, LL: -4348.6399\n",
      "Epoch #80, LL: -4315.4828\n",
      "Epoch #81, LL: -4340.8927\n",
      "Epoch #82, LL: -4313.8586\n",
      "Epoch #83, LL: -4344.9175\n",
      "Epoch #84, LL: -4316.0106\n",
      "Epoch #85, LL: -4322.4356\n",
      "Epoch #86, LL: -4305.8142\n",
      "Epoch #87, LL: -4311.5776\n",
      "Epoch #88, LL: -4315.5111\n",
      "Epoch #89, LL: -4307.4590\n",
      "Epoch #90, LL: -4302.8285\n",
      "Epoch #91, LL: -4303.9852\n",
      "Epoch #92, LL: -4306.3540\n",
      "Epoch #93, LL: -4301.0328\n",
      "Epoch #94, LL: -4315.3361\n",
      "Epoch #95, LL: -4305.4123\n",
      "Epoch #96, LL: -4298.8948\n",
      "Epoch #97, LL: -4396.7825\n",
      "Epoch #98, LL: -4302.1376\n",
      "Epoch #99, LL: -4297.7673\n",
      "Epoch #100, LL: -4384.1888\n"
     ]
    }
   ],
   "source": [
    "# INIT PARAMS\n",
    "model_params = {'logSigma': np.zeros((1,2))}\n",
    "reparam_params = {'logL': np.eye(2)*.01, 'mu': np.zeros((1,2))}\n",
    "\n",
    "\n",
    "maxEpochs = 100\n",
    "learning_rate = .03\n",
    "nChains = 50\n",
    "nMCMCSteps = 50\n",
    "\n",
    "model_params, reparam_params, final_e_samples = run_implicitMCMC_VI(data, model_params, reparam_params, \\\n",
    "                                                                    lr=learning_rate, n_epochs=maxEpochs,\\\n",
    "                                                                    nChains=nChains, n_MCMC_its=nMCMCSteps)\n",
    "\n",
    "final_theta_samples = [reparam_params['mu'] + np.dot(e, np.exp(reparam_params['logL'])) for e in final_e_samples]\n",
    "\n",
    "x_samples = []\n",
    "for theta in final_theta_samples:\n",
    "    for s in range(1):\n",
    "        x_samples.append( theta + np.random.normal(size=(1,2))*np.exp(model_params['logSigma']) ) \n",
    "\n",
    "final_theta_samples = np.array(final_theta_samples)[:,0,:]\n",
    "x_samples = np.array(x_samples)[:,0,:]"
   ]
  },
  {
   "cell_type": "code",
   "execution_count": 31,
   "metadata": {
    "collapsed": false
   },
   "outputs": [
    {
     "data": {
      "image/png": "[encoded data removed]",
      "text/plain": [
       "<matplotlib.figure.Figure at 0x10b26e5d0>"
      ]
     },
     "metadata": {},
     "output_type": "display_data"
    }
   ],
   "source": [
    "Z = bivariate_normal(X, Y, sigmax=np.sqrt(2), sigmay=np.sqrt(3), mux=0, muy=-25)\n",
    "plt.contour(X,Y,Z, colors='blue', linewidths=3)\n",
    "\n",
    "plt.scatter(data[:,0], data[:,1], marker='x', s=25, c='k', alpha=.7)\n",
    "plt.scatter(x_samples[:,0], x_samples[:,1], marker='x', s=25, c='r', alpha=.7)\n",
    "\n",
    "plt.xlim([plot_x_lim[0], plot_x_lim[1]])\n",
    "plt.ylim([plot_y_lim[0], plot_y_lim[1]])\n",
    "plt.show()"
   ]
  }
 ],
 "metadata": {
  "kernelspec": {
   "display_name": "Python 2",
   "language": "python",
   "name": "python2"
  },
  "language_info": {
   "codemirror_mode": {
    "name": "ipython",
    "version": 2
   },
   "file_extension": ".py",
   "mimetype": "text/x-python",
   "name": "python",
   "nbconvert_exporter": "python",
   "pygments_lexer": "ipython2",
   "version": "2.7.11"
  }
 },
 "nbformat": 4,
 "nbformat_minor": 1
}
