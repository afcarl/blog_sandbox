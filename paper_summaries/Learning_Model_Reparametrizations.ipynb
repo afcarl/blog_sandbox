{
 "cells": [
  {
   "cell_type": "code",
   "execution_count": 1,
   "metadata": {
    "collapsed": false
   },
   "outputs": [],
   "source": [
    "import cPickle as cp\n",
    "\n",
    "from IPython.display import Image\n",
    "import matplotlib\n",
    "import matplotlib.pyplot as plt\n",
    "import matplotlib.mlab as mlab\n",
    "from matplotlib.mlab import bivariate_normal\n",
    "\n",
    "import autograd.numpy as np\n",
    "from autograd import grad\n",
    "%matplotlib inline"
   ]
  },
  {
   "cell_type": "code",
   "execution_count": 2,
   "metadata": {
    "collapsed": false
   },
   "outputs": [],
   "source": [
    "dim = 2\n",
    "plot_x_lim = [-6, 6]\n",
    "plot_y_lim = [-40, 10]\n",
    "x = np.arange(plot_x_lim[0], plot_x_lim[1], 0.5)\n",
    "y = np.arange(plot_y_lim[0], plot_y_lim[1], 0.5)\n",
    "X, Y = np.meshgrid(x, y)"
   ]
  },
  {
   "cell_type": "markdown",
   "metadata": {
    "collapsed": false
   },
   "source": [
    "Let's define a function to perform AdaM updates..."
   ]
  },
  {
   "cell_type": "code",
   "execution_count": 3,
   "metadata": {
    "collapsed": false
   },
   "outputs": [],
   "source": [
    "# AdaM: Adaptive Moments Optimizer\n",
    "## Params\n",
    "### alpha0: base learning rate\n",
    "### grad: current gradient\n",
    "### adam_values: dictionary containing moment estimates\n",
    "\n",
    "def get_AdaM_update(alpha_0, grad, adam_values, b1=.95, b2=.999, e=1e-8):\n",
    "    adam_values['t'] += 1\n",
    "\n",
    "    # update mean                                                                                                                                                                                                     \n",
    "    adam_values['mean'] = b1 * adam_values['mean'] + (1-b1) * grad\n",
    "    m_hat = adam_values['mean'] / (1-b1**adam_values['t'])\n",
    "\n",
    "    # update variance                                                                                                                                                                                                 \n",
    "    adam_values['var'] = b2 * adam_values['var'] + (1-b2) * grad**2\n",
    "    v_hat = adam_values['var'] / (1-b2**adam_values['t'])\n",
    "\n",
    "    return alpha_0 * m_hat/(np.sqrt(v_hat) + e)"
   ]
  },
  {
   "cell_type": "markdown",
   "metadata": {},
   "source": [
    "### Learning Model Reparametrizations\n",
    "#### By Michalis K. Titsias\n",
    "\n",
    "The idea behind [Learning Model Reparametrizations](https://arxiv.org/abs/1708.01529) is to parametrize a transformation involving the variable of interest and samples from a fixed distribution: $$ \\boldsymbol{\\theta} = g(\\boldsymbol{\\xi}; \\boldsymbol{\\phi}), \\ \\boldsymbol{\\xi} \\sim p_{0} $$ where $\\boldsymbol{\\theta}$ is the model variable, $\\boldsymbol{\\phi}$ are the transformation parameters, and $p_{0}$ the fixed distribution.  Then MCMC can be run to collect $\\boldsymbol{\\xi}$ samples, which, ostensibly, is easier than collecting samples of $\\boldsymbol{\\theta}$ directly."
   ]
  },
  {
   "cell_type": "markdown",
   "metadata": {},
   "source": [
    "### Experiment: Collecting samples from the banana distribution\n",
    "Let's draw data from the classic MCMC test case: the banana distribution..."
   ]
  },
  {
   "cell_type": "code",
   "execution_count": 4,
   "metadata": {
    "collapsed": false
   },
   "outputs": [
    {
     "data": {
      "image/png": "[encoded data removed]",
      "text/plain": [
       "<matplotlib.figure.Figure at 0x10b196450>"
      ]
     },
     "metadata": {},
     "output_type": "display_data"
    }
   ],
   "source": [
    "### Make Dataset\n",
    "N = 1000\n",
    "data = np.random.normal(size=(N, dim))\n",
    "z1 = 1.25*data[:,0]\n",
    "z2 = data[:,1]/1.25 - 2*(z1**2 + 1.25)\n",
    "data = np.hstack([z1[np.newaxis].T, z2[np.newaxis].T])\n",
    "np.random.shuffle(data)\n",
    "\n",
    "plt.scatter(data[:,0], data[:,1], marker='x', s=25, c='k', alpha=.7)\n",
    "\n",
    "plt.xlim([plot_x_lim[0], plot_x_lim[1]])\n",
    "plt.ylim([plot_y_lim[0], plot_y_lim[1]])\n",
    "plt.show()"
   ]
  },
  {
   "cell_type": "markdown",
   "metadata": {},
   "source": [
    "### Method\n",
    "\n",
    "Let's define the necessary primatives..."
   ]
  },
  {
   "cell_type": "code",
   "execution_count": 9,
   "metadata": {
    "collapsed": false
   },
   "outputs": [],
   "source": [
    "# Gaussian\n",
    "def gaussPdf(x, params):\n",
    "    # params: {'mu': mean, 'sigma': standard dev.}\n",
    "    return (1./np.sqrt(2*np.pi*params['sigma']**2)) * np.exp((-.5/params['sigma']**2) * np.sum((x-params['mu'])**2))\n",
    "\n",
    "# Gaussian model\n",
    "def logModel(data, theta, logSigma):\n",
    "    return np.sum(np.log(gaussPdf(data, {'mu':theta, 'sigma': np.exp(logSigma)})))\n",
    "\n",
    "# Gaussian model with lower triangular inv transform\n",
    "def logModel_w_transform(data, mu, logL, e, logSigma):\n",
    "    L = np.exp(logL)\n",
    "    theta = mu + np.dot(e, L)\n",
    "    return logModel(data, theta, logSigma) - np.sum(np.log(np.diagonal(L)))"
   ]
  },
  {
   "cell_type": "code",
   "execution_count": 10,
   "metadata": {
    "collapsed": false
   },
   "outputs": [],
   "source": [
    "dLogModelWithTransform_dMu = grad(lambda mu, data, logL, e, sigma: logModel_w_transform(data, mu, logL, e, sigma))\n",
    "\n",
    "dLogModelWithTransform_dLogL = grad(lambda logL, data, mu, e, sigma: logModel_w_transform(data, mu, logL, e, sigma))\n",
    "\n",
    "dLogModel_dLogSigma = grad(lambda logSigma, data, theta: logModel(data, theta, logSigma))"
   ]
  },
  {
   "cell_type": "code",
   "execution_count": 12,
   "metadata": {
    "collapsed": false
   },
   "outputs": [],
   "source": [
    "def run_MH(data, logModel_w_transform, model_params, reparam_params, e0, n_MCMC_its):\n",
    "    samples = []\n",
    "    \n",
    "    for idx in range(n_MCMC_its):\n",
    "        proposal = np.random.normal(loc=e0, size=(1,2))\n",
    "        \n",
    "        ratio = np.exp(logModel_w_transform(data, reparam_params['mu'], reparam_params['logL'], e0, model_params['logSigma']) \\\n",
    "                - logModel_w_transform(data, reparam_params['mu'], reparam_params['logL'], proposal, model_params['logSigma']))\n",
    "        correction = gaussPdf(e0, {'mu':proposal, 'sigma':1.}) / gaussPdf(proposal, {'mu':e0, 'sigma':1.})\n",
    "        \n",
    "        accept_prob = np.minimum(1., ratio * correction)\n",
    "        uni_prob = np.random.uniform(low=0., high=1.)\n",
    "        \n",
    "        if uni_prob <= accept_prob:\n",
    "            samples.append(proposal)\n",
    "            e0 = proposal\n",
    "            \n",
    "    return samples"
   ]
  },
  {
   "cell_type": "code",
   "execution_count": 19,
   "metadata": {
    "collapsed": false
   },
   "outputs": [],
   "source": [
    "def run_implicitMCMC_VI(data, model_params, reparam_params, lr=.001, n_epochs=100, n_MCMC_its=100):\n",
    "    \n",
    "    adam_values = [{'mu':{'mean': 0., 'var': 0., 't': 0}, \n",
    "                    'logL':{'mean': 0., 'var': 0., 't': 0},\n",
    "                    'logSigma':{'mean': 0., 'var': 0., 't': 0},\n",
    "                   }]\n",
    "    \n",
    "    for it_idx in range(n_epochs):\n",
    "        \n",
    "        # update the reparametrization parameters\n",
    "        e0 = np.random.normal(size=(1,2))\n",
    "        e_samples = run_MH(data, logModel_w_transform, model_params, reparam_params, e0, n_MCMC_its)\n",
    "        \n",
    "        grad_mu = 0.\n",
    "        grad_logL = 0.\n",
    "        for e in e_samples:\n",
    "            grad_mu += dLogModelWithTransform_dMu(reparam_params['mu'], data, model_params['logSigma'], e)\n",
    "            grad_logL += dLogModelWithTransform_dL(reparam_params['logL'], data, model_params['logSigma'], e)\n",
    "        \n",
    "        reparam_params['mu'] += get_AdaM_update(lr, grad_mu/len(e_samples), adam_values['mu']) \n",
    "        reparam_params['logL'] += np.tril( get_AdaM_update(lr, grad_logL/len(e_samples), adam_values['logL']) )\n",
    "        \n",
    "        # update model params\n",
    "        e0 = np.random.normal(size=(1,2))\n",
    "        e_samples = run_MH(data, logModel_w_transform, model_params, reparam_params, e0, n_MCMC_its)\n",
    "        thetas = [reparam_params['mu'] + np.dot(e, np.exp(reparam_params['logL'])) for e in e_samples]\n",
    "        \n",
    "        grad_logSig = 0.\n",
    "        for theta in thetas:\n",
    "            grad_logSig += dLogModel_dLogSigma(model_params['logSigma'], data, theta)\n",
    "        \n",
    "        model_params['logSigma'] += get_AdaM_update(lr, grad_logSig/len(thetas), adam_values['logSigma'])\n",
    "\n",
    "    # get one more round of samples\n",
    "    final_e_samples = run_MH(data, modelWithTransform, reparam_params, proposal, e0, n_MCMC_its)\n",
    "    \n",
    "    return model_params, reparam_params, final_e_samples"
   ]
  },
  {
   "cell_type": "code",
   "execution_count": 20,
   "metadata": {
    "collapsed": false
   },
   "outputs": [
    {
     "name": "stderr",
     "output_type": "stream",
     "text": [
      "/Users/enalisnick/anaconda/lib/python2.7/site-packages/ipykernel/__main__.py:7: RuntimeWarning: invalid value encountered in double_scalars\n"
     ]
    },
    {
     "ename": "ZeroDivisionError",
     "evalue": "float division by zero",
     "output_type": "error",
     "traceback": [
      "\u001b[0;31m---------------------------------------------------------------------------\u001b[0m",
      "\u001b[0;31mZeroDivisionError\u001b[0m                         Traceback (most recent call last)",
      "\u001b[0;32m<ipython-input-20-148ebd710901>\u001b[0m in \u001b[0;36m<module>\u001b[0;34m()\u001b[0m\n\u001b[1;32m      7\u001b[0m \u001b[0mlearning_rate\u001b[0m \u001b[0;34m=\u001b[0m \u001b[0;36m.01\u001b[0m\u001b[0;34m\u001b[0m\u001b[0m\n\u001b[1;32m      8\u001b[0m \u001b[0;34m\u001b[0m\u001b[0m\n\u001b[0;32m----> 9\u001b[0;31m \u001b[0mmodel_params\u001b[0m\u001b[0;34m,\u001b[0m \u001b[0mreparam_params\u001b[0m\u001b[0;34m,\u001b[0m \u001b[0mfinal_e_samples\u001b[0m \u001b[0;34m=\u001b[0m \u001b[0mrun_implicitMCMC_VI\u001b[0m\u001b[0;34m(\u001b[0m\u001b[0mdata\u001b[0m\u001b[0;34m,\u001b[0m \u001b[0mmodel_params\u001b[0m\u001b[0;34m,\u001b[0m \u001b[0mreparam_params\u001b[0m\u001b[0;34m,\u001b[0m                                                                     \u001b[0mlr\u001b[0m\u001b[0;34m=\u001b[0m\u001b[0mlearning_rate\u001b[0m\u001b[0;34m,\u001b[0m \u001b[0mn_epochs\u001b[0m\u001b[0;34m=\u001b[0m\u001b[0mmaxEpochs\u001b[0m\u001b[0;34m,\u001b[0m                                                                    \u001b[0mn_MCMC_its\u001b[0m\u001b[0;34m=\u001b[0m\u001b[0;36m100\u001b[0m\u001b[0;34m)\u001b[0m\u001b[0;34m\u001b[0m\u001b[0m\n\u001b[0m\u001b[1;32m     10\u001b[0m \u001b[0;34m\u001b[0m\u001b[0m\n\u001b[1;32m     11\u001b[0m \u001b[0mfinal_theta_samples\u001b[0m \u001b[0;34m=\u001b[0m \u001b[0mnp\u001b[0m\u001b[0;34m.\u001b[0m\u001b[0marray\u001b[0m\u001b[0;34m(\u001b[0m\u001b[0;34m[\u001b[0m\u001b[0mreparam_params\u001b[0m\u001b[0;34m[\u001b[0m\u001b[0;34m'mu'\u001b[0m\u001b[0;34m]\u001b[0m \u001b[0;34m+\u001b[0m \u001b[0mnp\u001b[0m\u001b[0;34m.\u001b[0m\u001b[0mdot\u001b[0m\u001b[0;34m(\u001b[0m\u001b[0me\u001b[0m\u001b[0;34m,\u001b[0m \u001b[0mnp\u001b[0m\u001b[0;34m.\u001b[0m\u001b[0mexp\u001b[0m\u001b[0;34m(\u001b[0m\u001b[0mreparam_params\u001b[0m\u001b[0;34m[\u001b[0m\u001b[0;34m'logL'\u001b[0m\u001b[0;34m]\u001b[0m\u001b[0;34m)\u001b[0m\u001b[0;34m)\u001b[0m \u001b[0;32mfor\u001b[0m \u001b[0me\u001b[0m \u001b[0;32min\u001b[0m \u001b[0mfinal_e_samples\u001b[0m\u001b[0;34m]\u001b[0m\u001b[0;34m)\u001b[0m\u001b[0;34m\u001b[0m\u001b[0m\n",
      "\u001b[0;32m<ipython-input-19-0059f17c1ff4>\u001b[0m in \u001b[0;36mrun_implicitMCMC_VI\u001b[0;34m(data, model_params, reparam_params, lr, n_epochs, n_MCMC_its)\u001b[0m\n\u001b[1;32m     18\u001b[0m             \u001b[0mgrad_logL\u001b[0m \u001b[0;34m+=\u001b[0m \u001b[0mdLogModelWithTransform_dL\u001b[0m\u001b[0;34m(\u001b[0m\u001b[0mreparam_params\u001b[0m\u001b[0;34m[\u001b[0m\u001b[0;34m'logL'\u001b[0m\u001b[0;34m]\u001b[0m\u001b[0;34m,\u001b[0m \u001b[0mdata\u001b[0m\u001b[0;34m,\u001b[0m \u001b[0mmodel_params\u001b[0m\u001b[0;34m[\u001b[0m\u001b[0;34m'logSigma'\u001b[0m\u001b[0;34m]\u001b[0m\u001b[0;34m,\u001b[0m \u001b[0me\u001b[0m\u001b[0;34m)\u001b[0m\u001b[0;34m\u001b[0m\u001b[0m\n\u001b[1;32m     19\u001b[0m \u001b[0;34m\u001b[0m\u001b[0m\n\u001b[0;32m---> 20\u001b[0;31m         \u001b[0mreparam_params\u001b[0m\u001b[0;34m[\u001b[0m\u001b[0;34m'mu'\u001b[0m\u001b[0;34m]\u001b[0m \u001b[0;34m+=\u001b[0m \u001b[0mget_AdaM_update\u001b[0m\u001b[0;34m(\u001b[0m\u001b[0mlr\u001b[0m\u001b[0;34m,\u001b[0m \u001b[0mgrad_mu\u001b[0m\u001b[0;34m/\u001b[0m\u001b[0mlen\u001b[0m\u001b[0;34m(\u001b[0m\u001b[0me_samples\u001b[0m\u001b[0;34m)\u001b[0m\u001b[0;34m,\u001b[0m \u001b[0madam_values\u001b[0m\u001b[0;34m[\u001b[0m\u001b[0;34m'mu'\u001b[0m\u001b[0;34m]\u001b[0m\u001b[0;34m)\u001b[0m\u001b[0;34m\u001b[0m\u001b[0m\n\u001b[0m\u001b[1;32m     21\u001b[0m         \u001b[0mreparam_params\u001b[0m\u001b[0;34m[\u001b[0m\u001b[0;34m'logL'\u001b[0m\u001b[0;34m]\u001b[0m \u001b[0;34m+=\u001b[0m \u001b[0mnp\u001b[0m\u001b[0;34m.\u001b[0m\u001b[0mtril\u001b[0m\u001b[0;34m(\u001b[0m \u001b[0mget_AdaM_update\u001b[0m\u001b[0;34m(\u001b[0m\u001b[0mlr\u001b[0m\u001b[0;34m,\u001b[0m \u001b[0mgrad_logL\u001b[0m\u001b[0;34m/\u001b[0m\u001b[0mlen\u001b[0m\u001b[0;34m(\u001b[0m\u001b[0me_samples\u001b[0m\u001b[0;34m)\u001b[0m\u001b[0;34m,\u001b[0m \u001b[0madam_values\u001b[0m\u001b[0;34m[\u001b[0m\u001b[0;34m'logL'\u001b[0m\u001b[0;34m]\u001b[0m\u001b[0;34m)\u001b[0m \u001b[0;34m)\u001b[0m\u001b[0;34m\u001b[0m\u001b[0m\n\u001b[1;32m     22\u001b[0m \u001b[0;34m\u001b[0m\u001b[0m\n",
      "\u001b[0;31mZeroDivisionError\u001b[0m: float division by zero"
     ]
    }
   ],
   "source": [
    "# INIT PARAMS\n",
    "model_params = {'logSigma': np.zeros((1,2))}\n",
    "reparam_params = {'logL': np.eye(2), 'mu': np.zeros((1,2))}\n",
    "\n",
    "\n",
    "maxEpochs = 50\n",
    "learning_rate = .01\n",
    "\n",
    "model_params, reparam_params, final_e_samples = run_implicitMCMC_VI(data, model_params, reparam_params, \\\n",
    "                                                                    lr=learning_rate, n_epochs=maxEpochs,\\\n",
    "                                                                    n_MCMC_its=100)\n",
    "\n",
    "final_theta_samples = np.array([reparam_params['mu'] + np.dot(e, np.exp(reparam_params['logL'])) for e in final_e_samples])"
   ]
  },
  {
   "cell_type": "code",
   "execution_count": null,
   "metadata": {
    "collapsed": false
   },
   "outputs": [],
   "source": [
    "plt.scatter(data[:,0], data[:,1], marker='x', s=25, c='k', alpha=.7)\n",
    "plt.scatter(final_theta_samples[:,0], final_theta_samples[:,1], marker='x', s=25, c='r', alpha=.7)\n",
    "\n",
    "plt.xlim([plot_x_lim[0], plot_x_lim[1]])\n",
    "plt.ylim([plot_y_lim[0], plot_y_lim[1]])\n",
    "plt.show()"
   ]
  }
 ],
 "metadata": {
  "kernelspec": {
   "display_name": "Python 2",
   "language": "python",
   "name": "python2"
  },
  "language_info": {
   "codemirror_mode": {
    "name": "ipython",
    "version": 2
   },
   "file_extension": ".py",
   "mimetype": "text/x-python",
   "name": "python",
   "nbconvert_exporter": "python",
   "pygments_lexer": "ipython2",
   "version": "2.7.11"
  }
 },
 "nbformat": 4,
 "nbformat_minor": 1
}
