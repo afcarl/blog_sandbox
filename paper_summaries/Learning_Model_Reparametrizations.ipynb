{
 "cells": [
  {
   "cell_type": "code",
   "execution_count": 4,
   "metadata": {
    "collapsed": false
   },
   "outputs": [],
   "source": [
    "import cPickle as cp\n",
    "\n",
    "from IPython.display import Image\n",
    "import matplotlib\n",
    "import matplotlib.pyplot as plt\n",
    "import matplotlib.mlab as mlab\n",
    "from matplotlib.mlab import bivariate_normal\n",
    "\n",
    "import autograd.numpy as np\n",
    "from autograd import grad\n",
    "%matplotlib inline"
   ]
  },
  {
   "cell_type": "code",
   "execution_count": 110,
   "metadata": {
    "collapsed": false
   },
   "outputs": [],
   "source": [
    "dim = 2\n",
    "plot_x_lim = [-6, 6]\n",
    "plot_y_lim = [-30, 10]\n",
    "x = np.arange(plot_x_lim[0], plot_x_lim[1], 0.5)\n",
    "y = np.arange(plot_y_lim[0], plot_y_lim[1], 0.5)\n",
    "X, Y = np.meshgrid(x, y)"
   ]
  },
  {
   "cell_type": "markdown",
   "metadata": {
    "collapsed": false
   },
   "source": [
    "Let's define a function to perform AdaM updates..."
   ]
  },
  {
   "cell_type": "code",
   "execution_count": 111,
   "metadata": {
    "collapsed": false
   },
   "outputs": [],
   "source": [
    "# AdaM: Adaptive Moments Optimizer\n",
    "## Params\n",
    "### alpha0: base learning rate\n",
    "### grad: current gradient\n",
    "### adam_values: dictionary containing moment estimates\n",
    "\n",
    "def get_AdaM_update(alpha_0, grad, adam_values, b1=.95, b2=.999, e=1e-8):\n",
    "    adam_values['t'] += 1\n",
    "\n",
    "    # update mean                                                                                                                                                                                                     \n",
    "    adam_values['mean'] = b1 * adam_values['mean'] + (1-b1) * grad\n",
    "    m_hat = adam_values['mean'] / (1-b1**adam_values['t'])\n",
    "\n",
    "    # update variance                                                                                                                                                                                                 \n",
    "    adam_values['var'] = b2 * adam_values['var'] + (1-b2) * grad**2\n",
    "    v_hat = adam_values['var'] / (1-b2**adam_values['t'])\n",
    "\n",
    "    return alpha_0 * m_hat/(np.sqrt(v_hat) + e)"
   ]
  },
  {
   "cell_type": "markdown",
   "metadata": {},
   "source": [
    "### Learning Model Reparametrizations\n",
    "#### By Michalis K. Titsias\n",
    "\n",
    "The idea behind [Learning Model Reparametrizations](https://arxiv.org/abs/1708.01529) is to parametrize a transformation involving the variable of interest and samples from a fixed distribution: $$ \\boldsymbol{\\theta} = g(\\boldsymbol{\\xi}; \\boldsymbol{\\phi}), \\ \\boldsymbol{\\xi} \\sim p_{0} $$ where $\\boldsymbol{\\theta}$ is the model variable, $\\boldsymbol{\\phi}$ are the transformation parameters, and $p_{0}$ the fixed distribution.  Then MCMC can be run to collect $\\boldsymbol{\\xi}$ samples, which, ostensibly, is easier than collecting samples of $\\boldsymbol{\\theta}$ directly."
   ]
  },
  {
   "cell_type": "markdown",
   "metadata": {},
   "source": [
    "### Experiment: Collecting samples from the banana distribution\n",
    "Let's draw data from the classic MCMC test case: the banana distribution..."
   ]
  },
  {
   "cell_type": "code",
   "execution_count": 112,
   "metadata": {
    "collapsed": false
   },
   "outputs": [
    {
     "data": {
      "image/png": "[encoded data removed]",
      "text/plain": [
       "<matplotlib.figure.Figure at 0x10b47ecd0>"
      ]
     },
     "metadata": {},
     "output_type": "display_data"
    }
   ],
   "source": [
    "### Make Dataset\n",
    "N = 1000\n",
    "data = np.random.normal(size=(N, dim))\n",
    "z1 = 1.25*data[:,0]\n",
    "z2 = data[:,1]/1.25 - 1.5*(z1**2 + 1.25)\n",
    "data = np.hstack([z1[np.newaxis].T, z2[np.newaxis].T])\n",
    "np.random.shuffle(data)\n",
    "\n",
    "plt.scatter(data[:,0], data[:,1], marker='x', s=25, c='k', alpha=.7)\n",
    "\n",
    "plt.xlim([plot_x_lim[0], plot_x_lim[1]])\n",
    "plt.ylim([plot_y_lim[0], plot_y_lim[1]])\n",
    "plt.show()"
   ]
  },
  {
   "cell_type": "markdown",
   "metadata": {},
   "source": [
    "### Method\n",
    "\n",
    "Let's define the necessary primatives..."
   ]
  },
  {
   "cell_type": "code",
   "execution_count": 113,
   "metadata": {
    "collapsed": false
   },
   "outputs": [],
   "source": [
    "# Gaussian\n",
    "def logGaussPdf(x, params):\n",
    "    # params: {'mu': mean, 'sigma': standard dev.}\n",
    "    return  -.5/params['sigma']**2 * (x-params['mu'])**2 + -.5 * np.log(2*np.pi*params['sigma']**2)\n",
    "\n",
    "# Gaussian model\n",
    "def logModel(data, theta, logSigma):\n",
    "    return np.sum(logGaussPdf(data, {'mu':theta, 'sigma': np.exp(logSigma)}))\n",
    "\n",
    "# Gaussian model with lower triangular inv transform\n",
    "def logModel_w_transform(data, mu, logL, e, logSigma):\n",
    "    L = np.exp(logL)\n",
    "    theta = mu + np.dot(e, L)\n",
    "    return logModel(data, theta, logSigma) - np.sum(np.log(np.diag(L)))"
   ]
  },
  {
   "cell_type": "code",
   "execution_count": 114,
   "metadata": {
    "collapsed": false
   },
   "outputs": [],
   "source": [
    "dLogModelWithTransform_dMu = grad(lambda mu, data, logL, e, logSigma: logModel_w_transform(data, mu, logL, e, logSigma))\n",
    "\n",
    "dLogModelWithTransform_dLogL = grad(lambda logL, data, mu, e, logSigma: logModel_w_transform(data, mu, logL, e, logSigma))\n",
    "\n",
    "dLogModel_dLogSigma = grad(lambda logSigma, data, theta: logModel(data, theta, logSigma))"
   ]
  },
  {
   "cell_type": "code",
   "execution_count": 115,
   "metadata": {
    "collapsed": false
   },
   "outputs": [],
   "source": [
    "def run_MH(data, logModel_w_transform, model_params, reparam_params, e0, n_MCMC_its):\n",
    "    samples = []\n",
    "    \n",
    "    for idx in range(n_MCMC_its):\n",
    "        proposal = np.random.normal(loc=e0, size=(1,2))\n",
    "        \n",
    "        log_ratio = logModel_w_transform(data, reparam_params['mu'], reparam_params['logL'], proposal, model_params['logSigma']) \\\n",
    "                - logModel_w_transform(data, reparam_params['mu'], reparam_params['logL'], e0, model_params['logSigma'])\n",
    "        log_correction = np.sum(logGaussPdf(e0, {'mu':proposal, 'sigma':1.})) - np.sum(logGaussPdf(proposal, {'mu':e0, 'sigma':1.}))\n",
    "        \n",
    "        accept_prob = np.minimum(1., np.exp(log_ratio + log_correction))\n",
    "        uni_prob = np.random.uniform(low=0., high=1.)\n",
    "        \n",
    "        if uni_prob <= accept_prob:\n",
    "            samples.append(proposal)\n",
    "            e0 = proposal\n",
    "            \n",
    "    return samples"
   ]
  },
  {
   "cell_type": "code",
   "execution_count": 116,
   "metadata": {
    "collapsed": false
   },
   "outputs": [],
   "source": [
    "def run_implicitMCMC_VI(data, model_params, reparam_params, lr=.001, n_epochs=100, n_MCMC_its=100):\n",
    "    \n",
    "    adam_values = {'mu':{'mean': 0., 'var': 0., 't': 0}, \n",
    "                    'logL':{'mean': 0., 'var': 0., 't': 0},\n",
    "                    'logSigma':{'mean': 0., 'var': 0., 't': 0},\n",
    "                   }\n",
    "    \n",
    "    for it_idx in range(n_epochs):\n",
    "        \n",
    "        # update the reparametrization parameters\n",
    "        e0 = np.random.normal(size=(1,2))\n",
    "        e_samples = run_MH(data, logModel_w_transform, model_params, reparam_params, e0, n_MCMC_its)\n",
    "        \n",
    "        grad_mu = 0.\n",
    "        grad_logL = 0.\n",
    "        for e in e_samples[-10:]:\n",
    "            grad_mu += dLogModelWithTransform_dMu(reparam_params['mu'], data, reparam_params['logL'], e, model_params['logSigma']) / 10\n",
    "            grad_logL += dLogModelWithTransform_dLogL(reparam_params['logL'], data, reparam_params['mu'], e, model_params['logSigma']) / 10 \n",
    "        \n",
    "        reparam_params['mu'] += get_AdaM_update(lr, grad_mu/len(e_samples), adam_values['mu']) \n",
    "        reparam_params['logL'] += np.tril( get_AdaM_update(lr, grad_logL, adam_values['logL']) )\n",
    "        \n",
    "        # update model params\n",
    "        e0 = np.random.normal(size=(1,2))\n",
    "        e_samples = run_MH(data, logModel_w_transform, model_params, reparam_params, e0, n_MCMC_its)\n",
    "        thetas = [reparam_params['mu'] + np.dot(e, np.exp(reparam_params['logL'])) for e in e_samples]\n",
    "        \n",
    "        grad_logSig = 0.\n",
    "        for theta in thetas[-10:]:\n",
    "            grad_logSig += dLogModel_dLogSigma(model_params['logSigma'], data, theta) / 10\n",
    "        \n",
    "        model_params['logSigma'] += get_AdaM_update(lr, grad_logSig, adam_values['logSigma'])\n",
    "        \n",
    "        # check data likelihood\n",
    "        print \"Epoch #%d, LL: %.4f\" %(it_idx, np.mean([logModel(data, theta, model_params['logSigma']) for theta in thetas]))\n",
    "\n",
    "    # get one more round of samples\n",
    "    e0 = np.random.normal(size=(1,2))\n",
    "    final_e_samples = run_MH(data, logModel_w_transform, model_params, reparam_params, e0, 10000)\n",
    "    \n",
    "    return model_params, reparam_params, final_e_samples"
   ]
  },
  {
   "cell_type": "code",
   "execution_count": 117,
   "metadata": {
    "collapsed": false
   },
   "outputs": [
    {
     "name": "stdout",
     "output_type": "stream",
     "text": [
      "Epoch #0, LL: -9453.7640\n",
      "Epoch #1, LL: -8719.3092\n",
      "Epoch #2, LL: -9548.4572\n",
      "Epoch #3, LL: -7655.8969\n",
      "Epoch #4, LL: -7069.5689\n",
      "Epoch #5, LL: -7054.8219\n",
      "Epoch #6, LL: -6549.8114\n",
      "Epoch #7, LL: -7812.7430\n",
      "Epoch #8, LL: -7689.2359\n",
      "Epoch #9, LL: -5799.6713\n",
      "Epoch #10, LL: -5944.5344\n",
      "Epoch #11, LL: -5483.1797\n",
      "Epoch #12, LL: -6480.0928\n",
      "Epoch #13, LL: -5510.4073\n",
      "Epoch #14, LL: -7107.5615\n",
      "Epoch #15, LL: -5477.7460\n",
      "Epoch #16, LL: -5602.7772\n",
      "Epoch #17, LL: -4928.9269\n",
      "Epoch #18, LL: -5013.5149\n",
      "Epoch #19, LL: -5010.7607\n",
      "Epoch #20, LL: -4754.4374\n",
      "Epoch #21, LL: -6281.3690\n",
      "Epoch #22, LL: -4706.2594\n",
      "Epoch #23, LL: -4696.3113\n",
      "Epoch #24, LL: -4963.8158\n",
      "Epoch #25, LL: -4979.4409\n",
      "Epoch #26, LL: -4621.0544\n",
      "Epoch #27, LL: -4564.3979\n",
      "Epoch #28, LL: -4550.4297\n",
      "Epoch #29, LL: -4668.7694\n",
      "Epoch #30, LL: -4618.9535\n",
      "Epoch #31, LL: -4502.9495\n",
      "Epoch #32, LL: -4508.6866\n",
      "Epoch #33, LL: -4641.7344\n",
      "Epoch #34, LL: -4511.2815\n",
      "Epoch #35, LL: -4528.8415\n",
      "Epoch #36, LL: -4535.3255\n",
      "Epoch #37, LL: -4477.4234\n",
      "Epoch #38, LL: -4437.2313\n",
      "Epoch #39, LL: -4451.1375\n",
      "Epoch #40, LL: -4798.4145\n",
      "Epoch #41, LL: -4436.2680\n",
      "Epoch #42, LL: -4458.8965\n",
      "Epoch #43, LL: -4529.0369\n",
      "Epoch #44, LL: -4751.1054\n",
      "Epoch #45, LL: -4578.4575\n",
      "Epoch #46, LL: -4596.2330\n",
      "Epoch #47, LL: -4471.5740\n",
      "Epoch #48, LL: -4494.9956\n",
      "Epoch #49, LL: -4457.0882\n",
      "Epoch #50, LL: -4701.1096\n",
      "Epoch #51, LL: -4526.6445\n",
      "Epoch #52, LL: -4892.7370\n",
      "Epoch #53, LL: -4646.6946\n",
      "Epoch #54, LL: -4468.2740\n",
      "Epoch #55, LL: -4468.8280\n",
      "Epoch #56, LL: -4653.7672\n",
      "Epoch #57, LL: -4495.6420\n",
      "Epoch #58, LL: -4564.6170\n",
      "Epoch #59, LL: -4536.3399\n",
      "Epoch #60, LL: -4522.1692\n",
      "Epoch #61, LL: -4503.3688\n",
      "Epoch #62, LL: -4473.5691\n",
      "Epoch #63, LL: -4473.8992\n",
      "Epoch #64, LL: -4718.4332\n",
      "Epoch #65, LL: -4473.0380\n",
      "Epoch #66, LL: -4472.1306\n",
      "Epoch #67, LL: -4467.8609\n",
      "Epoch #68, LL: -4469.6277\n",
      "Epoch #69, LL: -4476.8486\n",
      "Epoch #70, LL: -4560.2740\n",
      "Epoch #71, LL: -4464.5169\n",
      "Epoch #72, LL: -4552.5390\n",
      "Epoch #73, LL: -4466.2254\n",
      "Epoch #74, LL: -4483.1698\n",
      "Epoch #75, LL: -4465.7314\n",
      "Epoch #76, LL: -4466.7211\n",
      "Epoch #77, LL: -4824.7725\n",
      "Epoch #78, LL: -4541.2590\n",
      "Epoch #79, LL: -4467.1139\n",
      "Epoch #80, LL: -4461.4994\n",
      "Epoch #81, LL: -4466.0766\n",
      "Epoch #82, LL: -4461.8194\n",
      "Epoch #83, LL: -4462.9220\n",
      "Epoch #84, LL: -4454.4978\n",
      "Epoch #85, LL: -4473.3411\n",
      "Epoch #86, LL: -4454.6294\n",
      "Epoch #87, LL: -4472.7193\n",
      "Epoch #88, LL: -4453.3559\n",
      "Epoch #89, LL: -4455.5450\n",
      "Epoch #90, LL: -4498.9018\n",
      "Epoch #91, LL: -4497.6360\n",
      "Epoch #92, LL: -4450.1718\n",
      "Epoch #93, LL: -4441.6439\n",
      "Epoch #94, LL: -4582.5443\n",
      "Epoch #95, LL: -4435.5235\n",
      "Epoch #96, LL: -4470.3503\n",
      "Epoch #97, LL: -4432.3748\n",
      "Epoch #98, LL: -4498.7481\n",
      "Epoch #99, LL: -4436.7028\n"
     ]
    }
   ],
   "source": [
    "# INIT PARAMS\n",
    "model_params = {'logSigma': np.zeros((1,2))}\n",
    "reparam_params = {'logL': np.eye(2), 'mu': np.zeros((1,2))}\n",
    "\n",
    "\n",
    "maxEpochs = 100\n",
    "learning_rate = .05\n",
    "\n",
    "model_params, reparam_params, final_e_samples = run_implicitMCMC_VI(data, model_params, reparam_params, \\\n",
    "                                                                    lr=learning_rate, n_epochs=maxEpochs,\\\n",
    "                                                                    n_MCMC_its=1000)\n",
    "\n",
    "final_theta_samples = [reparam_params['mu'] + np.dot(e, np.exp(reparam_params['logL'])) for e in final_e_samples]"
   ]
  },
  {
   "cell_type": "code",
   "execution_count": 118,
   "metadata": {
    "collapsed": false
   },
   "outputs": [
    {
     "data": {
      "image/png": "[encoded data removed]",
      "text/plain": [
       "<matplotlib.figure.Figure at 0x10b0640d0>"
      ]
     },
     "metadata": {},
     "output_type": "display_data"
    }
   ],
   "source": [
    "x_samples = np.array([theta + np.random.normal(size=(1,2))*np.exp(model_params['logSigma']) for theta in final_theta_samples])[:,0,:]\n",
    "\n",
    "plt.scatter(data[:,0], data[:,1], marker='x', s=25, c='k', alpha=.7)\n",
    "plt.scatter(x_samples[:,0], x_samples[:,1], marker='x', s=25, c='r', alpha=.7)\n",
    "\n",
    "plt.xlim([plot_x_lim[0], plot_x_lim[1]])\n",
    "plt.ylim([plot_y_lim[0], plot_y_lim[1]])\n",
    "plt.show()"
   ]
  }
 ],
 "metadata": {
  "kernelspec": {
   "display_name": "Python 2",
   "language": "python",
   "name": "python2"
  },
  "language_info": {
   "codemirror_mode": {
    "name": "ipython",
    "version": 2
   },
   "file_extension": ".py",
   "mimetype": "text/x-python",
   "name": "python",
   "nbconvert_exporter": "python",
   "pygments_lexer": "ipython2",
   "version": "2.7.11"
  }
 },
 "nbformat": 4,
 "nbformat_minor": 1
}
