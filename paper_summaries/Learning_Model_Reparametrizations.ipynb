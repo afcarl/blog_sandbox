{
 "cells": [
  {
   "cell_type": "code",
   "execution_count": 4,
   "metadata": {
    "collapsed": false
   },
   "outputs": [],
   "source": [
    "import cPickle as cp\n",
    "\n",
    "from IPython.display import Image\n",
    "import matplotlib\n",
    "import matplotlib.pyplot as plt\n",
    "import matplotlib.mlab as mlab\n",
    "from matplotlib.mlab import bivariate_normal\n",
    "\n",
    "import autograd.numpy as np\n",
    "from autograd import grad\n",
    "%matplotlib inline"
   ]
  },
  {
   "cell_type": "code",
   "execution_count": 5,
   "metadata": {
    "collapsed": false
   },
   "outputs": [],
   "source": [
    "dim = 2\n",
    "plot_x_lim = [-6, 6]\n",
    "plot_y_lim = [-40, 10]\n",
    "x = np.arange(plot_x_lim[0], plot_x_lim[1], 0.5)\n",
    "y = np.arange(plot_y_lim[0], plot_y_lim[1], 0.5)\n",
    "X, Y = np.meshgrid(x, y)"
   ]
  },
  {
   "cell_type": "markdown",
   "metadata": {
    "collapsed": false
   },
   "source": [
    "Let's define a function to perform AdaM updates..."
   ]
  },
  {
   "cell_type": "code",
   "execution_count": 6,
   "metadata": {
    "collapsed": false
   },
   "outputs": [],
   "source": [
    "# AdaM: Adaptive Moments Optimizer\n",
    "## Params\n",
    "### alpha0: base learning rate\n",
    "### grad: current gradient\n",
    "### adam_values: dictionary containing moment estimates\n",
    "\n",
    "def get_AdaM_update(alpha_0, grad, adam_values, b1=.95, b2=.999, e=1e-8):\n",
    "    adam_values['t'] += 1\n",
    "\n",
    "    # update mean                                                                                                                                                                                                     \n",
    "    adam_values['mean'] = b1 * adam_values['mean'] + (1-b1) * grad\n",
    "    m_hat = adam_values['mean'] / (1-b1**adam_values['t'])\n",
    "\n",
    "    # update variance                                                                                                                                                                                                 \n",
    "    adam_values['var'] = b2 * adam_values['var'] + (1-b2) * grad**2\n",
    "    v_hat = adam_values['var'] / (1-b2**adam_values['t'])\n",
    "\n",
    "    return alpha_0 * m_hat/(np.sqrt(v_hat) + e)"
   ]
  },
  {
   "cell_type": "markdown",
   "metadata": {},
   "source": [
    "### Learning Model Reparametrizations\n",
    "#### By Michalis K. Titsias\n",
    "\n",
    "The idea behind [Learning Model Reparametrizations](https://arxiv.org/abs/1708.01529) is to parametrize a transformation involving the variable of interest and samples from a fixed distribution: $$ \\boldsymbol{\\theta} = g(\\boldsymbol{\\xi}; \\boldsymbol{\\phi}), \\ \\boldsymbol{\\xi} \\sim p_{0} $$ where $\\boldsymbol{\\theta}$ is the model variable, $\\boldsymbol{\\phi}$ are the transformation parameters, and $p_{0}$ the fixed distribution.  Then MCMC can be run to collect $\\boldsymbol{\\xi}$ samples, which, ostensibly, is easier than collecting samples of $\\boldsymbol{\\theta}$ directly."
   ]
  },
  {
   "cell_type": "markdown",
   "metadata": {},
   "source": [
    "### Experiment: Collecting samples from the banana distribution\n",
    "Let's draw data from the classic MCMC test case: the banana distribution..."
   ]
  },
  {
   "cell_type": "code",
   "execution_count": 7,
   "metadata": {
    "collapsed": false
   },
   "outputs": [
    {
     "data": {
      "image/png": "[encoded data removed]",
      "text/plain": [
       "<matplotlib.figure.Figure at 0x103126790>"
      ]
     },
     "metadata": {},
     "output_type": "display_data"
    }
   ],
   "source": [
    "### Make Dataset\n",
    "N = 1000\n",
    "data = np.random.normal(size=(N, dim))\n",
    "z1 = 1.25*data[:,0]\n",
    "z2 = data[:,1]/1.25 - 2*(z1**2 + 1.25)\n",
    "data = np.hstack([z1[np.newaxis].T, z2[np.newaxis].T])\n",
    "np.random.shuffle(data)\n",
    "\n",
    "plt.scatter(data[:,0], data[:,1], marker='x', s=25, c='k', alpha=.7)\n",
    "\n",
    "plt.xlim([plot_x_lim[0], plot_x_lim[1]])\n",
    "plt.ylim([plot_y_lim[0], plot_y_lim[1]])\n",
    "plt.show()"
   ]
  },
  {
   "cell_type": "markdown",
   "metadata": {},
   "source": [
    "### Method\n",
    "\n",
    "Let's define the necessary primatives..."
   ]
  },
  {
   "cell_type": "code",
   "execution_count": 82,
   "metadata": {
    "collapsed": false
   },
   "outputs": [],
   "source": [
    "# Gaussian\n",
    "def logGaussPdf(x, params):\n",
    "    # params: {'mu': mean, 'sigma': standard dev.}\n",
    "    return  -.5/params['sigma']**2 * (x-params['mu'])**2 + -.5 * np.log(2*np.pi*params['sigma']**2)\n",
    "\n",
    "# Gaussian model\n",
    "def logModel(data, theta, logSigma):\n",
    "    return np.sum(logGaussPdf(data, {'mu':theta, 'sigma': np.exp(logSigma)}))\n",
    "\n",
    "# Gaussian model with lower triangular inv transform\n",
    "def logModel_w_transform(data, mu, logL, e, logSigma):\n",
    "    L = np.exp(logL)\n",
    "    theta = mu + np.dot(e, L)\n",
    "    return logModel(data, theta, logSigma) - np.sum(np.log(np.diag(L)))"
   ]
  },
  {
   "cell_type": "code",
   "execution_count": 83,
   "metadata": {
    "collapsed": false
   },
   "outputs": [],
   "source": [
    "dLogModelWithTransform_dMu = grad(lambda mu, data, logL, e, logSigma: logModel_w_transform(data, mu, logL, e, logSigma))\n",
    "\n",
    "dLogModelWithTransform_dLogL = grad(lambda logL, data, mu, e, logSigma: logModel_w_transform(data, mu, logL, e, logSigma))\n",
    "\n",
    "dLogModel_dLogSigma = grad(lambda logSigma, data, theta: logModel(data, theta, logSigma))"
   ]
  },
  {
   "cell_type": "code",
   "execution_count": 84,
   "metadata": {
    "collapsed": false
   },
   "outputs": [],
   "source": [
    "def run_MH(data, logModel_w_transform, model_params, reparam_params, e0, n_MCMC_its):\n",
    "    samples = []\n",
    "    \n",
    "    for idx in range(n_MCMC_its):\n",
    "        proposal = np.random.normal(loc=e0, size=(1,2))\n",
    "        \n",
    "        log_ratio = logModel_w_transform(data, reparam_params['mu'], reparam_params['logL'], proposal, model_params['logSigma']) \\\n",
    "                - logModel_w_transform(data, reparam_params['mu'], reparam_params['logL'], e0, model_params['logSigma'])\n",
    "        log_correction = np.sum(logGaussPdf(e0, {'mu':proposal, 'sigma':1.})) - np.sum(logGaussPdf(proposal, {'mu':e0, 'sigma':1.}))\n",
    "        \n",
    "        accept_prob = np.minimum(1., np.exp(log_ratio + log_correction))\n",
    "        uni_prob = np.random.uniform(low=0., high=1.)\n",
    "        \n",
    "        if uni_prob <= accept_prob:\n",
    "            samples.append(proposal)\n",
    "            e0 = proposal\n",
    "            \n",
    "    return samples"
   ]
  },
  {
   "cell_type": "code",
   "execution_count": 85,
   "metadata": {
    "collapsed": false
   },
   "outputs": [],
   "source": [
    "def run_implicitMCMC_VI(data, model_params, reparam_params, lr=.001, n_epochs=100, n_MCMC_its=100):\n",
    "    \n",
    "    adam_values = {'mu':{'mean': 0., 'var': 0., 't': 0}, \n",
    "                    'logL':{'mean': 0., 'var': 0., 't': 0},\n",
    "                    'logSigma':{'mean': 0., 'var': 0., 't': 0},\n",
    "                   }\n",
    "    \n",
    "    for it_idx in range(n_epochs):\n",
    "        \n",
    "        # update the reparametrization parameters\n",
    "        e0 = np.random.normal(size=(1,2))\n",
    "        e_samples = run_MH(data, logModel_w_transform, model_params, reparam_params, e0, n_MCMC_its)\n",
    "        \n",
    "        grad_mu = 0.\n",
    "        grad_logL = 0.\n",
    "        for e in e_samples:\n",
    "            grad_mu += dLogModelWithTransform_dMu(reparam_params['mu'], data, reparam_params['logL'], e, model_params['logSigma']) / len(e_samples)\n",
    "            grad_logL += dLogModelWithTransform_dLogL(reparam_params['logL'], data, reparam_params['mu'], e, model_params['logSigma']) / len(e_samples)\n",
    "        \n",
    "        reparam_params['mu'] += get_AdaM_update(lr, grad_mu/len(e_samples), adam_values['mu']) \n",
    "        reparam_params['logL'] += np.tril( get_AdaM_update(lr, grad_logL, adam_values['logL']) )\n",
    "        \n",
    "        # update model params\n",
    "        e0 = np.random.normal(size=(1,2))\n",
    "        e_samples = run_MH(data, logModel_w_transform, model_params, reparam_params, e0, n_MCMC_its)\n",
    "        thetas = [reparam_params['mu'] + np.dot(e, np.exp(reparam_params['logL'])) for e in e_samples]\n",
    "        \n",
    "        grad_logSig = 0.\n",
    "        for theta in thetas:\n",
    "            grad_logSig += dLogModel_dLogSigma(model_params['logSigma'], data, theta) / len(thetas)\n",
    "        \n",
    "        model_params['logSigma'] += get_AdaM_update(lr, grad_logSig, adam_values['logSigma'])\n",
    "        \n",
    "        # check data likelihood\n",
    "        print \"Epoch #%d, LL: %.4f\" %(it_idx, np.mean([logModel(data, theta, model_params['logSigma']) for theta in thetas]))\n",
    "\n",
    "    # get one more round of samples\n",
    "    e0 = e_samples[-1]\n",
    "    final_e_samples = run_MH(data, logModel_w_transform, model_params, reparam_params, e0, n_MCMC_its)\n",
    "    \n",
    "    return model_params, reparam_params, final_e_samples"
   ]
  },
  {
   "cell_type": "code",
   "execution_count": 86,
   "metadata": {
    "collapsed": false
   },
   "outputs": [
    {
     "name": "stdout",
     "output_type": "stream",
     "text": [
      "Epoch #0, LL: -13727.5277\n",
      "Epoch #1, LL: -11118.1225\n",
      "Epoch #2, LL: -9778.0046\n",
      "Epoch #3, LL: -8518.8177\n",
      "Epoch #4, LL: -7744.0560\n",
      "Epoch #5, LL: -6964.6127\n",
      "Epoch #6, LL: -6807.3624\n",
      "Epoch #7, LL: -6159.5048\n",
      "Epoch #8, LL: -6067.2690\n",
      "Epoch #9, LL: -5583.6940\n",
      "Epoch #10, LL: -5373.6718\n",
      "Epoch #11, LL: -5226.1303\n",
      "Epoch #12, LL: -5064.6458\n",
      "Epoch #13, LL: -5620.5071\n",
      "Epoch #14, LL: -5023.1180\n",
      "Epoch #15, LL: -4842.6601\n",
      "Epoch #16, LL: -4775.4653\n",
      "Epoch #17, LL: -4752.5075\n",
      "Epoch #18, LL: -5411.5761\n",
      "Epoch #19, LL: -4754.2231\n",
      "Epoch #20, LL: -4672.0475\n",
      "Epoch #21, LL: -4749.3120\n",
      "Epoch #22, LL: -4683.0117\n",
      "Epoch #23, LL: -4912.7407\n",
      "Epoch #24, LL: -4694.6798\n"
     ]
    }
   ],
   "source": [
    "# INIT PARAMS\n",
    "model_params = {'logSigma': np.zeros((1,2))}\n",
    "reparam_params = {'logL': np.eye(2), 'mu': np.zeros((1,2))}\n",
    "\n",
    "\n",
    "maxEpochs = 25\n",
    "learning_rate = .1\n",
    "\n",
    "model_params, reparam_params, final_e_samples = run_implicitMCMC_VI(data, model_params, reparam_params, \\\n",
    "                                                                    lr=learning_rate, n_epochs=maxEpochs,\\\n",
    "                                                                    n_MCMC_its=1000)\n",
    "\n",
    "final_theta_samples = [reparam_params['mu'] + np.dot(e, np.exp(reparam_params['logL'])) for e in final_e_samples]"
   ]
  },
  {
   "cell_type": "code",
   "execution_count": 87,
   "metadata": {
    "collapsed": false
   },
   "outputs": [
    {
     "data": {
      "image/png": "[encoded data removed]",
      "text/plain": [
       "<matplotlib.figure.Figure at 0x10b76d750>"
      ]
     },
     "metadata": {},
     "output_type": "display_data"
    }
   ],
   "source": [
    "x_samples = np.array([theta + np.random.normal(size=(1,2))*np.exp(model_params['logSigma']) for theta in final_theta_samples])[:,0,:]\n",
    "\n",
    "plt.scatter(data[:,0], data[:,1], marker='x', s=25, c='k', alpha=.7)\n",
    "plt.scatter(x_samples[:,0], x_samples[:,1], marker='x', s=25, c='r', alpha=.7)\n",
    "\n",
    "#plt.xlim([plot_x_lim[0], plot_x_lim[1]])\n",
    "#plt.ylim([plot_y_lim[0], plot_y_lim[1]])\n",
    "plt.show()"
   ]
  },
  {
   "cell_type": "code",
   "execution_count": 88,
   "metadata": {
    "collapsed": false
   },
   "outputs": [
    {
     "name": "stdout",
     "output_type": "stream",
     "text": [
      "[[  0.02003856  -2.26430025]\n",
      " [ -1.40487011  -1.99108099]\n",
      " [ -0.65409618  -5.75653859]\n",
      " [ -0.78363947  -4.6972834 ]\n",
      " [ -1.29069983  -3.07874939]\n",
      " [ -0.3082589   -8.39794136]\n",
      " [ -0.31908168  -5.5280079 ]\n",
      " [ -0.16434106 -12.03276014]\n",
      " [  1.40576115   1.77898424]\n",
      " [ -0.61497193  -7.89682244]\n",
      " [ -1.09134059  -7.04277094]\n",
      " [ -0.06182947 -15.01797449]\n",
      " [ -0.74705834  -4.08874852]\n",
      " [  1.64049829  -9.98054058]]\n"
     ]
    }
   ],
   "source": [
    "print x_samples"
   ]
  }
 ],
 "metadata": {
  "kernelspec": {
   "display_name": "Python 2",
   "language": "python",
   "name": "python2"
  },
  "language_info": {
   "codemirror_mode": {
    "name": "ipython",
    "version": 2
   },
   "file_extension": ".py",
   "mimetype": "text/x-python",
   "name": "python",
   "nbconvert_exporter": "python",
   "pygments_lexer": "ipython2",
   "version": "2.7.11"
  }
 },
 "nbformat": 4,
 "nbformat_minor": 1
}
