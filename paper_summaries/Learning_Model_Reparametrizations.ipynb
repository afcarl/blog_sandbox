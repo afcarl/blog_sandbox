{
 "cells": [
  {
   "cell_type": "code",
   "execution_count": 1,
   "metadata": {
    "collapsed": false
   },
   "outputs": [],
   "source": [
    "import cPickle as cp\n",
    "\n",
    "from IPython.display import Image\n",
    "import matplotlib\n",
    "import matplotlib.pyplot as plt\n",
    "import matplotlib.mlab as mlab\n",
    "from matplotlib.mlab import bivariate_normal\n",
    "\n",
    "import autograd.numpy as np\n",
    "from autograd import grad\n",
    "%matplotlib inline"
   ]
  },
  {
   "cell_type": "code",
   "execution_count": 2,
   "metadata": {
    "collapsed": false
   },
   "outputs": [],
   "source": [
    "dim = 2\n",
    "plot_x_lim = [-6, 6]\n",
    "plot_y_lim = [-30, 10]\n",
    "x = np.arange(plot_x_lim[0], plot_x_lim[1], 0.5)\n",
    "y = np.arange(plot_y_lim[0], plot_y_lim[1], 0.5)\n",
    "X, Y = np.meshgrid(x, y)"
   ]
  },
  {
   "cell_type": "markdown",
   "metadata": {
    "collapsed": false
   },
   "source": [
    "Let's define a function to perform AdaM updates..."
   ]
  },
  {
   "cell_type": "code",
   "execution_count": 3,
   "metadata": {
    "collapsed": false
   },
   "outputs": [],
   "source": [
    "# AdaM: Adaptive Moments Optimizer\n",
    "## Params\n",
    "### alpha0: base learning rate\n",
    "### grad: current gradient\n",
    "### adam_values: dictionary containing moment estimates\n",
    "\n",
    "def get_AdaM_update(alpha_0, grad, adam_values, b1=.95, b2=.999, e=1e-8):\n",
    "    adam_values['t'] += 1\n",
    "\n",
    "    # update mean                                                                                                                                                                                                     \n",
    "    adam_values['mean'] = b1 * adam_values['mean'] + (1-b1) * grad\n",
    "    m_hat = adam_values['mean'] / (1-b1**adam_values['t'])\n",
    "\n",
    "    # update variance                                                                                                                                                                                                 \n",
    "    adam_values['var'] = b2 * adam_values['var'] + (1-b2) * grad**2\n",
    "    v_hat = adam_values['var'] / (1-b2**adam_values['t'])\n",
    "\n",
    "    return alpha_0 * m_hat/(np.sqrt(v_hat) + e)"
   ]
  },
  {
   "cell_type": "markdown",
   "metadata": {},
   "source": [
    "### Learning Model Reparametrizations\n",
    "#### By Michalis K. Titsias\n",
    "\n",
    "The idea behind [Learning Model Reparametrizations](https://arxiv.org/abs/1708.01529) is to parametrize a transformation involving the variable of interest and samples from a fixed distribution: $$ \\boldsymbol{\\theta} = g(\\boldsymbol{\\xi}; \\boldsymbol{\\phi}), \\ \\boldsymbol{\\xi} \\sim p_{0} $$ where $\\boldsymbol{\\theta}$ is the model variable, $\\boldsymbol{\\phi}$ are the transformation parameters, and $p_{0}$ the fixed distribution.  Then MCMC can be run to collect $\\boldsymbol{\\xi}$ samples, which, ostensibly, is easier than collecting samples of $\\boldsymbol{\\theta}$ directly."
   ]
  },
  {
   "cell_type": "markdown",
   "metadata": {},
   "source": [
    "### Experiment: Collecting samples from the banana distribution\n",
    "Let's draw data from the classic MCMC test case: the banana distribution..."
   ]
  },
  {
   "cell_type": "code",
   "execution_count": 4,
   "metadata": {
    "collapsed": false
   },
   "outputs": [
    {
     "data": {
      "image/png": "[encoded data removed]",
      "text/plain": [
       "<matplotlib.figure.Figure at 0x10fd8e550>"
      ]
     },
     "metadata": {},
     "output_type": "display_data"
    }
   ],
   "source": [
    "### Make Dataset\n",
    "N = 1000\n",
    "data = np.random.normal(size=(N, dim))\n",
    "z1 = 1.25*data[:,0]\n",
    "z2 = data[:,1]/1.25 - 1.5*(z1**2 + 1.25)\n",
    "data = np.hstack([z1[np.newaxis].T, z2[np.newaxis].T])\n",
    "np.random.shuffle(data)\n",
    "\n",
    "plt.scatter(data[:,0], data[:,1], marker='x', s=25, c='k', alpha=.7)\n",
    "\n",
    "plt.xlim([plot_x_lim[0], plot_x_lim[1]])\n",
    "plt.ylim([plot_y_lim[0], plot_y_lim[1]])\n",
    "plt.show()"
   ]
  },
  {
   "cell_type": "markdown",
   "metadata": {},
   "source": [
    "### Method\n",
    "\n",
    "Let's define the necessary primatives..."
   ]
  },
  {
   "cell_type": "code",
   "execution_count": 5,
   "metadata": {
    "collapsed": false
   },
   "outputs": [],
   "source": [
    "# Gaussian\n",
    "def logGaussPdf(x, params):\n",
    "    # params: {'mu': mean, 'sigma': standard dev.}\n",
    "    return  -.5/params['sigma']**2 * (x-params['mu'])**2 + -.5 * np.log(2*np.pi*params['sigma']**2)\n",
    "\n",
    "# Gaussian model\n",
    "def logModel(data, theta, logSigma):\n",
    "    return np.sum(logGaussPdf(data, {'mu':theta, 'sigma': np.exp(logSigma)}))\n",
    "\n",
    "# Gaussian model with lower triangular inv transform\n",
    "def logModel_w_transform(data, mu, logL, e, logSigma):\n",
    "    L = np.exp(logL)\n",
    "    theta = mu + np.dot(e, L)\n",
    "    return logModel(data, theta, logSigma) - np.sum(np.log(np.diag(L)))"
   ]
  },
  {
   "cell_type": "code",
   "execution_count": 35,
   "metadata": {
    "collapsed": false
   },
   "outputs": [],
   "source": [
    "dLogModelWithTransform_dMu = grad(lambda mu, data, logL, e, logSigma: logModel_w_transform(data, mu, logL, e, logSigma))\n",
    "\n",
    "dLogModelWithTransform_dLogL = grad(lambda logL, data, mu, e, logSigma: logModel_w_transform(data, mu, logL, e, logSigma))\n",
    "\n",
    "dLogModel_dLogSigma = grad(lambda logSigma, data, theta: logModel(data, theta, logSigma))"
   ]
  },
  {
   "cell_type": "code",
   "execution_count": 41,
   "metadata": {
    "collapsed": false
   },
   "outputs": [],
   "source": [
    "def run_MH(data, logModel_w_transform, model_params, reparam_params, e0, n_MCMC_its):\n",
    "    samples = []\n",
    "    \n",
    "    for idx in range(n_MCMC_its):\n",
    "        proposal = np.random.normal(loc=e0, size=(1,2))\n",
    "        \n",
    "        log_ratio = logModel_w_transform(data, reparam_params['mu'], reparam_params['logL'], proposal, model_params['logSigma']) \\\n",
    "                - logModel_w_transform(data, reparam_params['mu'], reparam_params['logL'], e0, model_params['logSigma'])\n",
    "        log_correction = np.sum(logGaussPdf(e0, {'mu':proposal, 'sigma':1.})) - np.sum(logGaussPdf(proposal, {'mu':e0, 'sigma':1.}))\n",
    "        \n",
    "        accept_prob = np.minimum(1., np.exp(log_ratio + log_correction))\n",
    "        uni_prob = np.random.uniform(low=0., high=1.)\n",
    "        \n",
    "        if uni_prob <= accept_prob:\n",
    "            samples.append(proposal)\n",
    "            e0 = proposal\n",
    "            \n",
    "    return samples"
   ]
  },
  {
   "cell_type": "code",
   "execution_count": 58,
   "metadata": {
    "collapsed": false
   },
   "outputs": [],
   "source": [
    "def run_implicitMCMC_VI(data, model_params, reparam_params, lr=.001, n_epochs=100, nChains=20, n_MCMC_its=100):\n",
    "    \n",
    "    adam_values = {'mu':{'mean': 0., 'var': 0., 't': 0}, \n",
    "                    'logL':{'mean': 0., 'var': 0., 't': 0},\n",
    "                    'logSigma':{'mean': 0., 'var': 0., 't': 0},\n",
    "                   }\n",
    "    \n",
    "    for it_idx in range(n_epochs):\n",
    "        \n",
    "        # update the reparametrization parameters\n",
    "        e_samples = []\n",
    "        for s in range(nChains):\n",
    "            e0 = np.array([[np.random.normal(scale=np.sqrt(2)), np.random.normal(loc=-25, scale=np.sqrt(3))]])\n",
    "            e_samples.append(run_MH(data, logModel_w_transform, model_params, reparam_params, e0, n_MCMC_its)[-1])\n",
    "        \n",
    "        grad_mu = 0.\n",
    "        grad_logL = 0.\n",
    "        for e in e_samples:\n",
    "            grad_mu += dLogModelWithTransform_dMu(reparam_params['mu'], data, reparam_params['logL'], e, model_params['logSigma']) / nChains\n",
    "            grad_logL += dLogModelWithTransform_dLogL(reparam_params['logL'], data, reparam_params['mu'], e, model_params['logSigma']) / nChains\n",
    "        \n",
    "        reparam_params['mu'] += get_AdaM_update(lr, grad_mu/len(e_samples), adam_values['mu']) \n",
    "        reparam_params['logL'] += np.tril( get_AdaM_update(lr, grad_logL, adam_values['logL']) )\n",
    "        \n",
    "        # update model params\n",
    "        thetas = []\n",
    "        for s in range(nChains):\n",
    "            e0 = np.array([[np.random.normal(scale=np.sqrt(2)), np.random.normal(loc=-25, scale=np.sqrt(3))]])\n",
    "            e_samples = run_MH(data, logModel_w_transform, model_params, reparam_params, e0, n_MCMC_its)\n",
    "            thetas.append( reparam_params['mu'] + np.dot(e_samples[-1], np.exp(reparam_params['logL'])) )\n",
    "        \n",
    "        grad_logSig = 0.\n",
    "        for theta in thetas:\n",
    "            grad_logSig += dLogModel_dLogSigma(model_params['logSigma'], data, theta) / nChains\n",
    "        \n",
    "        model_params['logSigma'] += get_AdaM_update(lr, grad_logSig, adam_values['logSigma'])\n",
    "        \n",
    "        # check data likelihood\n",
    "        print \"Epoch #%d, LL: %.4f\" %(it_idx+1, np.mean([logModel(data, theta, model_params['logSigma']) for theta in thetas]))\n",
    "\n",
    "    # get one more round of samples\n",
    "    final_e_samples = []\n",
    "    for s in range(500):\n",
    "        e0 = np.array([[np.random.normal(scale=2), np.random.normal(loc=-20, scale=3)]])\n",
    "        final_e_samples.append(run_MH(data, logModel_w_transform, model_params, reparam_params, e0, n_MCMC_its)[-1])\n",
    "    \n",
    "    return model_params, reparam_params, final_e_samples"
   ]
  },
  {
   "cell_type": "code",
   "execution_count": 56,
   "metadata": {
    "collapsed": false
   },
   "outputs": [
    {
     "name": "stdout",
     "output_type": "stream",
     "text": [
      "Epoch #0, LL: -8054.3587\n",
      "Epoch #1, LL: -7234.8363\n",
      "Epoch #2, LL: -6989.1902\n",
      "Epoch #3, LL: -6809.2929\n",
      "Epoch #4, LL: -6497.8375\n",
      "Epoch #5, LL: -6077.1890\n",
      "Epoch #6, LL: -6034.3413\n",
      "Epoch #7, LL: -5795.1541\n",
      "Epoch #8, LL: -5661.8656\n",
      "Epoch #9, LL: -5579.7849\n",
      "Epoch #10, LL: -5334.4178\n",
      "Epoch #11, LL: -5213.6532\n",
      "Epoch #12, LL: -5147.2631\n",
      "Epoch #13, LL: -4980.4154\n",
      "Epoch #14, LL: -4949.5160\n",
      "Epoch #15, LL: -4912.8375\n",
      "Epoch #16, LL: -4847.0537\n",
      "Epoch #17, LL: -4711.7748\n",
      "Epoch #18, LL: -4700.3794\n",
      "Epoch #19, LL: -4591.6821\n",
      "Epoch #20, LL: -4605.8835\n",
      "Epoch #21, LL: -4528.4158\n",
      "Epoch #22, LL: -4488.9443\n",
      "Epoch #23, LL: -4539.3143\n",
      "Epoch #24, LL: -4433.7426\n",
      "Epoch #25, LL: -4451.1723\n",
      "Epoch #26, LL: -4430.7696\n",
      "Epoch #27, LL: -4387.0193\n",
      "Epoch #28, LL: -4385.0011\n",
      "Epoch #29, LL: -4334.9130\n",
      "Epoch #30, LL: -4331.4767\n",
      "Epoch #31, LL: -4328.8674\n",
      "Epoch #32, LL: -4318.9239\n",
      "Epoch #33, LL: -4300.5565\n",
      "Epoch #34, LL: -4296.0839\n",
      "Epoch #35, LL: -4284.6599\n",
      "Epoch #36, LL: -4282.6630\n",
      "Epoch #37, LL: -4289.8473\n",
      "Epoch #38, LL: -4291.7715\n",
      "Epoch #39, LL: -4308.4878\n",
      "Epoch #40, LL: -4325.1345\n",
      "Epoch #41, LL: -4350.3068\n",
      "Epoch #42, LL: -4380.2667\n",
      "Epoch #43, LL: -4380.0094\n",
      "Epoch #44, LL: -4396.9639\n",
      "Epoch #45, LL: -4425.3802\n",
      "Epoch #46, LL: -4440.0762\n",
      "Epoch #47, LL: -4440.6096\n",
      "Epoch #48, LL: -4437.3440\n",
      "Epoch #49, LL: -4431.6412\n"
     ]
    }
   ],
   "source": [
    "# INIT PARAMS\n",
    "model_params = {'logSigma': np.zeros((1,2))}\n",
    "reparam_params = {'logL': np.eye(2)*.01, 'mu': np.zeros((1,2))}\n",
    "\n",
    "\n",
    "maxEpochs = 50\n",
    "learning_rate = .05\n",
    "nChains = 50\n",
    "nMCMCSteps = 100\n",
    "\n",
    "model_params, reparam_params, final_e_samples = run_implicitMCMC_VI(data, model_params, reparam_params, \\\n",
    "                                                                    lr=learning_rate, n_epochs=maxEpochs,\\\n",
    "                                                                    nChains=nChains, n_MCMC_its=nMCMCSteps)\n",
    "\n",
    "final_theta_samples = [reparam_params['mu'] + np.dot(e, np.exp(reparam_params['logL'])) for e in final_e_samples]\n",
    "\n",
    "x_samples = []\n",
    "for theta in final_theta_samples:\n",
    "    for s in range(1):\n",
    "        x_samples.append( theta + np.random.normal(size=(1,2))*np.exp(model_params['logSigma']) ) \n",
    "\n",
    "final_theta_samples = np.array(final_theta_samples)[:,0,:]\n",
    "x_samples = np.array(x_samples)[:,0,:]"
   ]
  },
  {
   "cell_type": "code",
   "execution_count": 57,
   "metadata": {
    "collapsed": false
   },
   "outputs": [
    {
     "data": {
      "image/png": "[encoded data removed]",
      "text/plain": [
       "<matplotlib.figure.Figure at 0x1123b1b50>"
      ]
     },
     "metadata": {},
     "output_type": "display_data"
    }
   ],
   "source": [
    "Z = bivariate_normal(X, Y, sigmax=np.sqrt(2), sigmay=np.sqrt(3), mux=0, muy=-25)\n",
    "plt.contour(X,Y,Z, colors='blue', linewidths=3)\n",
    "\n",
    "plt.scatter(data[:,0], data[:,1], marker='x', s=25, c='k', alpha=.7)\n",
    "plt.scatter(x_samples[:,0], x_samples[:,1], marker='x', s=25, c='r', alpha=.7)\n",
    "\n",
    "plt.xlim([plot_x_lim[0], plot_x_lim[1]])\n",
    "plt.ylim([plot_y_lim[0], plot_y_lim[1]])\n",
    "plt.show()"
   ]
  }
 ],
 "metadata": {
  "kernelspec": {
   "display_name": "Python 2",
   "language": "python",
   "name": "python2"
  },
  "language_info": {
   "codemirror_mode": {
    "name": "ipython",
    "version": 2
   },
   "file_extension": ".py",
   "mimetype": "text/x-python",
   "name": "python",
   "nbconvert_exporter": "python",
   "pygments_lexer": "ipython2",
   "version": "2.7.11"
  }
 },
 "nbformat": 4,
 "nbformat_minor": 1
}
