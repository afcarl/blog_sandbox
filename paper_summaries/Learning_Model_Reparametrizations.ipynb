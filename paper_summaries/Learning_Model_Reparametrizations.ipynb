{
 "cells": [
  {
   "cell_type": "code",
   "execution_count": 1,
   "metadata": {
    "collapsed": false
   },
   "outputs": [],
   "source": [
    "import cPickle as cp\n",
    "\n",
    "from IPython.display import Image\n",
    "import matplotlib\n",
    "import matplotlib.pyplot as plt\n",
    "import matplotlib.mlab as mlab\n",
    "from matplotlib.mlab import bivariate_normal\n",
    "\n",
    "import autograd.numpy as np\n",
    "from autograd import grad\n",
    "%matplotlib inline"
   ]
  },
  {
   "cell_type": "code",
   "execution_count": 2,
   "metadata": {
    "collapsed": false
   },
   "outputs": [],
   "source": [
    "dim = 2\n",
    "plot_x_lim = [-6, 6]\n",
    "plot_y_lim = [-40, 10]\n",
    "x = np.arange(plot_x_lim[0], plot_x_lim[1], 0.5)\n",
    "y = np.arange(plot_y_lim[0], plot_y_lim[1], 0.5)\n",
    "X, Y = np.meshgrid(x, y)"
   ]
  },
  {
   "cell_type": "markdown",
   "metadata": {
    "collapsed": false
   },
   "source": [
    "Let's define a function to perform AdaM updates..."
   ]
  },
  {
   "cell_type": "code",
   "execution_count": 2,
   "metadata": {
    "collapsed": false
   },
   "outputs": [],
   "source": [
    "# AdaM: Adaptive Moments Optimizer\n",
    "## Params\n",
    "### alpha0: base learning rate\n",
    "### grad: current gradient\n",
    "### adam_values: dictionary containing moment estimates\n",
    "\n",
    "def get_AdaM_update(alpha_0, grad, adam_values, b1=.95, b2=.999, e=1e-8):\n",
    "    adam_values['t'] += 1\n",
    "\n",
    "    # update mean                                                                                                                                                                                                     \n",
    "    adam_values['mean'] = b1 * adam_values['mean'] + (1-b1) * grad\n",
    "    m_hat = adam_values['mean'] / (1-b1**adam_values['t'])\n",
    "\n",
    "    # update variance                                                                                                                                                                                                 \n",
    "    adam_values['var'] = b2 * adam_values['var'] + (1-b2) * grad**2\n",
    "    v_hat = adam_values['var'] / (1-b2**adam_values['t'])\n",
    "\n",
    "    return alpha_0 * m_hat/(np.sqrt(v_hat) + e)"
   ]
  },
  {
   "cell_type": "markdown",
   "metadata": {},
   "source": [
    "### Learning Model Reparametrizations\n",
    "#### By Michalis K. Titsias\n",
    "\n",
    "The idea behind [Learning Model Reparametrizations](https://arxiv.org/abs/1708.01529) is to parametrize a transformation involving the variable of interest and samples from a fixed distribution: $$ \\boldsymbol{\\theta} = g(\\boldsymbol{\\xi}; \\boldsymbol{\\phi}), \\ \\boldsymbol{\\xi} \\sim p_{0} $$ where $\\boldsymbol{\\theta}$ is the model variable, $\\boldsymbol{\\phi}$ are the transformation parameters, and $p_{0}$ the fixed distribution.  Then MCMC can be run to collect $\\boldsymbol{\\xi}$ samples, which, ostensibly, is easier than collecting samples of $\\boldsymbol{\\theta}$ directly."
   ]
  },
  {
   "cell_type": "markdown",
   "metadata": {},
   "source": [
    "### Experiment: Collecting samples from the banana distribution\n",
    "Let's draw data from the classic MCMC test case: the banana distribution..."
   ]
  },
  {
   "cell_type": "code",
   "execution_count": 3,
   "metadata": {
    "collapsed": false
   },
   "outputs": [
    {
     "name": "stderr",
     "output_type": "stream",
     "text": [
      "/Users/enalisnick/anaconda/lib/python2.7/site-packages/matplotlib/axes/_axes.py:519: UserWarning: No labelled objects found. Use label='...' kwarg on individual plots.\n",
      "  warnings.warn(\"No labelled objects found. \"\n"
     ]
    },
    {
     "data": {
      "image/png": "[encoded data removed]",
      "text/plain": [
       "<matplotlib.figure.Figure at 0x106303a90>"
      ]
     },
     "metadata": {},
     "output_type": "display_data"
    }
   ],
   "source": [
    "### Make Dataset\n",
    "N = 1000\n",
    "data = np.random.normal(size=(N, dim))\n",
    "z1 = 1.25*data[:,0]\n",
    "z2 = data[:,1]/1.25 - 2*(z1**2 + 1.25)\n",
    "data = np.hstack([z1[np.newaxis].T, z2[np.newaxis].T])\n",
    "np.random.shuffle(data)\n",
    "\n",
    "plt.scatter(data[:,0], data[:,1], marker='x', s=25, c='k', alpha=.7)\n",
    "\n",
    "plt.xlim([plot_x_lim[0], plot_x_lim[1]])\n",
    "plt.ylim([plot_y_lim[0], plot_y_lim[1]])\n",
    "plt.legend(loc=3)\n",
    "plt.show()"
   ]
  },
  {
   "cell_type": "markdown",
   "metadata": {},
   "source": [
    "### Method\n",
    "\n",
    "Let's define the necessary primatives..."
   ]
  },
  {
   "cell_type": "code",
   "execution_count": 27,
   "metadata": {
    "collapsed": false
   },
   "outputs": [],
   "source": [
    "# Gaussian\n",
    "def gaussPdf(x, params):\n",
    "    # params: {'mu': mean, 'sigma': standard dev.}\n",
    "    return (1./np.sqrt(2*np.pi*params['sigma']**2)) * np.exp((-.5/params['sigma']**2) * np.sum((x-params['mu'])**2))\n",
    "\n",
    "def run_implicitMCMC_VI(data, reparam_params, n_epochs=100, n_MCMC_its=100):\n",
    "    for it_idx in range(n_iterations):\n",
    "        # update the reparametrization parameters\n",
    "        e0 = np.random.normal(size=(1,2))\n",
    "        e_samples = run_MCMC(unNorm_model, reparam_params, proposal, e0, n_MCMC_its)\n",
    "        reparam_params['mu'] += 0 \n",
    "        reparam_params['L'] += 0\n",
    "        \n",
    "        # update model params\n",
    "        e0 = np.random.normal(size=(1,2))\n",
    "        e_samples = run_MCMC(unNorm_model, reparam_params, proposal, e0, n_MCMC_its)\n",
    "        thetas = [reparam_params['mu'] + np.dot(reparam_params['L'], e) for e in e_samples]\n",
    "        \n"
   ]
  },
  {
   "cell_type": "code",
   "execution_count": 28,
   "metadata": {
    "collapsed": false
   },
   "outputs": [
    {
     "name": "stdout",
     "output_type": "stream",
     "text": [
      "Epoch 50.  Beta Div. Objective: -4.452\n",
      "Epoch 100.  Beta Div. Objective: -3.450\n",
      "Epoch 150.  Beta Div. Objective: -3.420\n",
      "Epoch 200.  Beta Div. Objective: -3.428\n",
      "Epoch 250.  Beta Div. Objective: -3.415\n",
      "Epoch 300.  Beta Div. Objective: -3.431\n",
      "Epoch 350.  Beta Div. Objective: -3.428\n",
      "Epoch 400.  Beta Div. Objective: -3.421\n",
      "Epoch 450.  Beta Div. Objective: -3.419\n",
      "Epoch 500.  Beta Div. Objective: -3.432\n"
     ]
    }
   ],
   "source": [
    "# Set training params\n",
    "n_epochs = 500\n",
    "learning_rate = .1\n",
    "\n",
    "# get the training operator\n",
    "train_model = tf.train.AdamOptimizer(learning_rate).minimize(-beta_obj, var_list=[mu, log_sigma])\n",
    "\n",
    "with tf.Session() as session:\n",
    "    tf.initialize_all_variables().run()\n",
    "    \n",
    "    for epoch_idx in xrange(n_epochs):\n",
    "        \n",
    "        # perform update\n",
    "        _, obj = session.run([train_model, beta_obj], feed_dict={X_train: data})\n",
    "        if (epoch_idx+1) % 50 == 0:\n",
    "            print \"Epoch %d.  Beta Div. Objective: %.3f\" %(epoch_idx+1, obj)\n",
    "        \n",
    "    # save the final params\n",
    "    final_params = {'mu':session.run(mu), 'sigma':session.run(tf.exp(log_sigma))}"
   ]
  },
  {
   "cell_type": "code",
   "execution_count": 29,
   "metadata": {
    "collapsed": false
   },
   "outputs": [
    {
     "data": {
      "image/png": "[encoded data removed]",
      "text/plain": [
       "<matplotlib.figure.Figure at 0x121583e50>"
      ]
     },
     "metadata": {},
     "output_type": "display_data"
    }
   ],
   "source": [
    "plt.scatter(true_obs[:,0], true_obs[:,1], marker='x', s=25, c='k', alpha=.7)\n",
    "plt.scatter(noise_obs[:,0], noise_obs[:,1], marker='x', s=25, c='r', alpha=.7)\n",
    "\n",
    "Z = bivariate_normal(X, Y, sigmax=final_params['sigma'][0,0], sigmay=final_params['sigma'][0,1], mux=final_params['mu'][0,0], muy=final_params['mu'][0,1], sigmaxy=0.)\n",
    "plt.contour(X,Y,Z, colors='blue', linewidths=3)\n",
    "\n",
    "plt.xlim([-plot_x_lim, plot_x_lim])\n",
    "plt.ylim([-plot_y_lim, plot_y_lim])\n",
    "plt.show()"
   ]
  },
  {
   "cell_type": "markdown",
   "metadata": {},
   "source": [
    "We see that the Beta divergence finally allows us to recover the data from the noise, and the model looks like the first one above."
   ]
  }
 ],
 "metadata": {
  "kernelspec": {
   "display_name": "Python 2",
   "language": "python",
   "name": "python2"
  },
  "language_info": {
   "codemirror_mode": {
    "name": "ipython",
    "version": 2
   },
   "file_extension": ".py",
   "mimetype": "text/x-python",
   "name": "python",
   "nbconvert_exporter": "python",
   "pygments_lexer": "ipython2",
   "version": "2.7.11"
  }
 },
 "nbformat": 4,
 "nbformat_minor": 1
}
