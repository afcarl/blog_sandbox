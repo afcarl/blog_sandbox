{
 "cells": [
  {
   "cell_type": "code",
   "execution_count": 5,
   "metadata": {
    "collapsed": false
   },
   "outputs": [],
   "source": [
    "import cPickle as cp\n",
    "\n",
    "from IPython.display import Image\n",
    "import matplotlib\n",
    "import matplotlib.pyplot as plt\n",
    "import matplotlib.mlab as mlab\n",
    "from matplotlib.mlab import bivariate_normal\n",
    "\n",
    "import autograd.numpy as np\n",
    "from autograd import grad\n",
    "%matplotlib inline"
   ]
  },
  {
   "cell_type": "code",
   "execution_count": 6,
   "metadata": {
    "collapsed": false
   },
   "outputs": [],
   "source": [
    "dim = 2\n",
    "plot_x_lim = [-6, 6]\n",
    "plot_y_lim = [-40, 10]\n",
    "x = np.arange(plot_x_lim[0], plot_x_lim[1], 0.5)\n",
    "y = np.arange(plot_y_lim[0], plot_y_lim[1], 0.5)\n",
    "X, Y = np.meshgrid(x, y)"
   ]
  },
  {
   "cell_type": "markdown",
   "metadata": {
    "collapsed": false
   },
   "source": [
    "Let's define a function to perform AdaM updates..."
   ]
  },
  {
   "cell_type": "code",
   "execution_count": 7,
   "metadata": {
    "collapsed": false
   },
   "outputs": [],
   "source": [
    "# AdaM: Adaptive Moments Optimizer\n",
    "## Params\n",
    "### alpha0: base learning rate\n",
    "### grad: current gradient\n",
    "### adam_values: dictionary containing moment estimates\n",
    "\n",
    "def get_AdaM_update(alpha_0, grad, adam_values, b1=.95, b2=.999, e=1e-8):\n",
    "    adam_values['t'] += 1\n",
    "\n",
    "    # update mean                                                                                                                                                                                                     \n",
    "    adam_values['mean'] = b1 * adam_values['mean'] + (1-b1) * grad\n",
    "    m_hat = adam_values['mean'] / (1-b1**adam_values['t'])\n",
    "\n",
    "    # update variance                                                                                                                                                                                                 \n",
    "    adam_values['var'] = b2 * adam_values['var'] + (1-b2) * grad**2\n",
    "    v_hat = adam_values['var'] / (1-b2**adam_values['t'])\n",
    "\n",
    "    return alpha_0 * m_hat/(np.sqrt(v_hat) + e)"
   ]
  },
  {
   "cell_type": "markdown",
   "metadata": {},
   "source": [
    "### Learning Model Reparametrizations\n",
    "#### By Michalis K. Titsias\n",
    "\n",
    "The idea behind [Learning Model Reparametrizations](https://arxiv.org/abs/1708.01529) is to parametrize a transformation involving the variable of interest and samples from a fixed distribution: $$ \\boldsymbol{\\theta} = g(\\boldsymbol{\\xi}; \\boldsymbol{\\phi}), \\ \\boldsymbol{\\xi} \\sim p_{0} $$ where $\\boldsymbol{\\theta}$ is the model variable, $\\boldsymbol{\\phi}$ are the transformation parameters, and $p_{0}$ the fixed distribution.  Then MCMC can be run to collect $\\boldsymbol{\\xi}$ samples, which, ostensibly, is easier than collecting samples of $\\boldsymbol{\\theta}$ directly."
   ]
  },
  {
   "cell_type": "markdown",
   "metadata": {},
   "source": [
    "### Experiment: Collecting samples from the banana distribution\n",
    "Let's draw data from the classic MCMC test case: the banana distribution..."
   ]
  },
  {
   "cell_type": "code",
   "execution_count": 8,
   "metadata": {
    "collapsed": false
   },
   "outputs": [
    {
     "data": {
      "image/png": "[encoded data removed]",
      "text/plain": [
       "<matplotlib.figure.Figure at 0x10b0473d0>"
      ]
     },
     "metadata": {},
     "output_type": "display_data"
    }
   ],
   "source": [
    "### Make Dataset\n",
    "N = 1000\n",
    "data = np.random.normal(size=(N, dim))\n",
    "z1 = 1.25*data[:,0]\n",
    "z2 = data[:,1]/1.25 - 2*(z1**2 + 1.25)\n",
    "data = np.hstack([z1[np.newaxis].T, z2[np.newaxis].T])\n",
    "np.random.shuffle(data)\n",
    "\n",
    "plt.scatter(data[:,0], data[:,1], marker='x', s=25, c='k', alpha=.7)\n",
    "\n",
    "plt.xlim([plot_x_lim[0], plot_x_lim[1]])\n",
    "plt.ylim([plot_y_lim[0], plot_y_lim[1]])\n",
    "plt.show()"
   ]
  },
  {
   "cell_type": "markdown",
   "metadata": {},
   "source": [
    "### Method\n",
    "\n",
    "Let's define the necessary primatives..."
   ]
  },
  {
   "cell_type": "code",
   "execution_count": null,
   "metadata": {
    "collapsed": false
   },
   "outputs": [],
   "source": [
    "def run_MH(data, unNorm_model, reparam_params, proposal, e0, n_MCMC_its):\n",
    "    samples = []\n",
    "    theta0 = reparam_params['mu'] + np.dot(reparam_params['L'], e0)\n",
    "    \n",
    "    for idx in range(n_MCMC_its):\n",
    "        proposal = np.random.normal(loc=e0, size=(1,2))\n",
    "        theta = reparam_params['mu'] + np.dot(reparam_params['L'], proposal)\n",
    "        \n",
    "        ratio = unNorm_model(data, theta) / unNorm_model(data, theta0) \n",
    "        correction = gaussPdf(e0, {'mu':proposal, 'sigma':1.}) / gaussPdf(proposal, {'mu':e0, 'sigma':1.})\n",
    "        \n",
    "        accept_prob = np.minimum(1., ratio * correction)\n",
    "        uni_prob = np.random.uniform(low=0., high=1.)\n",
    "        \n",
    "        if uni_prob <= accept_prob:\n",
    "            samples.append(proposal)\n",
    "            e0 = proposal\n",
    "            theta0 = reparam_params['mu'] + np.dot(reparam_params['L'], e0)\n",
    "            \n",
    "    return samples"
   ]
  },
  {
   "cell_type": "code",
   "execution_count": null,
   "metadata": {
    "collapsed": false
   },
   "outputs": [],
   "source": [
    "def run_implicitMCMC_VI(data, model_params, reparam_params, lr=.001, n_epochs=100, n_MCMC_its=100):\n",
    "    \n",
    "    adam_values = [{'mu':{'mean': 0., 'var': 0., 't': 0}, \n",
    "                    'logL':{'mean': 0., 'var': 0., 't': 0},\n",
    "                    'logSigma':{'mean': 0., 'var': 0., 't': 0},\n",
    "                   }]\n",
    "    \n",
    "    for it_idx in range(n_iterations):\n",
    "        \n",
    "        # update the reparametrization parameters\n",
    "        e0 = np.random.normal(size=(1,2))\n",
    "        e_samples = run_MH(data, modelWithTransform, reparam_params, proposal, e0, n_MCMC_its)\n",
    "        \n",
    "        grad_mu = 0.\n",
    "        grad_logL = 0.\n",
    "        for e in e_samples:\n",
    "            grad_mu += dLogModelWithTransform_dMu(reparam_params['mu'], data, model_params['logSigma'], e)\n",
    "            grad_logL += dLogModelWithTransform_dL(reparam_params['logL'], data, model_params['logSigma'], e)\n",
    "        \n",
    "        reparam_params['mu'] += get_AdaM_update(lr, grad/len(e_samples), adam_values['mu'])\n",
    "        reparam_params['logL'] += get_AdaM_update(lr, grad/len(e_samples), adam_values['logL'])\n",
    "        \n",
    "        # update model params\n",
    "        e0 = np.random.normal(size=(1,2))\n",
    "        e_samples = run_MH(data, unNorm_model, reparam_params, proposal, e0, n_MCMC_its)\n",
    "        thetas = [reparam_params['mu'] + np.dot(e, np.exp(reparam_params['logL'])) for e in e_samples]\n",
    "        \n",
    "        grad = 0.\n",
    "        for theta in thetas:\n",
    "            grad += dLogModel_dLogSigma(model_params['logSigma'], data, theta)\n",
    "        \n",
    "        model_params['logSigma'] += get_AdaM_update(lr, grad/len(thetas), adam_values['logSigma'])\n",
    "\n",
    "    # get one more round of samples\n",
    "    final_e_samples = run_MH(data, modelWithTransform, reparam_params, proposal, e0, n_MCMC_its)\n",
    "    \n",
    "    return model_params, reparam_params, final_e_samples"
   ]
  },
  {
   "cell_type": "code",
   "execution_count": null,
   "metadata": {
    "collapsed": false
   },
   "outputs": [],
   "source": [
    "# Gaussian\n",
    "def gaussPdf(x, params):\n",
    "    # params: {'mu': mean, 'sigma': standard dev.}\n",
    "    return (1./np.sqrt(2*np.pi*params['sigma']**2)) * np.exp((-.5/params['sigma']**2) * np.sum((x-params['mu'])**2))\n",
    "\n",
    "# Gaussian model\n",
    "def logModel(data, theta, logSigma):\n",
    "    return np.sum(np.log(gaussPdf(data, {'mu':theta, 'sigma': np.exp(logSigma)})))\n",
    "\n",
    "# Gaussian model with lower triangular inv transform\n",
    "def logModel_w_transform(data, mu, logL, e, logSigma):\n",
    "    L = np.exp(logL)\n",
    "    theta = mu + np.dot(e, L)\n",
    "    return logModel(data, theta, logSigma) - np.sum(np.log(np.diagonal(L)))"
   ]
  },
  {
   "cell_type": "code",
   "execution_count": null,
   "metadata": {
    "collapsed": false
   },
   "outputs": [],
   "source": [
    "dLogModelWithTransform_dMu = grad(lambda mu, data, logL, e, sigma: logModel_w_transform(data, mu, logL, e, sigma))\n",
    "\n",
    "dLogModelWithTransform_dLogL = grad(lambda logL, data, mu, e, sigma: logModel_w_transform(data, mu, logL, e, sigma))\n",
    "\n",
    "dLogModel_dLogSigma = grad(lambda logSigma, data, theta: logModel(data, theta, logSigma))"
   ]
  },
  {
   "cell_type": "code",
   "execution_count": null,
   "metadata": {
    "collapsed": false
   },
   "outputs": [],
   "source": [
    "# Set training params\n",
    "n_epochs = 500\n",
    "learning_rate = .1\n",
    "\n"
   ]
  },
  {
   "cell_type": "code",
   "execution_count": null,
   "metadata": {
    "collapsed": false
   },
   "outputs": [],
   "source": [
    "plt.scatter(true_obs[:,0], true_obs[:,1], marker='x', s=25, c='k', alpha=.7)\n",
    "plt.scatter(noise_obs[:,0], noise_obs[:,1], marker='x', s=25, c='r', alpha=.7)\n",
    "\n",
    "Z = bivariate_normal(X, Y, sigmax=final_params['sigma'][0,0], sigmay=final_params['sigma'][0,1], mux=final_params['mu'][0,0], muy=final_params['mu'][0,1], sigmaxy=0.)\n",
    "plt.contour(X,Y,Z, colors='blue', linewidths=3)\n",
    "\n",
    "plt.xlim([-plot_x_lim, plot_x_lim])\n",
    "plt.ylim([-plot_y_lim, plot_y_lim])\n",
    "plt.show()"
   ]
  }
 ],
 "metadata": {
  "kernelspec": {
   "display_name": "Python 2",
   "language": "python",
   "name": "python2"
  },
  "language_info": {
   "codemirror_mode": {
    "name": "ipython",
    "version": 2
   },
   "file_extension": ".py",
   "mimetype": "text/x-python",
   "name": "python",
   "nbconvert_exporter": "python",
   "pygments_lexer": "ipython2",
   "version": "2.7.11"
  }
 },
 "nbformat": 4,
 "nbformat_minor": 1
}
