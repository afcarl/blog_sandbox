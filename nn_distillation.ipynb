{
 "cells": [
  {
   "cell_type": "code",
   "execution_count": 1,
   "metadata": {
    "collapsed": false
   },
   "outputs": [],
   "source": [
    "import matplotlib\n",
    "import matplotlib.pyplot as plt\n",
    "import matplotlib.mlab as mlab\n",
    "\n",
    "import autograd.numpy as np\n",
    "from autograd import grad\n",
    "\n",
    "from scipy.linalg import orth\n",
    "from numpy.linalg import eig\n",
    "from numpy.linalg import svd\n",
    "\n",
    "%matplotlib inline"
   ]
  },
  {
   "cell_type": "code",
   "execution_count": 2,
   "metadata": {
    "collapsed": false
   },
   "outputs": [],
   "source": [
    "# AdaM: Adaptive Moments Optimizer\n",
    "## Params\n",
    "### alpha0: base learning rate\n",
    "### grad: current gradient\n",
    "### adam_values: dictionary containing moment estimates\n",
    "\n",
    "def get_AdaM_update(alpha_0, grad, adam_values, b1=.95, b2=.999, e=1e-8):\n",
    "    adam_values['t'] += 1\n",
    "\n",
    "    # update mean                                                                                                                                                                                                     \n",
    "    adam_values['mean'] = b1 * adam_values['mean'] + (1-b1) * grad\n",
    "    m_hat = adam_values['mean'] / (1-b1**adam_values['t'])\n",
    "\n",
    "    # update variance                                                                                                                                                                                                 \n",
    "    adam_values['var'] = b2 * adam_values['var'] + (1-b2) * grad**2\n",
    "    v_hat = adam_values['var'] / (1-b2**adam_values['t'])\n",
    "\n",
    "    return alpha_0 * m_hat/(np.sqrt(v_hat) + e)"
   ]
  },
  {
   "cell_type": "markdown",
   "metadata": {},
   "source": [
    "First, let's simulate some data to work with...   "
   ]
  },
  {
   "cell_type": "code",
   "execution_count": 3,
   "metadata": {
    "collapsed": false
   },
   "outputs": [
    {
     "data": {
      "image/png": "[encoded data removed]",
      "text/plain": [
       "<matplotlib.figure.Figure at 0x10feebed0>"
      ]
     },
     "metadata": {},
     "output_type": "display_data"
    }
   ],
   "source": [
    "# Simulate N observations from a cubic function\n",
    "N = 250\n",
    "x = np.array([np.random.uniform(-4,4) for n in range(N)])[np.newaxis].T\n",
    "y = x**3\n",
    "\n",
    "# True function\n",
    "N_true = 100\n",
    "x_true = np.linspace(start=-6, stop=6, num=N_true)\n",
    "y_true = x_true**3\n",
    "\n",
    "plt.plot(x_true, y_true, 'k-', label=\"True Function\")\n",
    "plt.plot(x, y, 'xk', ms=10, linewidth=1, label=\"Observations\")\n",
    "\n",
    "plt.xlabel(\"X\")\n",
    "plt.ylabel(\"Y\")\n",
    "plt.xlim([-6, 6])\n",
    "plt.ylim([-100, 100])\n",
    "\n",
    "plt.legend(loc=2)\n",
    "plt.show()"
   ]
  },
  {
   "cell_type": "markdown",
   "metadata": {},
   "source": [
    "## Distilling Neural Networks into Local Linear Regressors\n",
    "#### by [Eric Nalisnick](http://www.ics.uci.edu/~enalisni/) \n",
    "\n",
    "Neural network distillation [(Ba and Caruana, 2013)](https://arxiv.org/abs/1312.6184) [(Hinton et al., 2015)](https://arxiv.org/abs/1503.02531) [(Balan et al., 2015)](http://papers.nips.cc/paper/5965-bayesian-dark-knowledge)---where the probabilities produced by a large 'teacher' model are used as targets for training a smaller 'student' model---is crucial for delopying neural networks to systems for which runtime and memory are limited.  This notebook proposes a new strategy for *probabilistic* distillation, providing a distribution over various simpler models.  Moreover, the proposed method has the benefits that (1) the student model does not need its own optimization loop and (2) as the students are mixtures of linear models, they allow for a high degree of interpretability.    "
   ]
  },
  {
   "cell_type": "markdown",
   "metadata": {},
   "source": [
    "### 1.  Nonparametric Regression\n",
    "We first review [nonparametric regression](http://www.stat.cmu.edu/~larry/=sml/nonpar.pdf) methods.  Recall kernelized nearest neighbors regression, which for an input $\\mathbf{x}$ has the form: $$ \\mathbb{E}[\\mathbf{y} | \\mathbf{x}] \\ \\ = \\ \\ \\boldsymbol{\\mu}^{Y} \\ \\ = \\ \\ \\sum_{i=1}^{N} \\pi_{i}(\\mathbf{x}) \\ \\mathbf{y}_{i}  \\ \\ \\ \\text{where} \\ \\ \\ \\pi_{i}(\\mathbf{x}) = \\frac{k(\\mathbf{x}, \\mathbf{x}_{i}; \\beta)}{\\sum_{j=1}^{N} k(\\mathbf{x}, \\mathbf{x}_{j}; \\beta)}.$$  $\\boldsymbol{\\mu}^{Y}$ is the mean of the label/reponse distribution, $\\pi_{i}(\\mathbf{x})$ is a weighting function comprised of kernels, and $\\beta$ is a scale parameter for the kernels.     "
   ]
  },
  {
   "cell_type": "code",
   "execution_count": 4,
   "metadata": {
    "collapsed": false
   },
   "outputs": [],
   "source": [
    "def kernel(x1, x2, beta=.1):\n",
    "    #if x1[0] == x2[0]: return 1.\n",
    "    #return 0\n",
    "    return np.exp(-np.sum((x1-x2)**2)/beta)\n",
    "\n",
    "\n",
    "kernel_vals = np.zeros((N_true, N))\n",
    "beta_val = .1\n",
    "\n",
    "for i in range(N_true):\n",
    "    for j in range(N):\n",
    "        kernel_vals[i,j] = kernel(x_true[i], x[j], beta_val)\n",
    "        \n",
    "kernel_vals = kernel_vals / (kernel_vals.sum(axis=1)[np.newaxis].T)"
   ]
  },
  {
   "cell_type": "code",
   "execution_count": 5,
   "metadata": {
    "collapsed": false
   },
   "outputs": [
    {
     "data": {
      "image/png": "[encoded data removed]",
      "text/plain": [
       "<matplotlib.figure.Figure at 0x11004b110>"
      ]
     },
     "metadata": {},
     "output_type": "display_data"
    }
   ],
   "source": [
    "yHat_kernelNN = np.sum(y.T * kernel_vals, axis=1)\n",
    "\n",
    "plt.plot(x_true, y_true, 'k-', linewidth=5, label=\"True Function\")\n",
    "plt.plot(x_true, yHat_kernelNN, 'b--', linewidth=9, label=\"Kernel NP Regression\")\n",
    "\n",
    "plt.xlabel(\"X\")\n",
    "plt.ylabel(\"Y\")\n",
    "plt.xlim([-6, 6])\n",
    "plt.ylim([-100, 100])\n",
    "\n",
    "plt.legend(loc=2)\n",
    "plt.show()"
   ]
  },
  {
   "cell_type": "markdown",
   "metadata": {},
   "source": [
    "### 2.  Transforming Neural Networks into Local Regressors\n",
    "Next consider the problem of compressing a trained feedforward neural network with ReLU activations.  Define the network as $\\boldsymbol{\\mu}^{Y}_{i} = g^{-1}(f(\\mathbf{x}_{i}; \\boldsymbol{\\theta}))$ where $\\boldsymbol{\\mu}^{Y}_{i}$ is the mean of the output distribution for input $\\mathbf{x}_{i}$, $g(\\cdot)$ is the link function, and $f(\\mathbf{x}_{i}; \\boldsymbol{\\theta})$ is the output of the neural network (before the output activation).\n",
    "\n",
    "#### 0th Order Approximation\n",
    "One, possibly naive, idea is to use the predicted outputs within the nearest neighbors regression framework: $$ g(\\boldsymbol{\\mu}^{Y, 0}) \\ \\ = \\ \\ \\sum_{i=1}^{N} \\pi_{i}(\\mathbf{x}) \\ g(\\hat{\\mathbf{y}}_{i}) \\ \\ = \\ \\ \\sum_{i=1}^{N} \\pi_{i}(\\mathbf{x}) \\ f(\\mathbf{x}_{i}; \\boldsymbol{\\theta})$$ where $\\hat{\\mathbf{y}}_{i} = g^{-1}(f(\\mathbf{x}_{i}; \\boldsymbol{\\theta}))$.  Notice that we have changed the formulation slightly, having the weighted sum being taken over the sufficient statistic (pre-link).  This approach doesn't make much sense, however, since it would be much easier to use the observed labels than training another model and using the predicted ones---although, the model may introduce some regularity / smoothing.\n",
    "\n",
    "#### 1st Order Approximation\n",
    "Yet, we can improve the approximation by incorportaing more information about the function the network learned.  For a test point $\\mathbf{x}$, we can make its corresponding prediction by examining a first-order Taylor expansion around training point $\\mathbf{x}_{i}$: $ f(\\mathbf{x}; \\boldsymbol{\\theta}) \\approx f(\\mathbf{x}_{i}; \\boldsymbol{\\theta}) + (\\mathbf{x} - \\mathbf{x}_{i}) \\frac{\\partial f(\\mathbf{x}_{i}; \\boldsymbol{\\theta})}{\\partial \\mathbf{x}_{i}}.$  The resulting local regression model is then:  $$ g(\\boldsymbol{\\mu}^{Y, 1}) \\ \\ = \\ \\ \\sum_{i=1}^{N} \\pi_{i}(\\mathbf{x}) \\ [f(\\mathbf{x}_{i}; \\boldsymbol{\\theta}) + (\\mathbf{x} - \\mathbf{x}_{i}) \\frac{\\partial f(\\mathbf{x}_{i}; \\boldsymbol{\\theta})}{\\partial \\mathbf{x}_{i}}].$$  However, as pointed out by [Wang et al. (ICML 2016)](http://proceedings.mlr.press/v48/wanga16.pdf),  feedforward ReLU networks have a special property: $f(\\mathbf{x}_{i}; \\boldsymbol{\\theta}) = \\mathbf{x}_{i} \\frac{\\partial f(\\mathbf{x}_{i}; \\boldsymbol{\\theta})}{\\partial \\mathbf{x}_{i}}$, and thus we can simplify to: $$ g(\\boldsymbol{\\mu}^{Y, 1}) \\ \\ = \\ \\ \\sum_{i=1}^{N} \\pi_{i}(\\mathbf{x}) \\ [f(\\mathbf{x}_{i}; \\boldsymbol{\\theta}) + \\mathbf{x} \\frac{\\partial f(\\mathbf{x}_{i}; \\boldsymbol{\\theta})}{\\partial \\mathbf{x}_{i}} - \\mathbf{x}_{i} \\frac{\\partial f(\\mathbf{x}_{i}; \\boldsymbol{\\theta})}{\\partial \\mathbf{x}_{i}}] \\ \\ = \\ \\ \\sum_{i=1}^{N} \\pi_{i}(\\mathbf{x}) \\ \\mathbf{x} \\frac{\\partial f(\\mathbf{x}_{i}; \\boldsymbol{\\theta})}{\\partial \\mathbf{x}_{i}} .$$  As we can precompute these first derivatives, storing them as vectors $\\frac{\\partial f(\\mathbf{x}_{i}; \\boldsymbol{\\theta})}{\\partial \\mathbf{x}_{i}} = \\mathbf{u}_{i}$, we have reduced the ReLU network to locally linear functions.  This result isn't too surprising, as it is known that [ReLU networks are piecewise linear](https://arxiv.org/abs/1611.01491). \n",
    "\n",
    "#### 2nd Order Approximation\n",
    "One may then ask, can we further increase the accuracy of the Taylor approximation.  The answer is 'no,' as $\\frac{\\partial^{2} f(\\mathbf{x}_{i}; \\boldsymbol{\\theta})}{\\partial \\mathbf{x}^{2}_{i}} = 0$.  Thus, the first-order approximation is *locally* exact."
   ]
  },
  {
   "cell_type": "markdown",
   "metadata": {},
   "source": [
    "####  Experiment: Regression Simulation\n",
    "\n",
    "Let's now demonstrate how to find the mixture of experts representation a network trained on one-dimensional data..."
   ]
  },
  {
   "cell_type": "markdown",
   "metadata": {
    "collapsed": true
   },
   "source": [
    "Next let's define the model: a one-hidden-layer neural network with 50 units..."
   ]
  },
  {
   "cell_type": "code",
   "execution_count": null,
   "metadata": {
    "collapsed": false
   },
   "outputs": [],
   "source": [
    "# Regression NN with one hidden layer of 50 units\n",
    "def logModel(W, b, x, y):\n",
    "    h = np.maximum(np.dot(x, W[:, :50]) + b[:, :50], 0.)\n",
    "    y_hat = np.dot(h, W[:, 50:].T) + b[:, 50:]\n",
    "    return np.sum( .5 * -(y - y_hat)**2 )\n",
    "\n",
    "def fprop(W, b, x):\n",
    "    h = np.maximum(np.dot(x, W[:, :50]) + b[:, :50], 0.)\n",
    "    return np.dot(h, W[:, 50:].T) + b[:, 50:]\n",
    "\n",
    "\n",
    "### GET DERIVATIVES ###\n",
    "# d log p(X | \\theta) / d \\theta\n",
    "dLogModel_dW = grad(logModel)\n",
    "dLogModel_db = grad(lambda b, W, x, y: logModel(W, b, x, y))"
   ]
  },
  {
   "cell_type": "markdown",
   "metadata": {
    "collapsed": true
   },
   "source": [
    "Now let's train the NN..."
   ]
  },
  {
   "cell_type": "code",
   "execution_count": null,
   "metadata": {
    "collapsed": false
   },
   "outputs": [],
   "source": [
    "### INIT PARAMS \n",
    "theta = {'W': .001 * np.random.normal(size=(1,100)), 'b': np.zeros((1,51))}\n",
    "\n",
    "### ELBO OPTIMIZATION\n",
    "maxEpochs = 1000\n",
    "learning_rate = .01\n",
    "adam_values = {'W':{'mean': 0., 'var': 0., 't': 0}, \n",
    "               'b':{'mean': 0., 'var': 0., 't': 0}}\n",
    "\n",
    "loss = 0.\n",
    "for epochIdx in range(maxEpochs):\n",
    "    \n",
    "    dModel_dW = dLogModel_dW(theta['W'], theta['b'], x, y) \n",
    "    dModel_db = dLogModel_db(theta['b'], theta['W'], x, y)\n",
    "        \n",
    "    theta['W'] += get_AdaM_update(learning_rate, dModel_dW, adam_values['W'])  \n",
    "    theta['b'] += get_AdaM_update(learning_rate, dModel_db, adam_values['b'])\n",
    "    \n",
    "    loss += logModel(theta['W'], theta['b'], x, y)\n",
    "    if (epochIdx+1) % 100 == 0:\n",
    "        print \"%d. Neg. Log Likelihood: %.3f\" %(epochIdx+1, -loss/5.)\n",
    "        loss = 0."
   ]
  },
  {
   "cell_type": "markdown",
   "metadata": {
    "collapsed": true
   },
   "source": [
    "And visualize the results..."
   ]
  },
  {
   "cell_type": "code",
   "execution_count": null,
   "metadata": {
    "collapsed": false
   },
   "outputs": [],
   "source": [
    "plt.plot(x_true, y_true, 'k-', linewidth=5, label=\"True Function\")\n",
    "plt.plot(x, y, 'xk', ms=10, linewidth=1, label=\"Observations\")\n",
    "plt.plot(x_true, fprop(theta['W'], theta['b'], x_true[np.newaxis].T), 'r-', linewidth=5, label=\"Model\")\n",
    "\n",
    "plt.xlabel(\"X\")\n",
    "plt.ylabel(\"Y\")\n",
    "plt.xlim([-6, 6])\n",
    "plt.ylim([-100, 100])\n",
    "\n",
    "plt.legend(loc=2)\n",
    "plt.show()"
   ]
  },
  {
   "cell_type": "markdown",
   "metadata": {},
   "source": [
    "#### Linearizing the Network\n",
    "\n",
    "Next let's write a function that extracts $\\tilde{\\mathbf{U}}_{i}$ for each $\\mathbf{x}_{i}$..."
   ]
  },
  {
   "cell_type": "code",
   "execution_count": null,
   "metadata": {
    "collapsed": false
   },
   "outputs": [],
   "source": [
    "def get_linear_transform(x_i, W, b):\n",
    "    #copy\n",
    "    W_tilde = np.array(W)\n",
    "    b_tilde = np.array(b)\n",
    "    \n",
    "    # fprop\n",
    "    h = np.maximum(np.dot(x_i, W[:, :50]) + b[:, :50], 0.)\n",
    "    \n",
    "    # apply mask\n",
    "    for j in range(50):\n",
    "        if h[0, j] == 0: \n",
    "            W_tilde[:, j] = 0.\n",
    "            b_tilde[:, j] = 0.\n",
    "            \n",
    "    # construct matrices\n",
    "    W1_tilde = np.vstack([W_tilde[:, :50], b_tilde[:, :50]]) #add bias\n",
    "    next_bias = np.hstack([1./x_i, np.zeros((1,1))]).T\n",
    "    W1_tilde = np.hstack([W1_tilde, next_bias]) # add bias for next layer\n",
    "    \n",
    "    W2_tilde = np.vstack([W_tilde[:, 50:].T, b_tilde[:, 50:]]) #add bias\n",
    "    \n",
    "    return np.dot(W1_tilde, W2_tilde)"
   ]
  },
  {
   "cell_type": "markdown",
   "metadata": {},
   "source": [
    "Next we calculate all the $\\tilde{\\mathbf{U}}$ vectors..."
   ]
  },
  {
   "cell_type": "code",
   "execution_count": null,
   "metadata": {
    "collapsed": false
   },
   "outputs": [],
   "source": [
    "x = np.sort(x, axis=0)\n",
    "\n",
    "U_vectors = []\n",
    "for i in range(N):\n",
    "    U_vectors.append( get_linear_transform(x[i,:][np.newaxis], theta['W'], theta['b'])[:,0] )\n",
    "U_vectors = np.array(U_vectors).T"
   ]
  },
  {
   "cell_type": "markdown",
   "metadata": {},
   "source": [
    "Define a kernel function and calculate it between all pairs..."
   ]
  },
  {
   "cell_type": "code",
   "execution_count": null,
   "metadata": {
    "collapsed": false
   },
   "outputs": [],
   "source": [
    "def kernel(x1, x2, beta=.1):\n",
    "    #if x1[0] == x2[0]: return 1.\n",
    "    #return 0\n",
    "    return np.exp(-np.sum((x1-x2)**2)/beta)\n",
    "\n",
    "kernel_vals = np.zeros((N, N))\n",
    "for i in range(N):\n",
    "    for j in range(N):\n",
    "        kernel_vals[i,j] = kernel(x[i], x[j])\n",
    "        \n",
    "kernel_vals = kernel_vals / (kernel_vals.sum(axis=1)[np.newaxis].T)"
   ]
  },
  {
   "cell_type": "markdown",
   "metadata": {},
   "source": [
    "#### Training Data Result\n",
    "\n",
    "Visualize the result on the training data.."
   ]
  },
  {
   "cell_type": "code",
   "execution_count": null,
   "metadata": {
    "collapsed": false
   },
   "outputs": [],
   "source": [
    "x_w_bias = np.hstack([x, np.ones((N,1))])\n",
    "yHat_MoE = np.sum(np.dot(x_w_bias, U_vectors) * kernel_vals, axis=1)\n",
    "\n",
    "plt.plot(x_true, y_true, 'k-', linewidth=5, label=\"True Function\")\n",
    "plt.plot(x, fprop(theta['W'], theta['b'], x), 'r-', linewidth=7, label=\"Model\")\n",
    "plt.plot(x, yHat_MoE, 'b--', linewidth=7, label=\"MoE Approx\")\n",
    "\n",
    "plt.xlabel(\"X\")\n",
    "plt.ylabel(\"Y\")\n",
    "plt.xlim([-6, 6])\n",
    "plt.ylim([-100, 100])\n",
    "\n",
    "plt.legend(loc=2)\n",
    "plt.show()"
   ]
  },
  {
   "cell_type": "markdown",
   "metadata": {},
   "source": [
    "#### Test Data Result\n",
    "\n",
    "Visualize the result for the true function..."
   ]
  },
  {
   "cell_type": "code",
   "execution_count": null,
   "metadata": {
    "collapsed": false
   },
   "outputs": [],
   "source": [
    "kernel_vals = np.zeros((100, N))\n",
    "beta_val = .1\n",
    "\n",
    "for i in range(100):\n",
    "    for j in range(N):\n",
    "        kernel_vals[i,j] = kernel(x_true[i], x[j], beta_val)\n",
    "        \n",
    "kernel_vals = kernel_vals / (kernel_vals.sum(axis=1)[np.newaxis].T)"
   ]
  },
  {
   "cell_type": "code",
   "execution_count": null,
   "metadata": {
    "collapsed": false
   },
   "outputs": [],
   "source": [
    "xTrue_w_bias = np.hstack([x_true[np.newaxis].T, np.ones((100,1))])\n",
    "yHat_MoE = np.sum(np.dot(xTrue_w_bias, U_vectors) * kernel_vals, axis=1)\n",
    "\n",
    "plt.plot(x_true, y_true, 'k-', linewidth=5, label=\"True Function\")\n",
    "plt.plot(x_true, fprop(theta['W'], theta['b'], x_true[np.newaxis].T), 'r-', linewidth=7, label=\"Model\")\n",
    "plt.plot(x_true, yHat_MoE, 'b--', linewidth=7, label=\"MoE Approx\")\n",
    "\n",
    "plt.xlabel(\"X\")\n",
    "plt.ylabel(\"Y\")\n",
    "plt.xlim([-6, 6])\n",
    "plt.ylim([-100, 100])\n",
    "\n",
    "plt.legend(loc=2)\n",
    "plt.show()"
   ]
  },
  {
   "cell_type": "markdown",
   "metadata": {},
   "source": [
    "### 2.  Pruning Experts \n",
    "Using the above mixture of experts representation in place of the original model requires $\\mathcal{O}(Nd)$ time, as it depends on the number of training points, which is a dependence we'd like to break.  Hence, we would like form a good approximation using only a subset of the experts: $$ f(\\mathbf{x}; \\{ \\tilde{\\mathbf{U}}_{1}, \\tilde{\\mathbf{U}}_{2}, \\ldots, \\tilde{\\mathbf{U}}_{N} \\}) \\  \\approx  \\  \\sum_{k=1}^{K} \\pi_{k}(\\mathbf{x}) \\ \\mathbf{x}  \\tilde{\\mathbf{U}}_{k}$$ for $K<<N$.  How should we choose the subset?  Below we attempt several different strategies..."
   ]
  },
  {
   "cell_type": "markdown",
   "metadata": {},
   "source": [
    "#### A.  Random Sampling\n",
    "We start with a naive solution: random sampling.  We sample $K$ pairs $\\{\\mathbf{x}_{k}, \\tilde{\\mathbf{U}}_{k} \\}$ without replacement from the set of $N$.     "
   ]
  },
  {
   "cell_type": "code",
   "execution_count": null,
   "metadata": {
    "collapsed": false
   },
   "outputs": [],
   "source": [
    "K = 4\n",
    "k_idxs = np.random.choice(N, K)\n",
    "\n",
    "kernel_vals = np.zeros((100, K))\n",
    "beta_val = 1.\n",
    "\n",
    "for i in range(100):\n",
    "    for j, k in enumerate(k_idxs):\n",
    "        kernel_vals[i,j] = kernel(x_true[i], x[k], beta_val)\n",
    "        \n",
    "kernel_vals = kernel_vals / (kernel_vals.sum(axis=1)[np.newaxis].T)"
   ]
  },
  {
   "cell_type": "code",
   "execution_count": null,
   "metadata": {
    "collapsed": false
   },
   "outputs": [],
   "source": [
    "U_subset = U_vectors[:, k_idxs]\n",
    "yHat_MoE = np.sum(np.dot(xTrue_w_bias, U_subset) * kernel_vals, axis=1)\n",
    "\n",
    "plt.plot(x_true, y_true, 'k-', linewidth=5, label=\"True Function\")\n",
    "plt.plot(x_true, fprop(theta['W'], theta['b'], x_true[np.newaxis].T), 'r-', linewidth=7, label=\"Model\")\n",
    "plt.plot(x_true, yHat_MoE, 'b--', linewidth=7, label=\"MoE Approx\")\n",
    "\n",
    "plt.xlabel(\"X\")\n",
    "plt.ylabel(\"Y\")\n",
    "plt.xlim([-6, 6])\n",
    "plt.ylim([-100, 100])\n",
    "\n",
    "plt.legend(loc=2)\n",
    "plt.show()"
   ]
  },
  {
   "cell_type": "markdown",
   "metadata": {},
   "source": [
    "#### B.  Regular Sampling\n",
    "We continue with another naive solution: sampling regular interval.  We sample $K$ pairs $\\{\\mathbf{x}_{k}, \\tilde{\\mathbf{U}}_{k} \\}$ by choosing every $N/k$th ordered point.     "
   ]
  },
  {
   "cell_type": "code",
   "execution_count": null,
   "metadata": {
    "collapsed": false
   },
   "outputs": [],
   "source": [
    "K = 4\n",
    "k_idxs = [0] + [k * N/(K-1) for k in range(1, K-1)] + [N-1]\n",
    "print k_idxs\n",
    "\n",
    "kernel_vals = np.zeros((100, K))\n",
    "\n",
    "for i in range(100):\n",
    "    for j, k in enumerate(k_idxs):\n",
    "        kernel_vals[i,j] = kernel(x_true[i], x[k], beta_val)\n",
    "        \n",
    "kernel_vals = kernel_vals / (kernel_vals.sum(axis=1)[np.newaxis].T)"
   ]
  },
  {
   "cell_type": "code",
   "execution_count": null,
   "metadata": {
    "collapsed": false
   },
   "outputs": [],
   "source": [
    "U_subset = U_vectors[:, k_idxs]\n",
    "yHat_MoE = np.sum(np.dot(xTrue_w_bias, U_subset) * kernel_vals, axis=1)\n",
    "\n",
    "plt.plot(x_true, y_true, 'k-', linewidth=5, label=\"True Function\")\n",
    "plt.plot(x_true, fprop(theta['W'], theta['b'], x_true[np.newaxis].T), 'r-', linewidth=7, label=\"Model\")\n",
    "plt.plot(x_true, yHat_MoE, 'b--', linewidth=7, label=\"MoE Approx\")\n",
    "\n",
    "plt.xlabel(\"X\")\n",
    "plt.ylabel(\"Y\")\n",
    "plt.xlim([-6, 6])\n",
    "plt.ylim([-100, 100])\n",
    "\n",
    "plt.legend(loc=2)\n",
    "plt.show()"
   ]
  },
  {
   "cell_type": "markdown",
   "metadata": {},
   "source": [
    "#### C.   Douglas-Peucker Algorithm\n",
    "For polylines, there is a recursive simplification algorithm known as the [Douglas-Peucker Algorithm](https://en.wikipedia.org/wiki/Ramer%E2%80%93Douglas%E2%80%93Peucker_algorithm).  It has an expected runtime of $\\mathcal{O}(N \\log N)$.     "
   ]
  },
  {
   "cell_type": "code",
   "execution_count": null,
   "metadata": {
    "collapsed": true
   },
   "outputs": [],
   "source": [
    "import math\n",
    "import time\n",
    "\n",
    "\n",
    "def timenow():\n",
    "    return int(time.time() * 1000)\n",
    "\n",
    "def sqr(x):\n",
    "    return x*x\n",
    "\n",
    "def distSquared(p1, p2):\n",
    "    return sqr(p1[0] - p2[0]) + sqr(p1[1] - p2[1])\n",
    "\n",
    "class Line(object):\n",
    "    def __init__(self, p1, p2):\n",
    "        self.p1 = p1\n",
    "        self.p2 = p2\n",
    "        self.lengthSquared = distSquared(self.p1, self.p2)\n",
    "\n",
    "    def getRatio(self, point):\n",
    "        segmentLength = self.lengthSquared\n",
    "        if segmentLength == 0:\n",
    "            return distSquared(point, p1);\n",
    "        return ((point[0] - self.p1[0]) * (self.p2[0] - self.p1[0]) + \\\n",
    "        (point[1] - self.p1[1]) * (self.p2[1] - self.p1[1])) / segmentLength\n",
    "\n",
    "    def distanceToSquared(self, point):\n",
    "        t = self.getRatio(point)\n",
    "\n",
    "        if t < 0:\n",
    "            return distSquared(point, self.p1)\n",
    "        if t > 1:\n",
    "            return distSquared(point, self.p2)\n",
    "\n",
    "        return distSquared(point, [\n",
    "            self.p1[0] + t * (self.p2[0] - self.p1[0]),\n",
    "            self.p1[1] + t * (self.p2[1] - self.p1[1])\n",
    "        ])\n",
    "\n",
    "    def distanceTo(self, point):\n",
    "        return math.sqrt(self.distanceToSquared(point))\n",
    "\n",
    "\n",
    "def simplifyDouglasPeucker(points, pointsToKeep):\n",
    "    weights = []\n",
    "    length = len(points)\n",
    "\n",
    "    def douglasPeucker(start, end):\n",
    "        if (end > start + 1):\n",
    "            line = Line(points[start], points[end])\n",
    "            maxDist = -1\n",
    "            maxDistIndex = 0\n",
    "\n",
    "            for i in range(start + 1, end):\n",
    "                dist = line.distanceToSquared(points[i])\n",
    "                if dist > maxDist:\n",
    "                    maxDist = dist\n",
    "                    maxDistIndex = i\n",
    "\n",
    "            weights.insert(maxDistIndex, maxDist)\n",
    "\n",
    "            douglasPeucker(start, maxDistIndex)\n",
    "            douglasPeucker(maxDistIndex, end)\n",
    "\n",
    "    douglasPeucker(0, length - 1)\n",
    "    weights.insert(0, float(\"inf\"))\n",
    "    weights.append(float(\"inf\"))\n",
    "\n",
    "    weightsDescending = weights\n",
    "    weightsDescending = sorted(weightsDescending, reverse=True)\n",
    "\n",
    "    maxTolerance = weightsDescending[pointsToKeep - 1]\n",
    "    result = [\n",
    "        point for i, point in enumerate(points) if weights[i] >= maxTolerance\n",
    "    ]\n",
    "\n",
    "    return result"
   ]
  },
  {
   "cell_type": "code",
   "execution_count": null,
   "metadata": {
    "collapsed": false
   },
   "outputs": [],
   "source": [
    "K = 4\n",
    "point_tups = zip(x[:,0].tolist(), fprop(theta['W'], theta['b'], x)[:,0].tolist())\n",
    "points_kept = simplifyDouglasPeucker(points=point_tups, pointsToKeep=K)\n",
    "k_idxs = [point_tups.index(p) for p in points_kept]\n",
    "\n",
    "kernel_vals = np.zeros((100, K))\n",
    "\n",
    "for i in range(100):\n",
    "    for j, k in enumerate(k_idxs):\n",
    "        kernel_vals[i,j] = kernel(x_true[i], x[k], beta_val)\n",
    "        \n",
    "kernel_vals = kernel_vals / (kernel_vals.sum(axis=1)[np.newaxis].T)"
   ]
  },
  {
   "cell_type": "code",
   "execution_count": null,
   "metadata": {
    "collapsed": false
   },
   "outputs": [],
   "source": [
    "U_subset = U_vectors[:, k_idxs]\n",
    "yHat_MoE = np.sum(np.dot(xTrue_w_bias, U_subset) * kernel_vals, axis=1)\n",
    "\n",
    "plt.plot(x_true, y_true, 'k-', linewidth=5, label=\"True Function\")\n",
    "plt.plot(x_true, fprop(theta['W'], theta['b'], x_true[np.newaxis].T), 'r-', linewidth=7, label=\"Model\")\n",
    "plt.plot(x_true, yHat_MoE, 'b--', linewidth=7, label=\"MoE Approx\")\n",
    "\n",
    "plt.xlabel(\"X\")\n",
    "plt.ylabel(\"Y\")\n",
    "plt.xlim([-6, 6])\n",
    "plt.ylim([-100, 100])\n",
    "\n",
    "plt.legend(loc=2)\n",
    "plt.show()"
   ]
  },
  {
   "cell_type": "markdown",
   "metadata": {},
   "source": [
    "#### D.   Sensitivity-Based Pruning\n",
    "Recall that $\\tilde{\\mathbf{U}}_{i} = \\frac{\\partial g(\\boldsymbol{\\mu}^{Y}_{i})}{\\partial \\mathbf{x}_{i}}$, and therefore  $|| \\tilde{\\mathbf{U}}_{i}|| = || \\frac{\\partial g(\\boldsymbol{\\mu}^{Y}_{i})}{\\partial \\mathbf{x}_{i}} ||$.  In other words, the linear transformations with the largest norms are the ones most sensitive to the input $\\mathbf{x}$, changing their output quickly with small changes to the input.  It is reasonable to think that these transformations have the least chance of generalizing and therefore should be the ones that are pruned.  In classification settings, we may prune for each class separately."
   ]
  },
  {
   "cell_type": "code",
   "execution_count": null,
   "metadata": {
    "collapsed": false
   },
   "outputs": [],
   "source": [
    "K = 8\n",
    "k_idxs = ((np.sum(U_vectors**2, axis=0))).argsort()[N/2-K/2:-(N/2-K/2)]\n",
    "print k_idxs\n",
    "\n",
    "kernel_vals = np.zeros((100, K))\n",
    "\n",
    "for i in range(100):\n",
    "    for j, k in enumerate(k_idxs):\n",
    "        kernel_vals[i,j] = kernel(x_true[i], x[k], beta_val)\n",
    "        \n",
    "kernel_vals = kernel_vals / (kernel_vals.sum(axis=1)[np.newaxis].T)"
   ]
  },
  {
   "cell_type": "code",
   "execution_count": null,
   "metadata": {
    "collapsed": false
   },
   "outputs": [],
   "source": [
    "U_subset = U_vectors[:, k_idxs]\n",
    "yHat_MoE = np.sum(np.dot(xTrue_w_bias, U_subset) * kernel_vals, axis=1)\n",
    "\n",
    "plt.plot(x_true, y_true, 'k-', linewidth=5, label=\"True Function\")\n",
    "plt.plot(x_true, fprop(theta['W'], theta['b'], x_true[np.newaxis].T), 'r-', linewidth=7, label=\"Model\")\n",
    "plt.plot(x_true, yHat_MoE, 'b--', linewidth=7, label=\"MoE Approx\")\n",
    "\n",
    "plt.xlabel(\"X\")\n",
    "plt.ylabel(\"Y\")\n",
    "plt.xlim([-6, 6])\n",
    "plt.ylim([-100, 100])\n",
    "\n",
    "plt.legend(loc=2)\n",
    "plt.show()"
   ]
  },
  {
   "cell_type": "markdown",
   "metadata": {},
   "source": [
    "#### E.   Low-Rank Representation\n",
    "Instead of pruning $\\tilde{\\mathbf{U}}_{i}$'s, we can simply try to find a low-rank representation that takes all transformations into account: $\\tilde{\\mathbf{U}}_{d \\times N} = \\mathbf{V}_{d \\times K} \\mathbf{Q}_{K \\times N}$.  The $\\mathbf{V}$ matrix can then be used to make predictions.  If $\\tilde{\\mathbf{U}}_{i}$ is a matrix, then we must perform tensor decomposition.  In order to formulate the kernel weighting function, we'll need to change the basis of the original dataset via $\\mathbf{Q}\\mathbf{X} = \\mathbf{Z}_{K \\times d}$"
   ]
  },
  {
   "cell_type": "code",
   "execution_count": null,
   "metadata": {
    "collapsed": false
   },
   "outputs": [],
   "source": [
    "K=2\n",
    "V,S,Q = svd(U_vectors, full_matrices=False)\n",
    "S = np.diag(S)\n",
    "Z_train = np.dot(Q, x)  # K X d\n",
    "\n",
    "kernel_vals = np.zeros((100, K))\n",
    "k_idxs = [0, 1]\n",
    "for i in range(100):\n",
    "    for j, k in enumerate(k_idxs):\n",
    "        kernel_vals[i,j] = kernel(x_true[i], Z_train[k], 1.)\n",
    "        \n",
    "kernel_vals = kernel_vals / (kernel_vals.sum(axis=1)[np.newaxis].T)"
   ]
  },
  {
   "cell_type": "code",
   "execution_count": null,
   "metadata": {
    "collapsed": false
   },
   "outputs": [],
   "source": [
    "yHat_MoE = np.sum(np.dot(xTrue_w_bias, V) * kernel_vals, axis=1)\n",
    "\n",
    "plt.plot(x_true, y_true, 'k-', linewidth=5, label=\"True Function\")\n",
    "plt.plot(x_true, fprop(theta['W'], theta['b'], x_true[np.newaxis].T), 'r-', linewidth=7, label=\"Model\")\n",
    "plt.plot(x_true, yHat_MoE, 'b--', linewidth=7, label=\"MoE Approx\")\n",
    "\n",
    "plt.xlabel(\"X\")\n",
    "plt.ylabel(\"Y\")\n",
    "plt.xlim([-6, 6])\n",
    "plt.ylim([-100, 100])\n",
    "\n",
    "plt.legend(loc=2)\n",
    "plt.show()"
   ]
  },
  {
   "cell_type": "markdown",
   "metadata": {},
   "source": [
    "### 3.  Experiment: MNIST\n",
    "We now test the above pruning strategy on a more realistic example, MNIST.  Let's load the data..."
   ]
  },
  {
   "cell_type": "code",
   "execution_count": 6,
   "metadata": {
    "collapsed": false
   },
   "outputs": [],
   "source": [
    "from sklearn.datasets import fetch_mldata\n",
    "from random import shuffle\n",
    "\n",
    "mnist = fetch_mldata('MNIST original')\n",
    "\n",
    "# reduce dataset and normalize to [0,1]\n",
    "random_idxs = range(mnist.data.shape[0])\n",
    "shuffle(random_idxs)\n",
    "train_x = mnist.data[random_idxs[:10000],:] / 255.\n",
    "test_x = mnist.data[random_idxs[10000:15000],:] / 255.\n",
    "train_y = np.zeros((10000, 10))\n",
    "for i, y in enumerate(mnist.target[random_idxs[:10000]]):\n",
    "    train_y[i, int(y)] = 1.\n",
    "test_y = mnist.target[random_idxs[10000:15000]].tolist()"
   ]
  },
  {
   "cell_type": "code",
   "execution_count": 7,
   "metadata": {
    "collapsed": false
   },
   "outputs": [],
   "source": [
    "N, input_d = train_x.shape\n",
    "N_test = test_x.shape[0]\n",
    "hidden_d = 250\n",
    "n_classes = train_y.shape[1]\n",
    "\n",
    "def softmax(z):\n",
    "    y = np.exp(z)\n",
    "    return y / y.sum()\n",
    "\n",
    "# Classification NN with one hidden layer\n",
    "def fprop(W, b, x):\n",
    "    h = np.maximum(np.dot(x, W[:, :input_d * hidden_d].reshape(input_d, hidden_d)) + b[:, :hidden_d], 0.)\n",
    "    return np.dot(h, W[:, input_d * hidden_d:].reshape(hidden_d, n_classes)) + b[:, hidden_d:]\n",
    "\n",
    "def logModel(W, b, x, y):\n",
    "    y_hat = softmax(fprop(W, b, x))\n",
    "    return np.mean( y * np.log(y_hat) )\n",
    "\n",
    "def accuracy(y, y_hat):    \n",
    "    correct = 0.\n",
    "    for y, yh in zip(y, y_hat): \n",
    "        if y == yh: correct += 1\n",
    "    return correct / len(y_hat)\n",
    "\n",
    "\n",
    "### GET DERIVATIVES ###\n",
    "# d log p(X | \\theta) / d \\theta\n",
    "dLogModel_dW = grad(logModel)\n",
    "dLogModel_db = grad(lambda b, W, x, y: logModel(W, b, x, y))"
   ]
  },
  {
   "cell_type": "code",
   "execution_count": 8,
   "metadata": {
    "collapsed": false
   },
   "outputs": [
    {
     "name": "stdout",
     "output_type": "stream",
     "text": [
      "3. Neg. Log Likelihood: 1.008\n",
      "6. Neg. Log Likelihood: 0.972\n",
      "9. Neg. Log Likelihood: 0.960\n",
      "12. Neg. Log Likelihood: 0.953\n",
      "15. Neg. Log Likelihood: 0.948\n",
      "18. Neg. Log Likelihood: 0.944\n",
      "21. Neg. Log Likelihood: 0.941\n",
      "24. Neg. Log Likelihood: 0.938\n",
      "27. Neg. Log Likelihood: 0.936\n",
      "30. Neg. Log Likelihood: 0.935\n",
      "33. Neg. Log Likelihood: 0.933\n",
      "36. Neg. Log Likelihood: 0.932\n",
      "39. Neg. Log Likelihood: 0.931\n",
      "42. Neg. Log Likelihood: 0.930\n",
      "45. Neg. Log Likelihood: 0.929\n",
      "48. Neg. Log Likelihood: 0.928\n"
     ]
    }
   ],
   "source": [
    "### INIT PARAMS \n",
    "theta = {'W': .001 * np.random.normal(size=(1, input_d*hidden_d + hidden_d*n_classes)), 'b': np.zeros((1, hidden_d + n_classes))}\n",
    "\n",
    "### ELBO OPTIMIZATION\n",
    "maxEpochs = 50\n",
    "batchSize = 100\n",
    "learning_rate = .0003\n",
    "adam_values = {'W':{'mean': 0., 'var': 0., 't': 0}, \n",
    "               'b':{'mean': 0., 'var': 0., 't': 0}}\n",
    "\n",
    "loss = 0.\n",
    "for epochIdx in range(maxEpochs):\n",
    "    \n",
    "    for batchIdx in range(10000/batchSize):\n",
    "    \n",
    "        dModel_dW = dLogModel_dW(theta['W'], theta['b'], train_x[batchIdx*batchSize:(batchIdx+1)*batchSize, :], train_y[batchIdx*batchSize:(batchIdx+1)*batchSize, :]) \n",
    "        dModel_db = dLogModel_db(theta['b'], theta['W'], train_x[batchIdx*batchSize:(batchIdx+1)*batchSize, :], train_y[batchIdx*batchSize:(batchIdx+1)*batchSize, :])\n",
    "        \n",
    "        theta['W'] += get_AdaM_update(learning_rate, dModel_dW, adam_values['W'])  \n",
    "        theta['b'] += get_AdaM_update(learning_rate, dModel_db, adam_values['b'])\n",
    "    \n",
    "    loss += logModel(theta['W'], theta['b'], train_x, train_y)\n",
    "    if (epochIdx+1) % 3 == 0:\n",
    "        print \"%d. Neg. Log Likelihood: %.3f\" %(epochIdx+1, -loss/3.)\n",
    "        loss = 0."
   ]
  },
  {
   "cell_type": "code",
   "execution_count": 9,
   "metadata": {
    "collapsed": false
   },
   "outputs": [
    {
     "name": "stdout",
     "output_type": "stream",
     "text": [
      "Train accuracy: 0.9949\n",
      "Test accuracy: 0.9538\n"
     ]
    }
   ],
   "source": [
    "og_net_train_acc = accuracy(np.argmax(train_y, axis=1).tolist(), np.argmax(softmax(fprop(theta['W'], theta['b'], train_x)), axis=1).tolist())\n",
    "og_net_test_acc = accuracy(test_y, np.argmax(softmax(fprop(theta['W'], theta['b'], test_x)), axis=1).tolist())\n",
    "\n",
    "print \"Train accuracy: %.4f\" %(og_net_train_acc)\n",
    "print \"Test accuracy: %.4f\" %(og_net_test_acc)"
   ]
  },
  {
   "cell_type": "code",
   "execution_count": 11,
   "metadata": {
    "collapsed": false
   },
   "outputs": [],
   "source": [
    "def get_linear_transform(x_i, W, b):\n",
    "    #copy\n",
    "    W1_tilde = np.array(W[:, :input_d * hidden_d].reshape(input_d, hidden_d))\n",
    "    W2 = np.array(W[:, input_d * hidden_d:].reshape(hidden_d, n_classes))\n",
    "    b_tilde = np.array(b)\n",
    "    \n",
    "    # fprop\n",
    "    h = np.maximum(np.dot(x_i, W1_tilde) + b_tilde[:, :hidden_d], 0.)\n",
    "    \n",
    "    # apply mask\n",
    "    for j in range(hidden_d):\n",
    "        if h[0, j] == 0: \n",
    "            W1_tilde[:, j] = np.zeros((input_d))\n",
    "            b_tilde[:, j] = 0.\n",
    "            \n",
    "    # construct matrices\n",
    "    W1_tilde = np.vstack([W1_tilde, b_tilde[:, :hidden_d]]) #add bias\n",
    "    next_bias = np.hstack([np.ones((1, input_d))/x_i.sum(), np.zeros((1,1))]).T \n",
    "    W1_tilde = np.hstack([W1_tilde, next_bias]) # add bias for next layer\n",
    "    \n",
    "    W2_tilde = np.vstack([W2, b_tilde[:, hidden_d:]]) #add bias\n",
    "    \n",
    "    return np.dot(W1_tilde, W2_tilde)"
   ]
  },
  {
   "cell_type": "code",
   "execution_count": 12,
   "metadata": {
    "collapsed": false
   },
   "outputs": [],
   "source": [
    "U_vectors = []\n",
    "for i in range(N):\n",
    "    U_vectors.append( get_linear_transform(train_x[i,:][np.newaxis], theta['W'], theta['b']) )"
   ]
  },
  {
   "cell_type": "code",
   "execution_count": null,
   "metadata": {
    "collapsed": false
   },
   "outputs": [],
   "source": [
    "train_x_w_bias = np.hstack([train_x, np.ones((N,1))])\n",
    "test_x_w_bias = np.hstack([test_x, np.ones((N_test,1))])\n",
    "Ks = [1, 3, 5, 10, 15, 20, 25, 30, 35, 40, 45, 50]\n",
    "all_train = []\n",
    "all_test = []\n",
    "all_train_knn = []\n",
    "all_test_knn = []\n",
    "all_train_fo = []\n",
    "all_test_fo = []\n",
    "\n",
    "for K in Ks:\n",
    "    k_idxs = []\n",
    "    train_labels = np.argmax(train_y, axis=1).tolist()\n",
    "    counter = np.ones((n_classes,)) * K\n",
    "    for k, val in enumerate(train_labels):\n",
    "        if counter[val] > 0: \n",
    "            k_idxs.append(k)\n",
    "            counter[val] -= 1\n",
    "        if counter.sum() == 0: break\n",
    "\n",
    "    beta_val = 5.\n",
    "    train_kernel_vals = np.zeros((N, K*n_classes))\n",
    "    test_kernel_vals = np.zeros((N_test, K*n_classes))\n",
    "\n",
    "    for i in range(N):\n",
    "        for j,k in enumerate(k_idxs):\n",
    "            train_kernel_vals[i,j] = kernel(train_x[i], train_x[k], beta_val)\n",
    "                \n",
    "    for i in range(N_test):\n",
    "        for j,k in enumerate(k_idxs):\n",
    "            test_kernel_vals[i,j] = kernel(test_x[i], train_x[k], beta_val)\n",
    "        \n",
    "    train_kernel_vals = train_kernel_vals / (train_kernel_vals.sum(axis=1)[np.newaxis].T)\n",
    "    test_kernel_vals = test_kernel_vals / (test_kernel_vals.sum(axis=1)[np.newaxis].T)\n",
    "    \n",
    "    U_subset = [U_vectors[k] for k in k_idxs]\n",
    "\n",
    "    temp1 = 0.\n",
    "    temp2 = 0.\n",
    "    temp3 = 0.\n",
    "    temp4 = 0.\n",
    "    temp5 = 0.\n",
    "    for k, U in enumerate(U_subset):\n",
    "        temp1 += np.dot(train_x_w_bias, U) * train_kernel_vals[:,k][np.newaxis].T\n",
    "        temp2 += np.dot(test_x_w_bias, U) * test_kernel_vals[:,k][np.newaxis].T\n",
    "        \n",
    "    temp3 = np.dot(train_y[k_idxs, :].T, train_kernel_vals.T).T\n",
    "    temp4 = np.dot(train_y[k_idxs, :].T, test_kernel_vals.T).T\n",
    "    temp5 = softmax(np.dot(fprop(theta['W'], theta['b'], train_x[k_idxs,:]).T, train_kernel_vals.T).T)\n",
    "    temp6 = softmax(np.dot(fprop(theta['W'], theta['b'], train_x[k_idxs,:]).T, test_kernel_vals.T).T)\n",
    "\n",
    "    train_yHat_MoE = softmax(temp1)\n",
    "    test_yHat_MoE = softmax(temp2)\n",
    "\n",
    "    moe_train_acc = accuracy(np.argmax(train_y, axis=1).tolist(), np.argmax(train_yHat_MoE, axis=1).tolist())\n",
    "    moe_test_acc = accuracy(test_y, np.argmax(test_yHat_MoE, axis=1).tolist())\n",
    "    knn_train_acc = accuracy(np.argmax(train_y, axis=1).tolist(), np.argmax(temp3, axis=1).tolist())\n",
    "    knn_test_acc = accuracy(test_y, np.argmax(temp4, axis=1).tolist())\n",
    "    fo_train_acc = accuracy(np.argmax(train_y, axis=1).tolist(), np.argmax(temp5, axis=1).tolist())\n",
    "    fo_test_acc = accuracy(test_y, np.argmax(temp6, axis=1).tolist())\n",
    "\n",
    "    print \"MoE: Train accuracy for K=%d: %.4f\" %(K, moe_train_acc)\n",
    "    print \"MoE: Test accuracy for K=%d: %.4f\" %(K, moe_test_acc)\n",
    "    print \"KNN: Train accuracy for K=%d: %.4f\" %(K, knn_train_acc)\n",
    "    print \"KNN: Test accuracy for K=%d: %.4f\" %(K, knn_test_acc)\n",
    "    print \"FO: Train accuracy for K=%d: %.4f\" %(K, fo_train_acc)\n",
    "    print \"FO: Test accuracy for K=%d: %.4f\" %(K, fo_test_acc)\n",
    "    print\n",
    "    \n",
    "    all_train.append(moe_train_acc)\n",
    "    all_test.append(moe_test_acc)\n",
    "    all_train_knn.append(knn_train_acc)\n",
    "    all_test_knn.append(knn_test_acc)\n",
    "    all_train_fo.append(fo_train_acc)\n",
    "    all_test_fo.append(fo_test_acc)"
   ]
  },
  {
   "cell_type": "code",
   "execution_count": null,
   "metadata": {
    "collapsed": false
   },
   "outputs": [],
   "source": [
    "### LINEAR MODEL BASELINE ###\n",
    "# Classification NN with one hidden layer\n",
    "def fprop_linear(W, b, x):\n",
    "    return softmax(np.dot(x, W.reshape(input_d, n_classes)) + b)\n",
    "\n",
    "def logModel_linear(W, b, x, y):\n",
    "    y_hat = fprop_linear(W, b, x)\n",
    "    return np.mean( y * np.log(y_hat) )\n",
    "\n",
    "\n",
    "### GET DERIVATIVES ###\n",
    "# d log p(X | \\theta) / d \\theta\n",
    "dLogModel_linear_dW = grad(logModel_linear)\n",
    "dLogModel_linear_db = grad(lambda b, W, x, y: logModel_linear(W, b, x, y))\n",
    "\n",
    "### INIT PARAMS \n",
    "theta = {'W': .001 * np.random.normal(size=(1, input_d*n_classes)), 'b': np.zeros((1, n_classes))}\n",
    "\n",
    "### ELBO OPTIMIZATION\n",
    "maxEpochs = 100\n",
    "batchSize = 100\n",
    "learning_rate = .0003\n",
    "adam_values = {'W':{'mean': 0., 'var': 0., 't': 0}, \n",
    "               'b':{'mean': 0., 'var': 0., 't': 0}}\n",
    "\n",
    "loss = 0.\n",
    "for epochIdx in range(maxEpochs):\n",
    "    \n",
    "    for batchIdx in range(10000/batchSize):\n",
    "    \n",
    "        dModel_dW = dLogModel_linear_dW(theta['W'], theta['b'], train_x[batchIdx*batchSize:(batchIdx+1)*batchSize, :], train_y[batchIdx*batchSize:(batchIdx+1)*batchSize, :]) \n",
    "        dModel_db = dLogModel_linear_db(theta['b'], theta['W'], train_x[batchIdx*batchSize:(batchIdx+1)*batchSize, :], train_y[batchIdx*batchSize:(batchIdx+1)*batchSize, :])\n",
    "        \n",
    "        theta['W'] += get_AdaM_update(learning_rate, dModel_dW, adam_values['W'])  \n",
    "        theta['b'] += get_AdaM_update(learning_rate, dModel_db, adam_values['b'])\n",
    "    \n",
    "    loss += logModel_linear(theta['W'], theta['b'], train_x, train_y)\n",
    "    if (epochIdx+1) % 3 == 0:\n",
    "        print \"%d. Neg. Log Likelihood: %.3f\" %(epochIdx+1, -loss/3.)\n",
    "        loss = 0.\n",
    "        \n",
    "baseline_train_acc = accuracy(np.argmax(train_y, axis=1).tolist(), np.argmax(fprop_linear(theta['W'], theta['b'], train_x), axis=1).tolist())\n",
    "baseline_test_acc = accuracy(test_y, np.argmax(fprop_linear(theta['W'], theta['b'], test_x), axis=1).tolist())\n",
    "\n",
    "print\n",
    "print \"Train accuracy: %.4f\" %(baseline_train_acc)\n",
    "print \"Test accuracy: %.4f\" %(baseline_test_acc)"
   ]
  },
  {
   "cell_type": "code",
   "execution_count": null,
   "metadata": {
    "collapsed": false
   },
   "outputs": [],
   "source": [
    "#plt.plot([k*10 for k in Ks], [og_net_train_acc]*len(Ks), 'b--', linewidth=5, label=\"Original NN, Train\")\n",
    "plt.plot([k*10 for k in Ks], [og_net_test_acc]*len(Ks), 'k--', linewidth=5, label=\"Original NN\")\n",
    "\n",
    "#plt.plot([k*10 for k in Ks], [baseline_train_acc]*len(Ks), 'b:', linewidth=5, label=\"Linear Model, Train\")\n",
    "plt.plot([k*10 for k in Ks], [baseline_test_acc]*len(Ks), 'k:', linewidth=5, label=\"Linear Model\")\n",
    "\n",
    "plt.plot([k*10 for k in Ks], all_test_knn, 'b-', linewidth=5, label=\"Nonparam. Regression\")\n",
    "\n",
    "#plt.plot([k*10 for k in Ks], all_train_knn, 'c-', linewidth=5, label=\"Local Regressors, Order 0, Train\")\n",
    "plt.plot([k*10 for k in Ks], all_test_fo, 'r--', linewidth=5, label=\"Local Regressors, Order 0\")\n",
    "\n",
    "#plt.plot([k*10 for k in Ks], all_train, 'b-', linewidth=5, label=\"Local Regressors, Order 1, Train\")\n",
    "plt.plot([k*10 for k in Ks], all_test, 'r-', linewidth=5, label=\"Local Regressors, Order 1\")\n",
    "\n",
    "plt.xlabel(\"Number of Neighbors / Regressors (K)\")\n",
    "plt.ylabel(\"Test Accuracy\")\n",
    "plt.ylim([.6, 1])\n",
    "\n",
    "plt.title(\"MNIST: Distilling NN to Linear System\")\n",
    "plt.legend(loc=4)\n",
    "plt.show()"
   ]
  },
  {
   "cell_type": "markdown",
   "metadata": {},
   "source": [
    "### 4.  Experiment: Pruning via DPP Sampling\n",
    "Next, let's test how DPP sampling performs in comparison to uniform sampling..."
   ]
  },
  {
   "cell_type": "code",
   "execution_count": null,
   "metadata": {
    "collapsed": false
   },
   "outputs": [],
   "source": [
    "from dpp_functions import *\n",
    "\n",
    "train_x_w_bias = np.hstack([train_x, np.ones((N,1))])\n",
    "test_x_w_bias = np.hstack([test_x, np.ones((N_test,1))])\n",
    "Ks = [1, 3, 5, 10, 15, 20, 25, 30, 35, 40, 45, 50]\n",
    "\n",
    "y_hats_for_kernel = np.zeros((10, train_x_w_bias.shape[0], 10))\n",
    "counters = np.zeros((10,))\n",
    "y_list = np.argmax(train_y, axis=1).tolist()\n",
    "for idx, U in enumerate(U_vectors):\n",
    "    y_hats_for_kernel[y_list[idx], :, :] += np.dot(train_x_w_bias, U)\n",
    "    counters[y_list[idx]] += 1\n",
    "\n",
    "for idx in range(10):\n",
    "    y_hats_for_kernel[idx, :, :] /= counters[idx]\n",
    "\n",
    "all_train_dpp = []\n",
    "all_test_dpp = []\n",
    "for K in Ks:\n",
    "    \n",
    "    k_idxs = []\n",
    "    for idx in range(n_classes):\n",
    "        k_idxs += sample_from_dpp(y_hats_for_kernel[idx, :, :], K).tolist()\n",
    "\n",
    "    beta_val = 5.\n",
    "    #train_kernel_vals = np.zeros((N, K*n_classes))\n",
    "    test_kernel_vals = np.zeros((N_test, K*n_classes))\n",
    "\n",
    "    #for i in range(N):\n",
    "    #    for j,k in enumerate(k_idxs):\n",
    "    #        train_kernel_vals[i,j] = kernel(train_x[i], train_x[k], beta_val)\n",
    "                \n",
    "    for i in range(N_test):\n",
    "        for j,k in enumerate(k_idxs):\n",
    "            test_kernel_vals[i,j] = kernel(test_x[i], train_x[k], beta_val)\n",
    "            \n",
    "    test_kernel_vals = test_kernel_vals / (test_kernel_vals.sum(axis=1)[np.newaxis].T)\n",
    "    U_subset = [U_vectors[k] for k in k_idxs]\n",
    "\n",
    "    temp1 = 0.\n",
    "    for k, U in enumerate(U_subset):\n",
    "        temp1 += np.dot(test_x_w_bias, U) * test_kernel_vals[:,k][np.newaxis].T\n",
    "\n",
    "    test_yHat_dpp = softmax(temp1)\n",
    "\n",
    "    dpp_test_acc = accuracy(test_y, np.argmax(test_yHat_dpp, axis=1).tolist())\n",
    "    \n",
    "    print \"DPP: Test accuracy for K=%d: %.4f\" %(K, dpp_test_acc)\n",
    "    print\n",
    "    \n",
    "    #all_train.append(moe_train_acc)\n",
    "    all_test_dpp.append(moe_test_acc)\n",
    "    "
   ]
  },
  {
   "cell_type": "code",
   "execution_count": null,
   "metadata": {
    "collapsed": true
   },
   "outputs": [],
   "source": []
  }
 ],
 "metadata": {
  "kernelspec": {
   "display_name": "Python 2",
   "language": "python",
   "name": "python2"
  },
  "language_info": {
   "codemirror_mode": {
    "name": "ipython",
    "version": 2
   },
   "file_extension": ".py",
   "mimetype": "text/x-python",
   "name": "python",
   "nbconvert_exporter": "python",
   "pygments_lexer": "ipython2",
   "version": "2.7.11"
  }
 },
 "nbformat": 4,
 "nbformat_minor": 1
}
