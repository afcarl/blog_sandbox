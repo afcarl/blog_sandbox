{
 "cells": [
  {
   "cell_type": "code",
   "execution_count": 1,
   "metadata": {},
   "outputs": [],
   "source": [
    "from IPython.display import Image\n",
    "import itertools\n",
    "\n",
    "import matplotlib\n",
    "import matplotlib.pyplot as plt\n",
    "import matplotlib.mlab as mlab\n",
    "\n",
    "import autograd.numpy as np\n",
    "from autograd import grad\n",
    "\n",
    "%matplotlib inline"
   ]
  },
  {
   "cell_type": "markdown",
   "metadata": {},
   "source": [
    "### Kernels for $\\mathbb{R}^{d}$"
   ]
  },
  {
   "cell_type": "code",
   "execution_count": 20,
   "metadata": {},
   "outputs": [],
   "source": [
    "# Radial Basis Function (Heat Kernel)\n",
    "def rbf(x1, x2, params={'lengthScale': 1}):\n",
    "    return np.exp((-.5/params['lengthScale']) * np.sum((x1-x2)**2))\n",
    "\n",
    "# Logistic Gunction\n",
    "def logistic(z):\n",
    "    return 1./(1+np.exp(-z))\n",
    "\n",
    "# Delta Approx.\n",
    "def delta_approx(x1, x2, params={'lengthScale': .75}):\n",
    "    d = (x1 - x2)**2 / params['lengthScale']\n",
    "    return logistic(d) * (1-logistic(d))"
   ]
  },
  {
   "cell_type": "markdown",
   "metadata": {},
   "source": [
    "### Model"
   ]
  },
  {
   "cell_type": "code",
   "execution_count": 21,
   "metadata": {},
   "outputs": [],
   "source": [
    "# Model\n",
    "def gaussPdf(x, params):\n",
    "    return (1./np.sqrt(2*np.pi*params['sigma']**2)) * np.exp((-.5/params['sigma']**2) * np.sum((x-params['mu'])**2))\n",
    "\n",
    "def logGaussMixPDF(x, params):\n",
    "    return params['pi'][0] * gaussPdf(x, {'mu':params['mu'][0], 'sigma':params['sigma'][0]}) \\\n",
    "            + params['pi'][1] * gaussPdf(x, {'mu':params['mu'][1], 'sigma':params['sigma'][1]})"
   ]
  },
  {
   "cell_type": "markdown",
   "metadata": {},
   "source": [
    "### MAD Particles"
   ]
  },
  {
   "cell_type": "code",
   "execution_count": 22,
   "metadata": {},
   "outputs": [],
   "source": [
    "logModel = logGaussMixPDF\n",
    "dLogModel = grad(logModel)\n",
    "params = {\n",
    "    'mu': [-4,3],\n",
    "    'sigma': [1, 3],\n",
    "    'pi': [.3, .7]\n",
    "}\n",
    "\n",
    "# initial distribution\n",
    "q0 = np.random.normal\n",
    "\n",
    "### generate samples\n",
    "n = 10\n",
    "x = []\n",
    "for sampleIdx in range(n):\n",
    "    x.append(q0())\n",
    "\n",
    "kernel = {'f': delta_approx}\n",
    "kernel['df'] = grad(kernel['f'])\n",
    "    \n",
    "maxEpochs = 100\n",
    "lr = 2.5\n",
    "for epochIdx in range(maxEpochs):\n",
    "    for idx in range(n):\n",
    "        # model gradient\n",
    "        update1 = dLogModel(x[idx], params)\n",
    "        \n",
    "        # entropy gradient\n",
    "        update2 = 0.\n",
    "        z = np.sum([1./n * kernel['f'](x[idx], x_j) for x_j in x])\n",
    "        \n",
    "        for x_j in x:\n",
    "            update2 += 1./n * 1./n * kernel['df'](x[idx], x_j)/(z + 1e-5)\n",
    "        \n",
    "        for x_j in x:\n",
    "            z = np.sum([1./n * kernel['f'](x_j, x_l) for x_l in x])\n",
    "            update2 += 1./n * 1./n * -kernel['df'](x[idx], x_j)/(z + 1e-5)\n",
    "        \n",
    "        # combine\n",
    "        x[idx] += lr * (update1 - update2)\n",
    "        \n",
    "x.sort()\n",
    "probs = [np.exp(logModel(z, params)) for z in x]    \n",
    "x_true = np.linspace(-10, 10, 1000)\n",
    "probs_true = [np.exp(logModel(z, params)) for z in x_true]"
   ]
  },
  {
   "cell_type": "code",
   "execution_count": 23,
   "metadata": {},
   "outputs": [
    {
     "data": {
      "image/png": "[encoded data removed]",
      "text/plain": [
       "<matplotlib.figure.Figure at 0x10ed7fba8>"
      ]
     },
     "metadata": {},
     "output_type": "display_data"
    }
   ],
   "source": [
    "plt.plot(x_true, probs_true, 'b-', linewidth=5, label=\"True\")\n",
    "plt.plot(x, probs, 'rx--', markersize=10, mew=5, linewidth=5, label=\"Approximation\")\n",
    "\n",
    "plt.xlim([-10,10])\n",
    "plt.legend()\n",
    "plt.show()"
   ]
  },
  {
   "cell_type": "markdown",
   "metadata": {},
   "source": [
    "### DP-MAD Particles"
   ]
  },
  {
   "cell_type": "code",
   "execution_count": 184,
   "metadata": {},
   "outputs": [],
   "source": [
    "logModel = logGaussMixPDF\n",
    "dLogModel = grad(logModel)\n",
    "params = {\n",
    "    'mu': [-4,3],\n",
    "    'sigma': [1, 3],\n",
    "    'pi': [.3, .7]\n",
    "}\n",
    "\n",
    "# initial distribution\n",
    "q0 = np.random.normal\n",
    "\n",
    "### generate samples\n",
    "n = 2\n",
    "x = []\n",
    "for sampleIdx in range(n):\n",
    "    x.append(q0() * 10.)\n",
    "\n",
    "kernel = {'f': delta_approx}\n",
    "kernel['df'] = grad(kernel['f'])\n",
    "    \n",
    "maxEpochs = 100\n",
    "lr = 5.\n",
    "alpha = 8.\n",
    "\n",
    "for epochIdx in range(maxEpochs):\n",
    "    for idx in range(n):\n",
    "        # model gradient\n",
    "        update1 = dLogModel(x[idx], params)\n",
    "        \n",
    "        # entropy gradient\n",
    "        update2 = 0.\n",
    "        z = np.sum([1./n * kernel['f'](x[idx], x_j) for x_j in x])\n",
    "        \n",
    "        for x_j in x:\n",
    "            update2 += 1./n * 1./n * kernel['df'](x[idx], x_j)/(z + 1e-5)\n",
    "        \n",
    "        for x_j in x:\n",
    "            z = np.sum([1./n * kernel['f'](x_j, x_l) for x_l in x])\n",
    "            update2 += 1./n * 1./n * -kernel['df'](x[idx], x_j)/(z + 1e-5)\n",
    "        \n",
    "        # combine\n",
    "        x[idx] += lr * (update1 - update2)\n",
    "        \n",
    "    if (epochIdx+1)%10 == 0:\n",
    "        # compute free entergy\n",
    "        f = np.zeros((n,))\n",
    "        for idx in range(n):\n",
    "            f[idx] = np.exp(logModel(x[idx], params) - np.log(np.sum([1./n * kernel['f'](x[idx], x_l) for x_l in x])))\n",
    "        \n",
    "        # get probe particle\n",
    "        probe_idx = np.argmin(f)\n",
    "        \n",
    "        z = np.sum(f) - f[probe_idx]\n",
    "        if alpha/(z+alpha) < f[probe_idx]/(z+alpha):\n",
    "            # add particle\n",
    "            n = n+1\n",
    "            x = x + [q0() * 10.]\n",
    "        \n",
    "        \n",
    "# compute free entergy\n",
    "f = np.zeros((n,))\n",
    "for idx in range(n):\n",
    "    f[idx] = np.exp(logModel(x[idx], params) - np.log(np.sum([1./n * kernel['f'](x[idx], x_l) for x_l in x])))\n",
    "        \n",
    "# get probe particle\n",
    "probe_idx = np.argmin(f)\n",
    "\n",
    "# remove probe\n",
    "x = [v for i,v in enumerate(x) if i != probe_idx]\n",
    "        \n",
    "x.sort()\n",
    "probs = [np.exp(logModel(z, params)) for z in x]    \n",
    "x_true = np.linspace(-10, 10, 1000)\n",
    "probs_true = [np.exp(logModel(z, params)) for z in x_true]"
   ]
  },
  {
   "cell_type": "code",
   "execution_count": 185,
   "metadata": {},
   "outputs": [
    {
     "name": "stdout",
     "output_type": "stream",
     "text": [
      "Number of final particles:  11\n"
     ]
    },
    {
     "data": {
      "image/png": "[encoded data removed]",
      "text/plain": [
       "<matplotlib.figure.Figure at 0x10ed75f60>"
      ]
     },
     "metadata": {},
     "output_type": "display_data"
    }
   ],
   "source": [
    "print(\"Number of final particles: \", n-1)\n",
    "\n",
    "plt.plot(x_true, probs_true, 'b-', linewidth=5, label=\"True\")\n",
    "plt.plot(x, probs, 'rx--', markersize=10, mew=5, linewidth=5, label=\"Approximation\")\n",
    "\n",
    "plt.xlim([-10,10])\n",
    "plt.legend()\n",
    "plt.show()"
   ]
  }
 ],
 "metadata": {
  "kernelspec": {
   "display_name": "Python 3",
   "language": "python",
   "name": "python3"
  },
  "language_info": {
   "codemirror_mode": {
    "name": "ipython",
    "version": 3
   },
   "file_extension": ".py",
   "mimetype": "text/x-python",
   "name": "python",
   "nbconvert_exporter": "python",
   "pygments_lexer": "ipython3",
   "version": "3.5.4"
  }
 },
 "nbformat": 4,
 "nbformat_minor": 1
}
