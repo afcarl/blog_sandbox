{
 "cells": [
  {
   "cell_type": "code",
   "execution_count": 1,
   "metadata": {
    "collapsed": false
   },
   "outputs": [],
   "source": [
    "from IPython.display import Image\n",
    "import itertools\n",
    "\n",
    "import numpy as np\n",
    "import tensorflow as tf\n",
    "\n",
    "import matplotlib\n",
    "import matplotlib.pyplot as plt\n",
    "import matplotlib.mlab as mlab\n",
    "%matplotlib inline"
   ]
  },
  {
   "cell_type": "markdown",
   "metadata": {},
   "source": [
    "## Inference Networks with Adaptive Computation\n",
    "\n",
    "This notebook outlines an idea for using RNN's [with adaptive computation](https://arxiv.org/abs/1603.08983) to produce [mixture posteriors](http://citeseerx.ist.psu.edu/viewdoc/download?doi=10.1.1.48.5846&rep=rep1&type=pdf) for [Density networks](http://www.inference.org.uk/mackay/ch_learning.pdf).\n",
    "\n",
    "### 1.  Variational Inference with Mixture Approximations\n",
    "\n",
    "Recall the method of variational inference.  For an approximation--$q(\\boldsymbol{\\theta};\\boldsymbol{\\phi})$--we fit it using the [*Evidence Lower Bound* (ELBO)](http://www.umiacs.umd.edu/~xyang35/files/understanding-variational-lower.pdf): $$ \\log p(x) = \\mathbb{E}_{q(\\boldsymbol{\\theta})}[ \\log p(\\mathbf{X}, \\boldsymbol{\\theta})] + \\mathbb{H}_{q}[\\boldsymbol{\\theta}] + \\text{KLD}[q(\\boldsymbol{\\theta}) || p(\\boldsymbol{\\theta} | \\mathbf{X})] \\ge \\mathbb{E}_{q(\\boldsymbol{\\theta})}[ \\log p(\\mathbf{X}, \\boldsymbol{\\theta})] + \\mathbb{H}_{q}[\\boldsymbol{\\theta}].$$\n",
    "\n",
    "Often the posteriors we encounter in the wild are multi-modal, and thus using uni-modal posterior approximations can drastically misrepresent the posterior's support.  A straight-forward extentension is to use mixture approximations of the form: $$ q(\\boldsymbol{\\theta}) = \\sum_{k} \\pi_{k} q_{k}(\\boldsymbol{\\theta}) $$ where $\\pi_{k}$ is a mixture weight and $q_{k}$ is the kth component density.  Using this approximation, the ELBO can be derived as $$ \\log p(\\mathbf{X}) \\ge \\sum_{k} \\pi_{k} \\mathbb{E}_{q_{k}(\\boldsymbol{\\theta})}[ \\log p(\\mathbf{X}, \\boldsymbol{\\theta})] + \\mathbb{H}_{q}[\\boldsymbol{\\theta}] $$ where $\\mathbb{H}_{q}[\\boldsymbol{\\theta}] =  -\\sum_{k} \\pi_{k} \\int_{\\boldsymbol{\\theta}} q_{k}(\\boldsymbol{\\theta}) \\log \\sum_{j} \\pi_{j} q_{j}(\\boldsymbol{\\theta}) \\ d \\boldsymbol{\\theta}$, the entropy of the mixture model.  Unfortunately, this quantity is intractable, but we can use the following lower bound proposed by [Gershman et al. (2012)](https://arxiv.org/pdf/1206.4665.pdf): $$ -\\sum_{k} \\pi_{k} \\int_{\\boldsymbol{\\theta}} q_{k}(\\boldsymbol{\\theta}) \\log \\sum_{j} \\pi_{j} q_{j}(\\boldsymbol{\\theta}) \\ d \\boldsymbol{\\theta} \\ge -\\sum_{k} \\pi_{k}  \\log \\sum_{j} \\pi_{j} \\int_{\\boldsymbol{\\theta}} q_{k}(\\boldsymbol{\\theta}) q_{j}(\\boldsymbol{\\theta}) \\ d \\boldsymbol{\\theta}, $$ which is attained via straight forward application of [Jensen's inequality](https://en.wikipedia.org/wiki/Jensen%27s_inequality).  For most common densities, the convolution above can be solved in closed form.  For Gaussians, we have: $$ \\int_{\\boldsymbol{\\theta}} q_{k}(\\boldsymbol{\\theta}) q_{j}(\\boldsymbol{\\theta}) \\ d \\boldsymbol{\\theta} = \\mathbb{E}_{q_{k}}[q_{j}] = \\text{N}(\\boldsymbol{\\mu}_{k}; \\boldsymbol{\\mu}_{j}, (\\boldsymbol{\\sigma}_{k}^{2} + \\boldsymbol{\\sigma}_{j}^{2})\\mathbb{I} ).$$  Intuitively, the convolution term (entropy lower bound) can be seen as encouraging the components to have low probability under one another.  Or in other words, to spread out and diversify their posterior coverage.  Plugging the Gaussian solution back into the ELBO lower bound we have: $$\\log p(\\mathbf{X}) \\ge \\mathcal{L}_{\\text{ELBO}} \\ge   \\sum_{k} \\pi_{k} \\mathbb{E}_{q_{k}(\\boldsymbol{\\theta})}[ \\log p(\\mathbf{X}, \\boldsymbol{\\theta})] + -\\sum_{k=1}^{K} \\pi_{k}  \\log \\sum_{j=1} \\pi_{j} \\text{N}(\\boldsymbol{\\mu}_{k}; \\boldsymbol{\\mu}_{j}, (\\boldsymbol{\\sigma}_{k}^{2} + \\boldsymbol{\\sigma}_{j}^{2})\\mathbb{I} ).$$ \n",
    "\n",
    "\n",
    "### 2.  Adaptive Inference with RNNs\n",
    "\n",
    "When using models with per-data-point latent variables of the form $$ \\mathbf{z}_{i} \\sim p(\\mathbf{z}), \\ \\ \\mathbf{x}_{i} \\sim p(\\mathbf{x}_{i} | \\mathbf{z}_{i}),$$ it may be useful to have per-data-point posteriors $q(\\mathbf{z}_{i} | \\mathbf{x}_{i})$ of varying complexity.  For example, some data points may look like a blend of two different types (for example, a digit that looks like both a one and a seven) and we may wish to place posterior mass on the region of latent space for each digit.  We can define inference networks with this behavior by using an adaptive computation RNN as the inference network.  We propose a network with the following form: $$ \\mathbf{h}_{i, t=k} = f_{\\text{LSTM}}(\\mathbf{h}_{i, t=k-1}, \\mathbf{x}_{i}), \\ \\ \\  \\boldsymbol{\\mu}_{i,k} = f_{\\mu}(\\mathbf{h}_{i,t=k}), \\ \\ \\  \\boldsymbol{\\sigma}_{i,k} = f_{\\sigma}(\\mathbf{h}_{i,t=k}), \\ \\ \\ \\gamma_{i,k} = f_{\\gamma}(\\mathbf{h}_{i,t=k}).$$  The first variable $\\mathbf{h}_{i,t=k}$ is simply the RNN's hidden state at time step $k$, as generated by an LSTM unit taking the previous hidden state $\\mathbf{h}_{i,t=k-1}$ and the data point $\\mathbf{x}_{i}$ as input.  The last three variables are components of the variational mixture approximation.  The first two--$\\boldsymbol{\\mu}_{i,k}$ and $\\boldsymbol{\\sigma}_{i,k}$--are the parameters of the kth Gaussian component and are computed via independent functions of the current hidden state.  The last variable is $\\gamma_{i,k}$, taking on a value $(0,1)$, and thus would have a logistic function output.  We compose the $\\gamma_{i,k}$ variables into the mixture components by using the Dirichlet's [stick breaking construction](https://en.wikipedia.org/wiki/Dirichlet_process#The_stick-breaking_process): $$ \\pi_{i,1} = \\gamma_{i,1}, \\ \\ \\  \\pi_{i,k} = \\gamma_{i,k} \\prod_{j=1}^{k-1} (1-\\gamma_{i,j}).$$  The RNN will hault computation when the remaining stick is less than some threshold, i.e. $\\prod_{k=1}^{K} (1-\\gamma_{k}) < \\epsilon$.  Following [Occam's razor](https://en.wikipedia.org/wiki/Occam%27s_razor), we assume mixtures with few components are preferred, and thus penalize the RNN's computation according to entropy of the mixture weights: $$\\mathbb{H}[\\boldsymbol{\\pi}_{i}] = -\\sum_{k=1}^{K} \\pi_{i,k} \\log \\pi_{i,k} = -\\sum_{k=1}^{K} \\gamma_{i,k} \\prod_{j=1}^{k-1} (1-\\gamma_{i,j}) [ \\log \\gamma_{i,k} + \\sum_{j=1}^{k-1} \\log(1 - \\gamma_{i,j}) ].$$\n",
    "\n",
    "Plugging this term back into the ELBO lower bound in part #1, we have our final objective for the $i$th data point: $$ \\mathcal{L}_{\\text{ADAPT}}(\\mathbf{x}_{i}) = \\sum_{k} \\pi_{i,k} \\mathbb{E}_{q_{k}(\\mathbf{z}_{i} | \\mathbf{x}_{i})}[ \\log p(\\mathbf{x}_{i}, \\mathbf{z}_{i})] - \\sum_{k=1}^{K} \\pi_{i,k}  \\log \\sum_{j=1}^{K} \\pi_{i,j} \\text{N}(\\boldsymbol{\\mu}_{i,k}-\\boldsymbol{\\mu}_{i,j}; \\mathbf{0}, (\\boldsymbol{\\sigma}_{i,k}^{2} + \\boldsymbol{\\sigma}_{i,j}^{2})\\mathbb{I} ) - \\mathbb{H}[\\boldsymbol{\\pi}_{i}].$$"
   ]
  },
  {
   "cell_type": "markdown",
   "metadata": {},
   "source": [
    "### 3.  Toy Experiment: Approximating a Mixture\n",
    "\n",
    "We will now implement the above ideas for a toy example in which we approximate a mixture density.  Let's first define a simple mixture..."
   ]
  },
  {
   "cell_type": "code",
   "execution_count": 2,
   "metadata": {
    "collapsed": false
   },
   "outputs": [],
   "source": [
    "# Gaussian\n",
    "def log_normal_pdf(x, mu, sigma):\n",
    "    d = mu - x\n",
    "    d2 = tf.mul(-1., tf.mul(d,d))\n",
    "    s2 = tf.mul(2., tf.mul(sigma,sigma))\n",
    "    return tf.reduce_sum(tf.div(d2,s2) - tf.log(tf.mul(sigma, 2.506628)))\n",
    "\n",
    "# Gaussian Mixture\n",
    "def log_gaussMix_pdf(z, pi, mu, sigma, K):\n",
    "    s = tf.mul(pi[0], tf.exp(log_normal_pdf(z, mu[0], sigma[0])))\n",
    "    for k in xrange(K-1):\n",
    "        s += tf.mul(pi[k+1], tf.exp(log_normal_pdf(z, mu[k+1], sigma[k+1])))\n",
    "    return tf.log(s)"
   ]
  },
  {
   "cell_type": "markdown",
   "metadata": {},
   "source": [
    "And plot it..."
   ]
  },
  {
   "cell_type": "code",
   "execution_count": 3,
   "metadata": {
    "collapsed": false
   },
   "outputs": [
    {
     "data": {
      "image/png": "[encoded data removed]",
      "text/plain": [
       "<matplotlib.figure.Figure at 0x115706fd0>"
      ]
     },
     "metadata": {},
     "output_type": "display_data"
    }
   ],
   "source": [
    "#'true' posterior params\n",
    "mu_post = [-4., 3.]\n",
    "sigma_post = [1., 3.]\n",
    "pi_post = [.3, .7]\n",
    "\n",
    "Z = tf.placeholder(tf.float32, shape=(), name=\"init\")\n",
    "log_prob_z = log_gaussMix_pdf(Z, pi_post, mu_post, sigma_post, 2)\n",
    "\n",
    "# get posterior probabilities\n",
    "z_grid = np.linspace(-10., 10., 1000).astype('float32')\n",
    "with tf.Session() as session:\n",
    "    probs_true = np.exp([session.run(log_prob_z, {Z: z}) for z in z_grid])\n",
    "\n",
    "plt.figure()\n",
    "\n",
    "plt.plot(z_grid, probs_true, 'b-', linewidth=5, label=\"True Posterior\")\n",
    "\n",
    "plt.xlabel(\"Z\")\n",
    "plt.xlim([-10,10])\n",
    "plt.ylim([0,.25])\n",
    "plt.legend()\n",
    "\n",
    "plt.show()"
   ]
  },
  {
   "cell_type": "markdown",
   "metadata": {},
   "source": [
    "Now let's define our adaptive inference RNN, starting with the recurrent component..."
   ]
  },
  {
   "cell_type": "code",
   "execution_count": 4,
   "metadata": {
    "collapsed": false
   },
   "outputs": [],
   "source": [
    "# define dimensionality of model components\n",
    "input_d = 1\n",
    "rnn_hidden_d = 5\n",
    "z_space_d = 1\n",
    "\n",
    "max_n_loops = 10\n",
    "\n",
    "# init data variable\n",
    "X = tf.placeholder(\"float\", [None, input_d])\n",
    "\n",
    "# init RNN params\n",
    "params = {'h':{'W':tf.Variable(tf.random_normal([input_d, rnn_hidden_d], stddev=.00001)),\n",
    "               'U':tf.Variable(tf.random_normal([rnn_hidden_d, rnn_hidden_d], stddev=.00001)),\n",
    "               'b':tf.Variable(tf.zeros([rnn_hidden_d,]))\n",
    "              },\n",
    "          'mu':{'W':tf.Variable(tf.random_normal([rnn_hidden_d, z_space_d], stddev=.00001)),\n",
    "               'b':tf.Variable(tf.zeros([z_space_d,]))\n",
    "              },\n",
    "          'sigma':{'W':tf.Variable(tf.random_normal([rnn_hidden_d, z_space_d], stddev=.00001)),\n",
    "               'b':tf.Variable(tf.zeros([z_space_d,]))\n",
    "              },\n",
    "          'pi':{'W':tf.Variable(tf.random_normal([rnn_hidden_d, 1], stddev=.00001)),\n",
    "               'b':tf.Variable(tf.zeros([1,]))\n",
    "              }\n",
    "        }\n",
    "\n",
    "\n",
    "### DEFINE RNN LOOP ###\n",
    "def prop_RNN(hidden_state):\n",
    "\n",
    "    # Defines an Elman network\n",
    "    # TODO: define LSTM cell\n",
    "    hidden_state = \\\n",
    "    tf.nn.relu(tf.matmul(X, params['h']['W']) + tf.matmul(hidden_state, params['h']['U']) + params['h']['b'])\n",
    "    \n",
    "    return hidden_state\n",
    "\n",
    "hidden_states = [tf.zeros([tf.shape(X)[0], rnn_hidden_d])]\n",
    "\n",
    "for loop_idx in range(max_n_loops):\n",
    "    hidden_states.append( prop_RNN(hidden_states[-1]) )\n",
    "    \n",
    "# remove inital state\n",
    "hidden_states = hidden_states[1:]"
   ]
  },
  {
   "cell_type": "markdown",
   "metadata": {},
   "source": [
    "Next we take the hidden states and determine how many components to compute..."
   ]
  },
  {
   "cell_type": "code",
   "execution_count": 5,
   "metadata": {
    "collapsed": false
   },
   "outputs": [],
   "source": [
    "pis = []\n",
    "mus = []\n",
    "sigmas = []\n",
    "remaining_stick = 1.\n",
    "\n",
    "stick_eps = .01\n",
    "for idx in range(max_n_loops):\n",
    "    \n",
    "    # compute component params\n",
    "    mus.append(tf.matmul(hidden_states[idx], params['mu']['W']) + params['mu']['b'])\n",
    "    sigmas.append(tf.nn.softplus(tf.matmul(hidden_states[idx], params['sigma']['W']) + params['sigma']['b']))\n",
    "    \n",
    "    # compute component weights\n",
    "    gamma = tf.nn.sigmoid(tf.matmul(hidden_states[idx], params['pi']['W']) + params['pi']['b'])\n",
    "    pis.append(gamma * remaining_stick)\n",
    "    \n",
    "    # update \n",
    "    remaining_stick = (1.-gamma) * remaining_stick\n",
    "    remaining_stick = tf.cond( tf.reduce_max(remaining_stick) < stick_eps, lambda: 0.*remaining_stick, lambda: remaining_stick )"
   ]
  },
  {
   "cell_type": "markdown",
   "metadata": {},
   "source": [
    "Now let's define our optimization function..."
   ]
  },
  {
   "cell_type": "code",
   "execution_count": 18,
   "metadata": {
    "collapsed": false
   },
   "outputs": [],
   "source": [
    "# data term: \\sum_k \\pi_k E[log p(x,z)]\n",
    "expected_ll = 0.\n",
    "pi_sum_tracker = 0.\n",
    "for k in range(max_n_loops):\n",
    "    z_sample = mus[k] + sigmas[k] * tf.random_normal(shape=[tf.shape(X)[0], z_space_d])\n",
    "    expected_ll += pis[k] * log_gaussMix_pdf(z_sample, pi_post, mu_post, sigma_post, 2)\n",
    "    \n",
    "# entropy lower bound term : \\sum_k pi_k log \\sum_j pi_j N(mu_k; mu_j, sigma_k**2 + sigma_j**2)\n",
    "ent_lb_term = 0.\n",
    "for k in range(max_n_loops):\n",
    "    temp_val = 0.\n",
    "    for j in range(max_n_loops):\n",
    "        temp_val += pis[j] * tf.exp(log_normal_pdf(mus[k], mus[j], tf.sqrt(sigmas[k]**2 + sigmas[j]**2)))\n",
    "    ent_lb_term += -pis[k] * tf.log(temp_val + .00001)\n",
    "    \n",
    "# entropy of mixture weights\n",
    "ent_mix_weights = 0.\n",
    "for k in range(max_n_loops):\n",
    "    ent_mix_weights += -pis[k] * tf.log(pis[k] + .001)\n",
    "    \n",
    "# final objective\n",
    "objective_fn = tf.reduce_mean(expected_ll + ent_lb_term + ent_mix_weights)\n",
    "\n",
    "# collect parameters\n",
    "final_pis = tf.concat(2, [tf.expand_dims(t, 2) for t in pis])\n",
    "final_mus = tf.concat(2, [tf.expand_dims(t, 2) for t in mus])\n",
    "final_sigmas = tf.concat(2, [tf.expand_dims(t, 2) for t in sigmas])"
   ]
  },
  {
   "cell_type": "markdown",
   "metadata": {},
   "source": [
    "Lastly, let's train our dynamic RNN approximation..."
   ]
  },
  {
   "cell_type": "code",
   "execution_count": 19,
   "metadata": {
    "collapsed": false
   },
   "outputs": [
    {
     "name": "stdout",
     "output_type": "stream",
     "text": [
      "Epoch 10.  VI Objective: -6.847\n",
      "Epoch 20.  VI Objective: -5.910\n",
      "Epoch 30.  VI Objective: -3.985\n",
      "Epoch 40.  VI Objective: -0.801\n",
      "Epoch 50.  VI Objective: 0.069\n",
      "Epoch 60.  VI Objective: 0.176\n",
      "Epoch 70.  VI Objective: 0.294\n",
      "Epoch 80.  VI Objective: 0.365\n",
      "Epoch 90.  VI Objective: 0.613\n",
      "Epoch 100.  VI Objective: 0.687\n",
      "Epoch 110.  VI Objective: 0.730\n",
      "Epoch 120.  VI Objective: 0.728\n",
      "Epoch 130.  VI Objective: 0.761\n",
      "Epoch 140.  VI Objective: 0.866\n",
      "Epoch 150.  VI Objective: 0.826\n",
      "Epoch 160.  VI Objective: 0.835\n",
      "Epoch 170.  VI Objective: 0.905\n",
      "Epoch 180.  VI Objective: 0.811\n",
      "Epoch 190.  VI Objective: 0.889\n",
      "Epoch 200.  VI Objective: 0.738\n",
      "Epoch 210.  VI Objective: 0.893\n",
      "Epoch 220.  VI Objective: 0.791\n",
      "Epoch 230.  VI Objective: 0.826\n",
      "Epoch 240.  VI Objective: 0.775\n",
      "Epoch 250.  VI Objective: 0.852\n",
      "Epoch 260.  VI Objective: 0.875\n",
      "Epoch 270.  VI Objective: 0.809\n",
      "Epoch 280.  VI Objective: 0.835\n",
      "Epoch 290.  VI Objective: 0.817\n",
      "Epoch 300.  VI Objective: 0.857\n",
      "Epoch 310.  VI Objective: 0.823\n",
      "Epoch 320.  VI Objective: 0.857\n",
      "Epoch 330.  VI Objective: 0.813\n",
      "Epoch 340.  VI Objective: 0.810\n",
      "Epoch 350.  VI Objective: 0.769\n",
      "Epoch 360.  VI Objective: 0.813\n",
      "Epoch 370.  VI Objective: 0.748\n",
      "Epoch 380.  VI Objective: 0.769\n",
      "Epoch 390.  VI Objective: 0.830\n",
      "Epoch 400.  VI Objective: 0.885\n",
      "Epoch 410.  VI Objective: 0.823\n",
      "Epoch 420.  VI Objective: 0.860\n",
      "Epoch 430.  VI Objective: 0.792\n",
      "Epoch 440.  VI Objective: 0.871\n",
      "Epoch 450.  VI Objective: 0.886\n",
      "Epoch 460.  VI Objective: 0.821\n",
      "Epoch 470.  VI Objective: 0.779\n",
      "Epoch 480.  VI Objective: 0.854\n",
      "Epoch 490.  VI Objective: 0.859\n",
      "Epoch 500.  VI Objective: 0.789\n"
     ]
    }
   ],
   "source": [
    "# Set training params\n",
    "n_epochs = 500\n",
    "learning_rate = .01\n",
    "\n",
    "# get the training operator\n",
    "train_model = tf.train.AdamOptimizer(learning_rate).minimize(-objective_fn, \\\n",
    "                    var_list=[params['h']['W'], params['h']['U'], params['h']['b'], \n",
    "                     params['mu']['W'], params['mu']['b'],\n",
    "                      params['sigma']['W'], params['sigma']['b'],\n",
    "                      params['pi']['W'], params['pi']['b']])\n",
    "\n",
    "\n",
    "with tf.Session() as session:\n",
    "    tf.initialize_all_variables().run()\n",
    "    \n",
    "    obj_tracker = 0.\n",
    "    for epoch_idx in xrange(n_epochs):\n",
    "        \n",
    "        # perform update\n",
    "        _, obj, ll, ent_lb, ent_mix = session.run([train_model, objective_fn, expected_ll, ent_lb_term, ent_mix_weights], feed_dict={X: np.ones((5,1))})\n",
    "        obj_tracker += obj\n",
    "        #print ll\n",
    "        #print ent_lb\n",
    "        #print ent_mix\n",
    "    \n",
    "        if (epoch_idx+1) % 10 == 0:\n",
    "            print \"Epoch %d.  VI Objective: %.3f\" %(epoch_idx+1, obj_tracker/10)\n",
    "            obj_tracker = 0.\n",
    "\n",
    "    m, s, p = session.run([final_mus, final_sigmas, final_pis], feed_dict={X: np.ones((5,1))})"
   ]
  },
  {
   "cell_type": "markdown",
   "metadata": {},
   "source": [
    "The first axis just holds a fake mini-batch. Just throw it away..."
   ]
  },
  {
   "cell_type": "code",
   "execution_count": 20,
   "metadata": {
    "collapsed": false
   },
   "outputs": [
    {
     "name": "stdout",
     "output_type": "stream",
     "text": [
      "Mu: [[ 2.96060419  2.94474125  2.92776346  2.9197979   2.91609573  2.91437531\n",
      "   2.91357565  2.91320419  2.91303158  2.91295099]]\n",
      "Sigma: [[ 2.32730865  2.30049777  2.2816875   2.2729094   2.26883268  2.26693892\n",
      "   2.26605892  2.26565003  2.26545978  2.26537156]]\n",
      "Pis: [[ 0.06004326  0.06350251  0.06307739  0.06028133  0.05657892  0.05266014\n",
      "   0.04882195  0.04518153  0.04177733  0.03861451]]\n"
     ]
    }
   ],
   "source": [
    "m, s, p = m[0, :, :], s[0, :, :], p[0, :, :]\n",
    "\n",
    "print \"Mu: \"+str(m)\n",
    "print \"Sigma: \"+str(s)\n",
    "print \"Pis: \"+str(p)"
   ]
  },
  {
   "cell_type": "markdown",
   "metadata": {},
   "source": [
    "Let's visualize the approximation..."
   ]
  },
  {
   "cell_type": "code",
   "execution_count": 21,
   "metadata": {
    "collapsed": false
   },
   "outputs": [
    {
     "data": {
      "image/png": "[encoded data removed]",
      "text/plain": [
       "<matplotlib.figure.Figure at 0x12da8b790>"
      ]
     },
     "metadata": {},
     "output_type": "display_data"
    }
   ],
   "source": [
    "from scipy.stats import norm\n",
    "\n",
    "probs_approx = [np.sum([p[0,k] * norm.pdf(z, loc=m[0, k], scale=s[0,k]) for k in range(max_n_loops)]) for z in z_grid]\n",
    "\n",
    "plt.figure()\n",
    "\n",
    "plt.plot(z_grid, probs_true, 'b-', linewidth=5, label=\"True Posterior\")\n",
    "plt.plot(z_grid, probs_approx, 'r-', linewidth=5, label=\"Approximation\")\n",
    "\n",
    "plt.xlabel(\"Z\")\n",
    "plt.xlim([-10,10])\n",
    "plt.ylim([0,.25])\n",
    "plt.legend()\n",
    "\n",
    "plt.show()"
   ]
  }
 ],
 "metadata": {
  "kernelspec": {
   "display_name": "Python 2",
   "language": "python",
   "name": "python2"
  },
  "language_info": {
   "codemirror_mode": {
    "name": "ipython",
    "version": 2
   },
   "file_extension": ".py",
   "mimetype": "text/x-python",
   "name": "python",
   "nbconvert_exporter": "python",
   "pygments_lexer": "ipython2",
   "version": "2.7.11"
  }
 },
 "nbformat": 4,
 "nbformat_minor": 1
}
